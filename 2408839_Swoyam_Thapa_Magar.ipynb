{
  "nbformat": 4,
  "nbformat_minor": 0,
  "metadata": {
    "colab": {
      "provenance": []
    },
    "kernelspec": {
      "name": "python3",
      "display_name": "Python 3"
    },
    "language_info": {
      "name": "python"
    }
  },
  "cells": [
    {
      "cell_type": "markdown",
      "source": [
        "3 Tasks - To - Do:\n",
        "\n",
        "Please Solve all the Problems as instructed:\n",
        "\n",
        "3.1 Problem - 1:\n",
        "Getting Started with Data Exploration\n",
        "- Some Warm up\n",
        "Exercises:\n",
        "1. Data Exploration and Understanding:\n",
        "\n",
        "  • Dataset Overview:"
      ],
      "metadata": {
        "id": "hCX99_EgedXM"
      }
    },
    {
      "cell_type": "markdown",
      "source": [
        "1. Load the dataset and display the first 10 rows"
      ],
      "metadata": {
        "id": "hCwIBFMZelVN"
      }
    },
    {
      "cell_type": "code",
      "execution_count": 1,
      "metadata": {
        "id": "LBT7R6JuZgzi",
        "colab": {
          "base_uri": "https://localhost:8080/",
          "height": 363
        },
        "outputId": "6cbd2418-97ed-40b7-b9a3-421363b91640"
      },
      "outputs": [
        {
          "output_type": "execute_result",
          "data": {
            "text/plain": [
              "  Country name  score  Log GDP per capita  Social support  \\\n",
              "0      Finland  7.741               1.844           1.572   \n",
              "1      Denmark  7.583               1.908           1.520   \n",
              "2      Iceland  7.525               1.881           1.617   \n",
              "3       Sweden  7.344               1.878           1.501   \n",
              "4       Israel  7.341               1.803           1.513   \n",
              "5  Netherlands  7.319               1.901           1.462   \n",
              "6       Norway  7.302               1.952           1.517   \n",
              "7   Luxembourg  7.122               2.141           1.355   \n",
              "8  Switzerland  7.060               1.970           1.425   \n",
              "9    Australia  7.057               1.854           1.461   \n",
              "\n",
              "   Healthy life expectancy  Freedom to make life choices  Generosity  \\\n",
              "0                    0.695                         0.859       0.142   \n",
              "1                    0.699                         0.823       0.204   \n",
              "2                    0.718                         0.819       0.258   \n",
              "3                    0.724                         0.838       0.221   \n",
              "4                    0.740                         0.641       0.153   \n",
              "5                    0.706                         0.725       0.247   \n",
              "6                    0.704                         0.835       0.224   \n",
              "7                    0.708                         0.801       0.146   \n",
              "8                    0.747                         0.759       0.173   \n",
              "9                    0.692                         0.756       0.225   \n",
              "\n",
              "   Perceptions of corruption  Dystopia + residual  \n",
              "0                      0.546                2.082  \n",
              "1                      0.548                1.881  \n",
              "2                      0.182                2.050  \n",
              "3                      0.524                1.658  \n",
              "4                      0.193                2.298  \n",
              "5                      0.372                1.906  \n",
              "6                      0.484                1.586  \n",
              "7                      0.432                1.540  \n",
              "8                      0.498                1.488  \n",
              "9                      0.323                1.745  "
            ],
            "text/html": [
              "\n",
              "  <div id=\"df-6c16de05-714b-4d89-a1eb-0b019d5af290\" class=\"colab-df-container\">\n",
              "    <div>\n",
              "<style scoped>\n",
              "    .dataframe tbody tr th:only-of-type {\n",
              "        vertical-align: middle;\n",
              "    }\n",
              "\n",
              "    .dataframe tbody tr th {\n",
              "        vertical-align: top;\n",
              "    }\n",
              "\n",
              "    .dataframe thead th {\n",
              "        text-align: right;\n",
              "    }\n",
              "</style>\n",
              "<table border=\"1\" class=\"dataframe\">\n",
              "  <thead>\n",
              "    <tr style=\"text-align: right;\">\n",
              "      <th></th>\n",
              "      <th>Country name</th>\n",
              "      <th>score</th>\n",
              "      <th>Log GDP per capita</th>\n",
              "      <th>Social support</th>\n",
              "      <th>Healthy life expectancy</th>\n",
              "      <th>Freedom to make life choices</th>\n",
              "      <th>Generosity</th>\n",
              "      <th>Perceptions of corruption</th>\n",
              "      <th>Dystopia + residual</th>\n",
              "    </tr>\n",
              "  </thead>\n",
              "  <tbody>\n",
              "    <tr>\n",
              "      <th>0</th>\n",
              "      <td>Finland</td>\n",
              "      <td>7.741</td>\n",
              "      <td>1.844</td>\n",
              "      <td>1.572</td>\n",
              "      <td>0.695</td>\n",
              "      <td>0.859</td>\n",
              "      <td>0.142</td>\n",
              "      <td>0.546</td>\n",
              "      <td>2.082</td>\n",
              "    </tr>\n",
              "    <tr>\n",
              "      <th>1</th>\n",
              "      <td>Denmark</td>\n",
              "      <td>7.583</td>\n",
              "      <td>1.908</td>\n",
              "      <td>1.520</td>\n",
              "      <td>0.699</td>\n",
              "      <td>0.823</td>\n",
              "      <td>0.204</td>\n",
              "      <td>0.548</td>\n",
              "      <td>1.881</td>\n",
              "    </tr>\n",
              "    <tr>\n",
              "      <th>2</th>\n",
              "      <td>Iceland</td>\n",
              "      <td>7.525</td>\n",
              "      <td>1.881</td>\n",
              "      <td>1.617</td>\n",
              "      <td>0.718</td>\n",
              "      <td>0.819</td>\n",
              "      <td>0.258</td>\n",
              "      <td>0.182</td>\n",
              "      <td>2.050</td>\n",
              "    </tr>\n",
              "    <tr>\n",
              "      <th>3</th>\n",
              "      <td>Sweden</td>\n",
              "      <td>7.344</td>\n",
              "      <td>1.878</td>\n",
              "      <td>1.501</td>\n",
              "      <td>0.724</td>\n",
              "      <td>0.838</td>\n",
              "      <td>0.221</td>\n",
              "      <td>0.524</td>\n",
              "      <td>1.658</td>\n",
              "    </tr>\n",
              "    <tr>\n",
              "      <th>4</th>\n",
              "      <td>Israel</td>\n",
              "      <td>7.341</td>\n",
              "      <td>1.803</td>\n",
              "      <td>1.513</td>\n",
              "      <td>0.740</td>\n",
              "      <td>0.641</td>\n",
              "      <td>0.153</td>\n",
              "      <td>0.193</td>\n",
              "      <td>2.298</td>\n",
              "    </tr>\n",
              "    <tr>\n",
              "      <th>5</th>\n",
              "      <td>Netherlands</td>\n",
              "      <td>7.319</td>\n",
              "      <td>1.901</td>\n",
              "      <td>1.462</td>\n",
              "      <td>0.706</td>\n",
              "      <td>0.725</td>\n",
              "      <td>0.247</td>\n",
              "      <td>0.372</td>\n",
              "      <td>1.906</td>\n",
              "    </tr>\n",
              "    <tr>\n",
              "      <th>6</th>\n",
              "      <td>Norway</td>\n",
              "      <td>7.302</td>\n",
              "      <td>1.952</td>\n",
              "      <td>1.517</td>\n",
              "      <td>0.704</td>\n",
              "      <td>0.835</td>\n",
              "      <td>0.224</td>\n",
              "      <td>0.484</td>\n",
              "      <td>1.586</td>\n",
              "    </tr>\n",
              "    <tr>\n",
              "      <th>7</th>\n",
              "      <td>Luxembourg</td>\n",
              "      <td>7.122</td>\n",
              "      <td>2.141</td>\n",
              "      <td>1.355</td>\n",
              "      <td>0.708</td>\n",
              "      <td>0.801</td>\n",
              "      <td>0.146</td>\n",
              "      <td>0.432</td>\n",
              "      <td>1.540</td>\n",
              "    </tr>\n",
              "    <tr>\n",
              "      <th>8</th>\n",
              "      <td>Switzerland</td>\n",
              "      <td>7.060</td>\n",
              "      <td>1.970</td>\n",
              "      <td>1.425</td>\n",
              "      <td>0.747</td>\n",
              "      <td>0.759</td>\n",
              "      <td>0.173</td>\n",
              "      <td>0.498</td>\n",
              "      <td>1.488</td>\n",
              "    </tr>\n",
              "    <tr>\n",
              "      <th>9</th>\n",
              "      <td>Australia</td>\n",
              "      <td>7.057</td>\n",
              "      <td>1.854</td>\n",
              "      <td>1.461</td>\n",
              "      <td>0.692</td>\n",
              "      <td>0.756</td>\n",
              "      <td>0.225</td>\n",
              "      <td>0.323</td>\n",
              "      <td>1.745</td>\n",
              "    </tr>\n",
              "  </tbody>\n",
              "</table>\n",
              "</div>\n",
              "    <div class=\"colab-df-buttons\">\n",
              "\n",
              "  <div class=\"colab-df-container\">\n",
              "    <button class=\"colab-df-convert\" onclick=\"convertToInteractive('df-6c16de05-714b-4d89-a1eb-0b019d5af290')\"\n",
              "            title=\"Convert this dataframe to an interactive table.\"\n",
              "            style=\"display:none;\">\n",
              "\n",
              "  <svg xmlns=\"http://www.w3.org/2000/svg\" height=\"24px\" viewBox=\"0 -960 960 960\">\n",
              "    <path d=\"M120-120v-720h720v720H120Zm60-500h600v-160H180v160Zm220 220h160v-160H400v160Zm0 220h160v-160H400v160ZM180-400h160v-160H180v160Zm440 0h160v-160H620v160ZM180-180h160v-160H180v160Zm440 0h160v-160H620v160Z\"/>\n",
              "  </svg>\n",
              "    </button>\n",
              "\n",
              "  <style>\n",
              "    .colab-df-container {\n",
              "      display:flex;\n",
              "      gap: 12px;\n",
              "    }\n",
              "\n",
              "    .colab-df-convert {\n",
              "      background-color: #E8F0FE;\n",
              "      border: none;\n",
              "      border-radius: 50%;\n",
              "      cursor: pointer;\n",
              "      display: none;\n",
              "      fill: #1967D2;\n",
              "      height: 32px;\n",
              "      padding: 0 0 0 0;\n",
              "      width: 32px;\n",
              "    }\n",
              "\n",
              "    .colab-df-convert:hover {\n",
              "      background-color: #E2EBFA;\n",
              "      box-shadow: 0px 1px 2px rgba(60, 64, 67, 0.3), 0px 1px 3px 1px rgba(60, 64, 67, 0.15);\n",
              "      fill: #174EA6;\n",
              "    }\n",
              "\n",
              "    .colab-df-buttons div {\n",
              "      margin-bottom: 4px;\n",
              "    }\n",
              "\n",
              "    [theme=dark] .colab-df-convert {\n",
              "      background-color: #3B4455;\n",
              "      fill: #D2E3FC;\n",
              "    }\n",
              "\n",
              "    [theme=dark] .colab-df-convert:hover {\n",
              "      background-color: #434B5C;\n",
              "      box-shadow: 0px 1px 3px 1px rgba(0, 0, 0, 0.15);\n",
              "      filter: drop-shadow(0px 1px 2px rgba(0, 0, 0, 0.3));\n",
              "      fill: #FFFFFF;\n",
              "    }\n",
              "  </style>\n",
              "\n",
              "    <script>\n",
              "      const buttonEl =\n",
              "        document.querySelector('#df-6c16de05-714b-4d89-a1eb-0b019d5af290 button.colab-df-convert');\n",
              "      buttonEl.style.display =\n",
              "        google.colab.kernel.accessAllowed ? 'block' : 'none';\n",
              "\n",
              "      async function convertToInteractive(key) {\n",
              "        const element = document.querySelector('#df-6c16de05-714b-4d89-a1eb-0b019d5af290');\n",
              "        const dataTable =\n",
              "          await google.colab.kernel.invokeFunction('convertToInteractive',\n",
              "                                                    [key], {});\n",
              "        if (!dataTable) return;\n",
              "\n",
              "        const docLinkHtml = 'Like what you see? Visit the ' +\n",
              "          '<a target=\"_blank\" href=https://colab.research.google.com/notebooks/data_table.ipynb>data table notebook</a>'\n",
              "          + ' to learn more about interactive tables.';\n",
              "        element.innerHTML = '';\n",
              "        dataTable['output_type'] = 'display_data';\n",
              "        await google.colab.output.renderOutput(dataTable, element);\n",
              "        const docLink = document.createElement('div');\n",
              "        docLink.innerHTML = docLinkHtml;\n",
              "        element.appendChild(docLink);\n",
              "      }\n",
              "    </script>\n",
              "  </div>\n",
              "\n",
              "\n",
              "<div id=\"df-5e289f98-bc45-4dd7-b9ea-cfe447f054d8\">\n",
              "  <button class=\"colab-df-quickchart\" onclick=\"quickchart('df-5e289f98-bc45-4dd7-b9ea-cfe447f054d8')\"\n",
              "            title=\"Suggest charts\"\n",
              "            style=\"display:none;\">\n",
              "\n",
              "<svg xmlns=\"http://www.w3.org/2000/svg\" height=\"24px\"viewBox=\"0 0 24 24\"\n",
              "     width=\"24px\">\n",
              "    <g>\n",
              "        <path d=\"M19 3H5c-1.1 0-2 .9-2 2v14c0 1.1.9 2 2 2h14c1.1 0 2-.9 2-2V5c0-1.1-.9-2-2-2zM9 17H7v-7h2v7zm4 0h-2V7h2v10zm4 0h-2v-4h2v4z\"/>\n",
              "    </g>\n",
              "</svg>\n",
              "  </button>\n",
              "\n",
              "<style>\n",
              "  .colab-df-quickchart {\n",
              "      --bg-color: #E8F0FE;\n",
              "      --fill-color: #1967D2;\n",
              "      --hover-bg-color: #E2EBFA;\n",
              "      --hover-fill-color: #174EA6;\n",
              "      --disabled-fill-color: #AAA;\n",
              "      --disabled-bg-color: #DDD;\n",
              "  }\n",
              "\n",
              "  [theme=dark] .colab-df-quickchart {\n",
              "      --bg-color: #3B4455;\n",
              "      --fill-color: #D2E3FC;\n",
              "      --hover-bg-color: #434B5C;\n",
              "      --hover-fill-color: #FFFFFF;\n",
              "      --disabled-bg-color: #3B4455;\n",
              "      --disabled-fill-color: #666;\n",
              "  }\n",
              "\n",
              "  .colab-df-quickchart {\n",
              "    background-color: var(--bg-color);\n",
              "    border: none;\n",
              "    border-radius: 50%;\n",
              "    cursor: pointer;\n",
              "    display: none;\n",
              "    fill: var(--fill-color);\n",
              "    height: 32px;\n",
              "    padding: 0;\n",
              "    width: 32px;\n",
              "  }\n",
              "\n",
              "  .colab-df-quickchart:hover {\n",
              "    background-color: var(--hover-bg-color);\n",
              "    box-shadow: 0 1px 2px rgba(60, 64, 67, 0.3), 0 1px 3px 1px rgba(60, 64, 67, 0.15);\n",
              "    fill: var(--button-hover-fill-color);\n",
              "  }\n",
              "\n",
              "  .colab-df-quickchart-complete:disabled,\n",
              "  .colab-df-quickchart-complete:disabled:hover {\n",
              "    background-color: var(--disabled-bg-color);\n",
              "    fill: var(--disabled-fill-color);\n",
              "    box-shadow: none;\n",
              "  }\n",
              "\n",
              "  .colab-df-spinner {\n",
              "    border: 2px solid var(--fill-color);\n",
              "    border-color: transparent;\n",
              "    border-bottom-color: var(--fill-color);\n",
              "    animation:\n",
              "      spin 1s steps(1) infinite;\n",
              "  }\n",
              "\n",
              "  @keyframes spin {\n",
              "    0% {\n",
              "      border-color: transparent;\n",
              "      border-bottom-color: var(--fill-color);\n",
              "      border-left-color: var(--fill-color);\n",
              "    }\n",
              "    20% {\n",
              "      border-color: transparent;\n",
              "      border-left-color: var(--fill-color);\n",
              "      border-top-color: var(--fill-color);\n",
              "    }\n",
              "    30% {\n",
              "      border-color: transparent;\n",
              "      border-left-color: var(--fill-color);\n",
              "      border-top-color: var(--fill-color);\n",
              "      border-right-color: var(--fill-color);\n",
              "    }\n",
              "    40% {\n",
              "      border-color: transparent;\n",
              "      border-right-color: var(--fill-color);\n",
              "      border-top-color: var(--fill-color);\n",
              "    }\n",
              "    60% {\n",
              "      border-color: transparent;\n",
              "      border-right-color: var(--fill-color);\n",
              "    }\n",
              "    80% {\n",
              "      border-color: transparent;\n",
              "      border-right-color: var(--fill-color);\n",
              "      border-bottom-color: var(--fill-color);\n",
              "    }\n",
              "    90% {\n",
              "      border-color: transparent;\n",
              "      border-bottom-color: var(--fill-color);\n",
              "    }\n",
              "  }\n",
              "</style>\n",
              "\n",
              "  <script>\n",
              "    async function quickchart(key) {\n",
              "      const quickchartButtonEl =\n",
              "        document.querySelector('#' + key + ' button');\n",
              "      quickchartButtonEl.disabled = true;  // To prevent multiple clicks.\n",
              "      quickchartButtonEl.classList.add('colab-df-spinner');\n",
              "      try {\n",
              "        const charts = await google.colab.kernel.invokeFunction(\n",
              "            'suggestCharts', [key], {});\n",
              "      } catch (error) {\n",
              "        console.error('Error during call to suggestCharts:', error);\n",
              "      }\n",
              "      quickchartButtonEl.classList.remove('colab-df-spinner');\n",
              "      quickchartButtonEl.classList.add('colab-df-quickchart-complete');\n",
              "    }\n",
              "    (() => {\n",
              "      let quickchartButtonEl =\n",
              "        document.querySelector('#df-5e289f98-bc45-4dd7-b9ea-cfe447f054d8 button');\n",
              "      quickchartButtonEl.style.display =\n",
              "        google.colab.kernel.accessAllowed ? 'block' : 'none';\n",
              "    })();\n",
              "  </script>\n",
              "</div>\n",
              "\n",
              "    </div>\n",
              "  </div>\n"
            ],
            "application/vnd.google.colaboratory.intrinsic+json": {
              "type": "dataframe",
              "variable_name": "data_frame",
              "summary": "{\n  \"name\": \"data_frame\",\n  \"rows\": 143,\n  \"fields\": [\n    {\n      \"column\": \"Country name\",\n      \"properties\": {\n        \"dtype\": \"string\",\n        \"num_unique_values\": 143,\n        \"samples\": [\n          \"Myanmar\",\n          \"United Kingdom\",\n          \"South Africa\"\n        ],\n        \"semantic_type\": \"\",\n        \"description\": \"\"\n      }\n    },\n    {\n      \"column\": \"score\",\n      \"properties\": {\n        \"dtype\": \"number\",\n        \"std\": 1.1707165099442995,\n        \"min\": 1.721,\n        \"max\": 7.741,\n        \"num_unique_values\": 140,\n        \"samples\": [\n          4.505,\n          5.823,\n          6.491\n        ],\n        \"semantic_type\": \"\",\n        \"description\": \"\"\n      }\n    },\n    {\n      \"column\": \"Log GDP per capita\",\n      \"properties\": {\n        \"dtype\": \"number\",\n        \"std\": 0.4250983279640385,\n        \"min\": 0.0,\n        \"max\": 2.141,\n        \"num_unique_values\": 134,\n        \"samples\": [\n          0.617,\n          1.385,\n          0.75\n        ],\n        \"semantic_type\": \"\",\n        \"description\": \"\"\n      }\n    },\n    {\n      \"column\": \"Social support\",\n      \"properties\": {\n        \"dtype\": \"number\",\n        \"std\": 0.3333171290682772,\n        \"min\": 0.0,\n        \"max\": 1.617,\n        \"num_unique_values\": 124,\n        \"samples\": [\n          1.454,\n          1.394,\n          1.328\n        ],\n        \"semantic_type\": \"\",\n        \"description\": \"\"\n      }\n    },\n    {\n      \"column\": \"Healthy life expectancy\",\n      \"properties\": {\n        \"dtype\": \"number\",\n        \"std\": 0.16492252751586103,\n        \"min\": 0.0,\n        \"max\": 0.857,\n        \"num_unique_values\": 119,\n        \"samples\": [\n          0.662,\n          0.293,\n          0.74\n        ],\n        \"semantic_type\": \"\",\n        \"description\": \"\"\n      }\n    },\n    {\n      \"column\": \"Freedom to make life choices\",\n      \"properties\": {\n        \"dtype\": \"number\",\n        \"std\": 0.1624918135340067,\n        \"min\": 0.0,\n        \"max\": 0.863,\n        \"num_unique_values\": 122,\n        \"samples\": [\n          0.533,\n          0.681,\n          0.529\n        ],\n        \"semantic_type\": \"\",\n        \"description\": \"\"\n      }\n    },\n    {\n      \"column\": \"Generosity\",\n      \"properties\": {\n        \"dtype\": \"number\",\n        \"std\": 0.07344129382188384,\n        \"min\": 0.0,\n        \"max\": 0.401,\n        \"num_unique_values\": 110,\n        \"samples\": [\n          0.141,\n          0.226,\n          0.153\n        ],\n        \"semantic_type\": \"\",\n        \"description\": \"\"\n      }\n    },\n    {\n      \"column\": \"Perceptions of corruption\",\n      \"properties\": {\n        \"dtype\": \"number\",\n        \"std\": 0.12623818231503292,\n        \"min\": 0.0,\n        \"max\": 0.575,\n        \"num_unique_values\": 112,\n        \"samples\": [\n          0.078,\n          0.118,\n          0.193\n        ],\n        \"semantic_type\": \"\",\n        \"description\": \"\"\n      }\n    },\n    {\n      \"column\": \"Dystopia + residual\",\n      \"properties\": {\n        \"dtype\": \"number\",\n        \"std\": 0.5374585074928712,\n        \"min\": -0.073,\n        \"max\": 2.998,\n        \"num_unique_values\": 134,\n        \"samples\": [\n          0.066,\n          1.795,\n          2.122\n        ],\n        \"semantic_type\": \"\",\n        \"description\": \"\"\n      }\n    }\n  ]\n}"
            }
          },
          "metadata": {},
          "execution_count": 1
        }
      ],
      "source": [
        "import pandas as pd\n",
        "data_frame= pd.read_csv(\"/content/drive/MyDrive/AI/Resources/Assignment1/WHR-2024-5CS037.csv\")\n",
        "data_frame.head(10)"
      ]
    },
    {
      "cell_type": "markdown",
      "source": [
        "2. Identify the number of rows and columns in the dataset.\n"
      ],
      "metadata": {
        "id": "BbKffqM0epcT"
      }
    },
    {
      "cell_type": "code",
      "source": [
        "row, column = data_frame.shape\n",
        "print(\"row:\", row)\n",
        "print(\"column:\", column)\n"
      ],
      "metadata": {
        "colab": {
          "base_uri": "https://localhost:8080/"
        },
        "id": "aRH7dsLybpkZ",
        "outputId": "bf7d1016-ec3c-44e9-9822-6268c03d039a"
      },
      "execution_count": null,
      "outputs": [
        {
          "output_type": "stream",
          "name": "stdout",
          "text": [
            "row: 143\n",
            "column: 9\n"
          ]
        }
      ]
    },
    {
      "cell_type": "markdown",
      "source": [
        "3. List all the columns and their data types."
      ],
      "metadata": {
        "id": "31S4fuPges5z"
      }
    },
    {
      "cell_type": "code",
      "source": [
        "print(data_frame.dtypes)"
      ],
      "metadata": {
        "colab": {
          "base_uri": "https://localhost:8080/"
        },
        "id": "bJx1Fl0ddfGe",
        "outputId": "4a5266c0-2738-4b83-98c3-97612828c530"
      },
      "execution_count": null,
      "outputs": [
        {
          "output_type": "stream",
          "name": "stdout",
          "text": [
            "Country name                     object\n",
            "score                           float64\n",
            "Log GDP per capita              float64\n",
            "Social support                  float64\n",
            "Healthy life expectancy         float64\n",
            "Freedom to make life choices    float64\n",
            "Generosity                      float64\n",
            "Perceptions of corruption       float64\n",
            "Dystopia + residual             float64\n",
            "dtype: object\n"
          ]
        }
      ]
    },
    {
      "cell_type": "markdown",
      "source": [
        "• Basic Statistics:\n",
        "1. Calculate the mean, median, and standard deviation for the Score column."
      ],
      "metadata": {
        "id": "R34Ui7opewuI"
      }
    },
    {
      "cell_type": "code",
      "source": [
        "mean= data_frame['score'].mean()\n",
        "median= data_frame['score'].median()\n",
        "std= data_frame['score'].std()\n",
        "print(\"Mean:\", mean)\n",
        "print(\"Median:\", median)\n",
        "print(\"Standard Deviation:\", std)"
      ],
      "metadata": {
        "colab": {
          "base_uri": "https://localhost:8080/"
        },
        "id": "H7reV5JheUjc",
        "outputId": "af760fec-e38a-4e24-e425-d0be85f3733a"
      },
      "execution_count": null,
      "outputs": [
        {
          "output_type": "stream",
          "name": "stdout",
          "text": [
            "Mean: 5.52758041958042\n",
            "Median: 5.785\n",
            "Standard Deviation: 1.1707165099442995\n"
          ]
        }
      ]
    },
    {
      "cell_type": "markdown",
      "source": [
        "2. Identify the country with the highest and lowest happiness scores."
      ],
      "metadata": {
        "id": "8lrt8nRafATc"
      }
    },
    {
      "cell_type": "code",
      "source": [
        "highest_score = data_frame[data_frame['score'] == data_frame['score'].max()]\n",
        "lowest_score = data_frame[data_frame['score'] == data_frame['score'].min()]\n",
        "print(\"Country with highest score:\\n\", highest_score[['Country name', 'score']])\n",
        "print(\"\\nCountry with lowest score:\\n\", lowest_score[['Country name', 'score']])\n"
      ],
      "metadata": {
        "colab": {
          "base_uri": "https://localhost:8080/"
        },
        "id": "dyS5KXVEfEIs",
        "outputId": "42610df4-66d0-4cac-fd40-17ea0fb58abe"
      },
      "execution_count": null,
      "outputs": [
        {
          "output_type": "stream",
          "name": "stdout",
          "text": [
            "Country with highest score:\n",
            "   Country name  score\n",
            "0      Finland  7.741\n",
            "\n",
            "Country with lowest score:\n",
            "     Country name  score\n",
            "142  Afghanistan  1.721\n"
          ]
        }
      ]
    },
    {
      "cell_type": "markdown",
      "source": [
        "• Missing Values:\n",
        "1. Check if there are any missing values in the dataset. If so, display the total count for each column."
      ],
      "metadata": {
        "id": "AVbFuYMBhYb8"
      }
    },
    {
      "cell_type": "code",
      "source": [
        "print(data_frame.isnull().sum())"
      ],
      "metadata": {
        "colab": {
          "base_uri": "https://localhost:8080/"
        },
        "id": "N6yf2v9Ghcdq",
        "outputId": "544feddc-fdeb-4ddb-8a6e-9a22491415f4"
      },
      "execution_count": null,
      "outputs": [
        {
          "output_type": "stream",
          "name": "stdout",
          "text": [
            "Country name                    0\n",
            "score                           0\n",
            "Log GDP per capita              3\n",
            "Social support                  3\n",
            "Healthy life expectancy         3\n",
            "Freedom to make life choices    3\n",
            "Generosity                      3\n",
            "Perceptions of corruption       3\n",
            "Dystopia + residual             3\n",
            "dtype: int64\n"
          ]
        }
      ]
    },
    {
      "cell_type": "markdown",
      "source": [
        "• Filtering and Sorting:\n",
        "1. Filter the dataset to show only the countries with a Score greater than 7.5."
      ],
      "metadata": {
        "id": "zmYXH1wwhnh5"
      }
    },
    {
      "cell_type": "code",
      "source": [
        "Filter_df= data_frame[data_frame['score'] > 7.5]\n",
        "print(Filter_df['Country name'])"
      ],
      "metadata": {
        "colab": {
          "base_uri": "https://localhost:8080/"
        },
        "id": "hph8fOBJhqv5",
        "outputId": "e312fbfd-2c4b-4a17-ebd9-4636b17ff102"
      },
      "execution_count": null,
      "outputs": [
        {
          "output_type": "stream",
          "name": "stdout",
          "text": [
            "0    Finland\n",
            "1    Denmark\n",
            "2    Iceland\n",
            "Name: Country name, dtype: object\n"
          ]
        }
      ]
    },
    {
      "cell_type": "markdown",
      "source": [
        "2. For the filtered dataset - Sort the dataset by GDP per Capita in descending order and display the\n",
        "top 10 rows.\n"
      ],
      "metadata": {
        "id": "sLfIEwVwhp8S"
      }
    },
    {
      "cell_type": "code",
      "source": [
        "sorted_data= data_frame.sort_values(by='Log GDP per capita', ascending=False)\n",
        "sorted_data.head(10)"
      ],
      "metadata": {
        "colab": {
          "base_uri": "https://localhost:8080/",
          "height": 363
        },
        "id": "KEoivrtoiEPD",
        "outputId": "96bd2caf-183c-4dc1-ce85-c5f5460639b9"
      },
      "execution_count": null,
      "outputs": [
        {
          "output_type": "execute_result",
          "data": {
            "text/plain": [
              "                 Country name  score  Log GDP per capita  Social support  \\\n",
              "7                  Luxembourg  7.122               2.141           1.355   \n",
              "16                    Ireland  6.838               2.129           1.390   \n",
              "29                  Singapore  6.523               2.118           1.361   \n",
              "21       United Arab Emirates  6.733               1.983           1.164   \n",
              "8                 Switzerland  7.060               1.970           1.425   \n",
              "6                      Norway  7.302               1.952           1.517   \n",
              "22              United States  6.725               1.939           1.392   \n",
              "85  Hong Kong S.A.R. of China  5.316               1.909           1.184   \n",
              "1                     Denmark  7.583               1.908           1.520   \n",
              "5                 Netherlands  7.319               1.901           1.462   \n",
              "\n",
              "    Healthy life expectancy  Freedom to make life choices  Generosity  \\\n",
              "7                     0.708                         0.801       0.146   \n",
              "16                    0.700                         0.758       0.205   \n",
              "29                    0.769                         0.743       0.168   \n",
              "21                    0.563                         0.815       0.209   \n",
              "8                     0.747                         0.759       0.173   \n",
              "6                     0.704                         0.835       0.224   \n",
              "22                    0.542                         0.586       0.223   \n",
              "85                    0.857                         0.485       0.147   \n",
              "1                     0.699                         0.823       0.204   \n",
              "5                     0.706                         0.725       0.247   \n",
              "\n",
              "    Perceptions of corruption  Dystopia + residual  \n",
              "7                       0.432                1.540  \n",
              "16                      0.418                1.239  \n",
              "29                      0.575                0.788  \n",
              "21                      0.258                1.741  \n",
              "8                       0.498                1.488  \n",
              "6                       0.484                1.586  \n",
              "22                      0.169                1.873  \n",
              "85                      0.402                0.333  \n",
              "1                       0.548                1.881  \n",
              "5                       0.372                1.906  "
            ],
            "text/html": [
              "\n",
              "  <div id=\"df-58d1d326-66f3-4842-8516-fc1be0ecaad9\" class=\"colab-df-container\">\n",
              "    <div>\n",
              "<style scoped>\n",
              "    .dataframe tbody tr th:only-of-type {\n",
              "        vertical-align: middle;\n",
              "    }\n",
              "\n",
              "    .dataframe tbody tr th {\n",
              "        vertical-align: top;\n",
              "    }\n",
              "\n",
              "    .dataframe thead th {\n",
              "        text-align: right;\n",
              "    }\n",
              "</style>\n",
              "<table border=\"1\" class=\"dataframe\">\n",
              "  <thead>\n",
              "    <tr style=\"text-align: right;\">\n",
              "      <th></th>\n",
              "      <th>Country name</th>\n",
              "      <th>score</th>\n",
              "      <th>Log GDP per capita</th>\n",
              "      <th>Social support</th>\n",
              "      <th>Healthy life expectancy</th>\n",
              "      <th>Freedom to make life choices</th>\n",
              "      <th>Generosity</th>\n",
              "      <th>Perceptions of corruption</th>\n",
              "      <th>Dystopia + residual</th>\n",
              "    </tr>\n",
              "  </thead>\n",
              "  <tbody>\n",
              "    <tr>\n",
              "      <th>7</th>\n",
              "      <td>Luxembourg</td>\n",
              "      <td>7.122</td>\n",
              "      <td>2.141</td>\n",
              "      <td>1.355</td>\n",
              "      <td>0.708</td>\n",
              "      <td>0.801</td>\n",
              "      <td>0.146</td>\n",
              "      <td>0.432</td>\n",
              "      <td>1.540</td>\n",
              "    </tr>\n",
              "    <tr>\n",
              "      <th>16</th>\n",
              "      <td>Ireland</td>\n",
              "      <td>6.838</td>\n",
              "      <td>2.129</td>\n",
              "      <td>1.390</td>\n",
              "      <td>0.700</td>\n",
              "      <td>0.758</td>\n",
              "      <td>0.205</td>\n",
              "      <td>0.418</td>\n",
              "      <td>1.239</td>\n",
              "    </tr>\n",
              "    <tr>\n",
              "      <th>29</th>\n",
              "      <td>Singapore</td>\n",
              "      <td>6.523</td>\n",
              "      <td>2.118</td>\n",
              "      <td>1.361</td>\n",
              "      <td>0.769</td>\n",
              "      <td>0.743</td>\n",
              "      <td>0.168</td>\n",
              "      <td>0.575</td>\n",
              "      <td>0.788</td>\n",
              "    </tr>\n",
              "    <tr>\n",
              "      <th>21</th>\n",
              "      <td>United Arab Emirates</td>\n",
              "      <td>6.733</td>\n",
              "      <td>1.983</td>\n",
              "      <td>1.164</td>\n",
              "      <td>0.563</td>\n",
              "      <td>0.815</td>\n",
              "      <td>0.209</td>\n",
              "      <td>0.258</td>\n",
              "      <td>1.741</td>\n",
              "    </tr>\n",
              "    <tr>\n",
              "      <th>8</th>\n",
              "      <td>Switzerland</td>\n",
              "      <td>7.060</td>\n",
              "      <td>1.970</td>\n",
              "      <td>1.425</td>\n",
              "      <td>0.747</td>\n",
              "      <td>0.759</td>\n",
              "      <td>0.173</td>\n",
              "      <td>0.498</td>\n",
              "      <td>1.488</td>\n",
              "    </tr>\n",
              "    <tr>\n",
              "      <th>6</th>\n",
              "      <td>Norway</td>\n",
              "      <td>7.302</td>\n",
              "      <td>1.952</td>\n",
              "      <td>1.517</td>\n",
              "      <td>0.704</td>\n",
              "      <td>0.835</td>\n",
              "      <td>0.224</td>\n",
              "      <td>0.484</td>\n",
              "      <td>1.586</td>\n",
              "    </tr>\n",
              "    <tr>\n",
              "      <th>22</th>\n",
              "      <td>United States</td>\n",
              "      <td>6.725</td>\n",
              "      <td>1.939</td>\n",
              "      <td>1.392</td>\n",
              "      <td>0.542</td>\n",
              "      <td>0.586</td>\n",
              "      <td>0.223</td>\n",
              "      <td>0.169</td>\n",
              "      <td>1.873</td>\n",
              "    </tr>\n",
              "    <tr>\n",
              "      <th>85</th>\n",
              "      <td>Hong Kong S.A.R. of China</td>\n",
              "      <td>5.316</td>\n",
              "      <td>1.909</td>\n",
              "      <td>1.184</td>\n",
              "      <td>0.857</td>\n",
              "      <td>0.485</td>\n",
              "      <td>0.147</td>\n",
              "      <td>0.402</td>\n",
              "      <td>0.333</td>\n",
              "    </tr>\n",
              "    <tr>\n",
              "      <th>1</th>\n",
              "      <td>Denmark</td>\n",
              "      <td>7.583</td>\n",
              "      <td>1.908</td>\n",
              "      <td>1.520</td>\n",
              "      <td>0.699</td>\n",
              "      <td>0.823</td>\n",
              "      <td>0.204</td>\n",
              "      <td>0.548</td>\n",
              "      <td>1.881</td>\n",
              "    </tr>\n",
              "    <tr>\n",
              "      <th>5</th>\n",
              "      <td>Netherlands</td>\n",
              "      <td>7.319</td>\n",
              "      <td>1.901</td>\n",
              "      <td>1.462</td>\n",
              "      <td>0.706</td>\n",
              "      <td>0.725</td>\n",
              "      <td>0.247</td>\n",
              "      <td>0.372</td>\n",
              "      <td>1.906</td>\n",
              "    </tr>\n",
              "  </tbody>\n",
              "</table>\n",
              "</div>\n",
              "    <div class=\"colab-df-buttons\">\n",
              "\n",
              "  <div class=\"colab-df-container\">\n",
              "    <button class=\"colab-df-convert\" onclick=\"convertToInteractive('df-58d1d326-66f3-4842-8516-fc1be0ecaad9')\"\n",
              "            title=\"Convert this dataframe to an interactive table.\"\n",
              "            style=\"display:none;\">\n",
              "\n",
              "  <svg xmlns=\"http://www.w3.org/2000/svg\" height=\"24px\" viewBox=\"0 -960 960 960\">\n",
              "    <path d=\"M120-120v-720h720v720H120Zm60-500h600v-160H180v160Zm220 220h160v-160H400v160Zm0 220h160v-160H400v160ZM180-400h160v-160H180v160Zm440 0h160v-160H620v160ZM180-180h160v-160H180v160Zm440 0h160v-160H620v160Z\"/>\n",
              "  </svg>\n",
              "    </button>\n",
              "\n",
              "  <style>\n",
              "    .colab-df-container {\n",
              "      display:flex;\n",
              "      gap: 12px;\n",
              "    }\n",
              "\n",
              "    .colab-df-convert {\n",
              "      background-color: #E8F0FE;\n",
              "      border: none;\n",
              "      border-radius: 50%;\n",
              "      cursor: pointer;\n",
              "      display: none;\n",
              "      fill: #1967D2;\n",
              "      height: 32px;\n",
              "      padding: 0 0 0 0;\n",
              "      width: 32px;\n",
              "    }\n",
              "\n",
              "    .colab-df-convert:hover {\n",
              "      background-color: #E2EBFA;\n",
              "      box-shadow: 0px 1px 2px rgba(60, 64, 67, 0.3), 0px 1px 3px 1px rgba(60, 64, 67, 0.15);\n",
              "      fill: #174EA6;\n",
              "    }\n",
              "\n",
              "    .colab-df-buttons div {\n",
              "      margin-bottom: 4px;\n",
              "    }\n",
              "\n",
              "    [theme=dark] .colab-df-convert {\n",
              "      background-color: #3B4455;\n",
              "      fill: #D2E3FC;\n",
              "    }\n",
              "\n",
              "    [theme=dark] .colab-df-convert:hover {\n",
              "      background-color: #434B5C;\n",
              "      box-shadow: 0px 1px 3px 1px rgba(0, 0, 0, 0.15);\n",
              "      filter: drop-shadow(0px 1px 2px rgba(0, 0, 0, 0.3));\n",
              "      fill: #FFFFFF;\n",
              "    }\n",
              "  </style>\n",
              "\n",
              "    <script>\n",
              "      const buttonEl =\n",
              "        document.querySelector('#df-58d1d326-66f3-4842-8516-fc1be0ecaad9 button.colab-df-convert');\n",
              "      buttonEl.style.display =\n",
              "        google.colab.kernel.accessAllowed ? 'block' : 'none';\n",
              "\n",
              "      async function convertToInteractive(key) {\n",
              "        const element = document.querySelector('#df-58d1d326-66f3-4842-8516-fc1be0ecaad9');\n",
              "        const dataTable =\n",
              "          await google.colab.kernel.invokeFunction('convertToInteractive',\n",
              "                                                    [key], {});\n",
              "        if (!dataTable) return;\n",
              "\n",
              "        const docLinkHtml = 'Like what you see? Visit the ' +\n",
              "          '<a target=\"_blank\" href=https://colab.research.google.com/notebooks/data_table.ipynb>data table notebook</a>'\n",
              "          + ' to learn more about interactive tables.';\n",
              "        element.innerHTML = '';\n",
              "        dataTable['output_type'] = 'display_data';\n",
              "        await google.colab.output.renderOutput(dataTable, element);\n",
              "        const docLink = document.createElement('div');\n",
              "        docLink.innerHTML = docLinkHtml;\n",
              "        element.appendChild(docLink);\n",
              "      }\n",
              "    </script>\n",
              "  </div>\n",
              "\n",
              "\n",
              "<div id=\"df-c5bd4191-b243-4c4c-82fd-aeb1cb1b2132\">\n",
              "  <button class=\"colab-df-quickchart\" onclick=\"quickchart('df-c5bd4191-b243-4c4c-82fd-aeb1cb1b2132')\"\n",
              "            title=\"Suggest charts\"\n",
              "            style=\"display:none;\">\n",
              "\n",
              "<svg xmlns=\"http://www.w3.org/2000/svg\" height=\"24px\"viewBox=\"0 0 24 24\"\n",
              "     width=\"24px\">\n",
              "    <g>\n",
              "        <path d=\"M19 3H5c-1.1 0-2 .9-2 2v14c0 1.1.9 2 2 2h14c1.1 0 2-.9 2-2V5c0-1.1-.9-2-2-2zM9 17H7v-7h2v7zm4 0h-2V7h2v10zm4 0h-2v-4h2v4z\"/>\n",
              "    </g>\n",
              "</svg>\n",
              "  </button>\n",
              "\n",
              "<style>\n",
              "  .colab-df-quickchart {\n",
              "      --bg-color: #E8F0FE;\n",
              "      --fill-color: #1967D2;\n",
              "      --hover-bg-color: #E2EBFA;\n",
              "      --hover-fill-color: #174EA6;\n",
              "      --disabled-fill-color: #AAA;\n",
              "      --disabled-bg-color: #DDD;\n",
              "  }\n",
              "\n",
              "  [theme=dark] .colab-df-quickchart {\n",
              "      --bg-color: #3B4455;\n",
              "      --fill-color: #D2E3FC;\n",
              "      --hover-bg-color: #434B5C;\n",
              "      --hover-fill-color: #FFFFFF;\n",
              "      --disabled-bg-color: #3B4455;\n",
              "      --disabled-fill-color: #666;\n",
              "  }\n",
              "\n",
              "  .colab-df-quickchart {\n",
              "    background-color: var(--bg-color);\n",
              "    border: none;\n",
              "    border-radius: 50%;\n",
              "    cursor: pointer;\n",
              "    display: none;\n",
              "    fill: var(--fill-color);\n",
              "    height: 32px;\n",
              "    padding: 0;\n",
              "    width: 32px;\n",
              "  }\n",
              "\n",
              "  .colab-df-quickchart:hover {\n",
              "    background-color: var(--hover-bg-color);\n",
              "    box-shadow: 0 1px 2px rgba(60, 64, 67, 0.3), 0 1px 3px 1px rgba(60, 64, 67, 0.15);\n",
              "    fill: var(--button-hover-fill-color);\n",
              "  }\n",
              "\n",
              "  .colab-df-quickchart-complete:disabled,\n",
              "  .colab-df-quickchart-complete:disabled:hover {\n",
              "    background-color: var(--disabled-bg-color);\n",
              "    fill: var(--disabled-fill-color);\n",
              "    box-shadow: none;\n",
              "  }\n",
              "\n",
              "  .colab-df-spinner {\n",
              "    border: 2px solid var(--fill-color);\n",
              "    border-color: transparent;\n",
              "    border-bottom-color: var(--fill-color);\n",
              "    animation:\n",
              "      spin 1s steps(1) infinite;\n",
              "  }\n",
              "\n",
              "  @keyframes spin {\n",
              "    0% {\n",
              "      border-color: transparent;\n",
              "      border-bottom-color: var(--fill-color);\n",
              "      border-left-color: var(--fill-color);\n",
              "    }\n",
              "    20% {\n",
              "      border-color: transparent;\n",
              "      border-left-color: var(--fill-color);\n",
              "      border-top-color: var(--fill-color);\n",
              "    }\n",
              "    30% {\n",
              "      border-color: transparent;\n",
              "      border-left-color: var(--fill-color);\n",
              "      border-top-color: var(--fill-color);\n",
              "      border-right-color: var(--fill-color);\n",
              "    }\n",
              "    40% {\n",
              "      border-color: transparent;\n",
              "      border-right-color: var(--fill-color);\n",
              "      border-top-color: var(--fill-color);\n",
              "    }\n",
              "    60% {\n",
              "      border-color: transparent;\n",
              "      border-right-color: var(--fill-color);\n",
              "    }\n",
              "    80% {\n",
              "      border-color: transparent;\n",
              "      border-right-color: var(--fill-color);\n",
              "      border-bottom-color: var(--fill-color);\n",
              "    }\n",
              "    90% {\n",
              "      border-color: transparent;\n",
              "      border-bottom-color: var(--fill-color);\n",
              "    }\n",
              "  }\n",
              "</style>\n",
              "\n",
              "  <script>\n",
              "    async function quickchart(key) {\n",
              "      const quickchartButtonEl =\n",
              "        document.querySelector('#' + key + ' button');\n",
              "      quickchartButtonEl.disabled = true;  // To prevent multiple clicks.\n",
              "      quickchartButtonEl.classList.add('colab-df-spinner');\n",
              "      try {\n",
              "        const charts = await google.colab.kernel.invokeFunction(\n",
              "            'suggestCharts', [key], {});\n",
              "      } catch (error) {\n",
              "        console.error('Error during call to suggestCharts:', error);\n",
              "      }\n",
              "      quickchartButtonEl.classList.remove('colab-df-spinner');\n",
              "      quickchartButtonEl.classList.add('colab-df-quickchart-complete');\n",
              "    }\n",
              "    (() => {\n",
              "      let quickchartButtonEl =\n",
              "        document.querySelector('#df-c5bd4191-b243-4c4c-82fd-aeb1cb1b2132 button');\n",
              "      quickchartButtonEl.style.display =\n",
              "        google.colab.kernel.accessAllowed ? 'block' : 'none';\n",
              "    })();\n",
              "  </script>\n",
              "</div>\n",
              "\n",
              "    </div>\n",
              "  </div>\n"
            ],
            "application/vnd.google.colaboratory.intrinsic+json": {
              "type": "dataframe",
              "variable_name": "sorted_data",
              "summary": "{\n  \"name\": \"sorted_data\",\n  \"rows\": 143,\n  \"fields\": [\n    {\n      \"column\": \"Country name\",\n      \"properties\": {\n        \"dtype\": \"string\",\n        \"num_unique_values\": 143,\n        \"samples\": [\n          \"Comoros\",\n          \"Taiwan Province of China\",\n          \"Ukraine\"\n        ],\n        \"semantic_type\": \"\",\n        \"description\": \"\"\n      }\n    },\n    {\n      \"column\": \"score\",\n      \"properties\": {\n        \"dtype\": \"number\",\n        \"std\": 1.1707165099442995,\n        \"min\": 1.721,\n        \"max\": 7.741,\n        \"num_unique_values\": 140,\n        \"samples\": [\n          4.341,\n          4.923,\n          6.822\n        ],\n        \"semantic_type\": \"\",\n        \"description\": \"\"\n      }\n    },\n    {\n      \"column\": \"Log GDP per capita\",\n      \"properties\": {\n        \"dtype\": \"number\",\n        \"std\": 0.4250983279640384,\n        \"min\": 0.0,\n        \"max\": 2.141,\n        \"num_unique_values\": 134,\n        \"samples\": [\n          0.619,\n          1.43,\n          1.037\n        ],\n        \"semantic_type\": \"\",\n        \"description\": \"\"\n      }\n    },\n    {\n      \"column\": \"Social support\",\n      \"properties\": {\n        \"dtype\": \"number\",\n        \"std\": 0.33331712906827726,\n        \"min\": 0.0,\n        \"max\": 1.617,\n        \"num_unique_values\": 124,\n        \"samples\": [\n          1.459,\n          1.351,\n          1.54\n        ],\n        \"semantic_type\": \"\",\n        \"description\": \"\"\n      }\n    },\n    {\n      \"column\": \"Healthy life expectancy\",\n      \"properties\": {\n        \"dtype\": \"number\",\n        \"std\": 0.164922527515861,\n        \"min\": 0.0,\n        \"max\": 0.857,\n        \"num_unique_values\": 119,\n        \"samples\": [\n          0.603,\n          0.256,\n          0.747\n        ],\n        \"semantic_type\": \"\",\n        \"description\": \"\"\n      }\n    },\n    {\n      \"column\": \"Freedom to make life choices\",\n      \"properties\": {\n        \"dtype\": \"number\",\n        \"std\": 0.1624918135340067,\n        \"min\": 0.0,\n        \"max\": 0.863,\n        \"num_unique_values\": 122,\n        \"samples\": [\n          0.787,\n          0.551,\n          0.733\n        ],\n        \"semantic_type\": \"\",\n        \"description\": \"\"\n      }\n    },\n    {\n      \"column\": \"Generosity\",\n      \"properties\": {\n        \"dtype\": \"number\",\n        \"std\": 0.07344129382188384,\n        \"min\": 0.0,\n        \"max\": 0.401,\n        \"num_unique_values\": 110,\n        \"samples\": [\n          0.059,\n          0.214,\n          0.173\n        ],\n        \"semantic_type\": \"\",\n        \"description\": \"\"\n      }\n    },\n    {\n      \"column\": \"Perceptions of corruption\",\n      \"properties\": {\n        \"dtype\": \"number\",\n        \"std\": 0.12623818231503298,\n        \"min\": 0.0,\n        \"max\": 0.575,\n        \"num_unique_values\": 112,\n        \"samples\": [\n          0.078,\n          0.142,\n          0.498\n        ],\n        \"semantic_type\": \"\",\n        \"description\": \"\"\n      }\n    },\n    {\n      \"column\": \"Dystopia + residual\",\n      \"properties\": {\n        \"dtype\": \"number\",\n        \"std\": 0.537458507492871,\n        \"min\": -0.073,\n        \"max\": 2.998,\n        \"num_unique_values\": 134,\n        \"samples\": [\n          1.878,\n          1.057,\n          1.316\n        ],\n        \"semantic_type\": \"\",\n        \"description\": \"\"\n      }\n    }\n  ]\n}"
            }
          },
          "metadata": {},
          "execution_count": 8
        }
      ]
    },
    {
      "cell_type": "markdown",
      "source": [
        "• Adding New Columns:\n",
        "1. Create a new column called Happiness Category that categorizes countries into three categories\n",
        "based on their Score:\n",
        "\n",
        "    Low − (Score < 4)\n",
        "\n",
        "    Medium − (4 ≤ Score ≤ 6)\n",
        "\n",
        "    High − (Score > 6)\n"
      ],
      "metadata": {
        "id": "GCJdyGPximpx"
      }
    },
    {
      "cell_type": "code",
      "source": [
        "def categorize_happiness(score):\n",
        "    if score < 4:\n",
        "        return 'Low'\n",
        "    elif 4 <= score <= 6:\n",
        "        return 'Medium'\n",
        "    else:\n",
        "        return 'High'\n",
        "\n",
        "data_frame['Happiness Category']=data_frame['score'].apply(categorize_happiness)\n",
        "print(data_frame[['Country name','score','Happiness Category']])"
      ],
      "metadata": {
        "colab": {
          "base_uri": "https://localhost:8080/"
        },
        "id": "kgq20n3sivQY",
        "outputId": "8787609c-d6e7-4c5f-f875-5603ae6396e2"
      },
      "execution_count": null,
      "outputs": [
        {
          "output_type": "stream",
          "name": "stdout",
          "text": [
            "         Country name  score Happiness Category\n",
            "0             Finland  7.741               High\n",
            "1             Denmark  7.583               High\n",
            "2             Iceland  7.525               High\n",
            "3              Sweden  7.344               High\n",
            "4              Israel  7.341               High\n",
            "..                ...    ...                ...\n",
            "138  Congo (Kinshasa)  3.295                Low\n",
            "139      Sierra Leone  3.245                Low\n",
            "140           Lesotho  3.186                Low\n",
            "141           Lebanon  2.707                Low\n",
            "142       Afghanistan  1.721                Low\n",
            "\n",
            "[143 rows x 3 columns]\n"
          ]
        }
      ]
    },
    {
      "cell_type": "markdown",
      "source": [
        "2. Data Visualizations:\n",
        "\n",
        "• Bar Plot: Plot the top 10 happiest countries by Score using a bar chart.\n",
        "\n"
      ],
      "metadata": {
        "id": "KQI2VPBRrAQx"
      }
    },
    {
      "cell_type": "code",
      "source": [
        "import matplotlib.pyplot as plt\n",
        "plt.figure(figsize=(15, 8))\n",
        "top_10_happiest= data_frame.nlargest(10, 'score')\n",
        "plt.bar(top_10_happiest['Country name'], top_10_happiest['score'], color='Blue')\n",
        "plt.title('Top 10 Happiest Countries by Score')\n",
        "plt.xlabel('Country name')\n",
        "plt.ylabel('Happiness Score')\n",
        "plt.show()"
      ],
      "metadata": {
        "colab": {
          "base_uri": "https://localhost:8080/",
          "height": 718
        },
        "id": "JqbYgJxVrE2m",
        "outputId": "d4e7d35f-6b43-4ee0-b1c7-a6f14708710b"
      },
      "execution_count": 2,
      "outputs": [
        {
          "output_type": "display_data",
          "data": {
            "text/plain": [
              "<Figure size 1500x800 with 1 Axes>"
            ],
            "image/png": "[encoded data removed]"
          },
          "metadata": {}
        }
      ]
    },
    {
      "cell_type": "markdown",
      "source": [
        "• Line Plot: Plot the top 10 unhappiest countries by Score using a Line chart.\n",
        "\n"
      ],
      "metadata": {
        "id": "Kt5DYc34SNeU"
      }
    },
    {
      "cell_type": "code",
      "source": [
        "import seaborn as sns\n",
        "\n",
        "top_10_unhappiest = data_frame.nsmallest(10, 'score')\n",
        "plt.figure(figsize=(15, 8))\n",
        "sns.lineplot(x='Country name', y='score', data=top_10_unhappiest, marker='o', color='red')\n",
        "plt.title('Top 10 Unhappiest Countries by Score')\n",
        "plt.xlabel('Country')\n",
        "plt.ylabel('Happiness Score')\n",
        "plt.show()"
      ],
      "metadata": {
        "colab": {
          "base_uri": "https://localhost:8080/",
          "height": 718
        },
        "id": "p0m2EqjVz-eJ",
        "outputId": "c57485c5-e016-419a-935d-f64ff803602c"
      },
      "execution_count": null,
      "outputs": [
        {
          "output_type": "display_data",
          "data": {
            "text/plain": [
              "<Figure size 1500x800 with 1 Axes>"
            ],
            "image/png": "[encoded data removed]"
          },
          "metadata": {}
        }
      ]
    },
    {
      "cell_type": "markdown",
      "source": [
        "• Plot a histogram for the Score column to show its distribution and also\n",
        "interpret.\n"
      ],
      "metadata": {
        "id": "rpt20cGiSTDG"
      }
    },
    {
      "cell_type": "code",
      "source": [
        "plt.figure(figsize=(10, 6))\n",
        "sns.histplot(data_frame['score'], kde= True, bins=10, color='green', edgecolor='black')\n",
        "plt.title('Distribution of Happiness Scores')\n",
        "plt.xlabel('Happiness Score')\n",
        "plt.ylabel('Frequency')\n",
        "plt.show()"
      ],
      "metadata": {
        "colab": {
          "base_uri": "https://localhost:8080/",
          "height": 564
        },
        "id": "yVtDenku4SaW",
        "outputId": "da14f080-99d3-4222-aa15-6e847b97ce99"
      },
      "execution_count": null,
      "outputs": [
        {
          "output_type": "display_data",
          "data": {
            "text/plain": [
              "<Figure size 1000x600 with 1 Axes>"
            ],
            "image/png": "[encoded data removed]"
          },
          "metadata": {}
        }
      ]
    },
    {
      "cell_type": "markdown",
      "source": [
        "In the following histogram, majority of the data is grouped around 5-7 which shows that the distribution to be right-skewed.\n",
        "A tail pointing in the direction of the lower scores (2–4) indicates that there are fewer instances of low scores. Although there aren't many low scores (around 2) in relation to the rest of the data, they don't appear to be significant enough to be considered strong outliers."
      ],
      "metadata": {
        "id": "W39YA30upOHe"
      }
    },
    {
      "cell_type": "markdown",
      "source": [
        "\n",
        "• Scatter Plot: Plot a scatter plot between GDP per Capita and Score to visualize their relationship"
      ],
      "metadata": {
        "id": "s11SWfXZSWmK"
      }
    },
    {
      "cell_type": "code",
      "source": [
        "plt.figure(figsize=(10, 6))\n",
        "plt.scatter(data_frame['Log GDP per capita'], data_frame['score'], color='purple')\n",
        "plt.title('GDP per Capita vs. Happiness Score')\n",
        "plt.xlabel('Log GDP per Capita')\n",
        "plt.ylabel('Happiness Score')\n",
        "plt.show()"
      ],
      "metadata": {
        "colab": {
          "base_uri": "https://localhost:8080/",
          "height": 564
        },
        "id": "8UXtefDJ7lry",
        "outputId": "0f97f3c3-6758-40a0-bf8d-bfb060e9bde1"
      },
      "execution_count": null,
      "outputs": [
        {
          "output_type": "display_data",
          "data": {
            "text/plain": [
              "<Figure size 1000x600 with 1 Axes>"
            ],
            "image/png": "[encoded data removed]"
          },
          "metadata": {}
        }
      ]
    },
    {
      "cell_type": "markdown",
      "source": [
        "3.2 Problem - 2 - Some Advance Data Exploration Task:\n",
        "\n",
        "Task - 1 - Setup Task - Preparing the South-Asia Dataset:\n",
        "\n",
        "Steps:\n",
        "\n",
        "1. Define the countries in South Asia with a list for example:\n",
        "south asian countries = [\"Afghanistan\", \"Bangladesh\", \"Bhutan\", \"India\",\n",
        "\"Maldives\", \"Nepal\", \"Pakistan\", \"Srilanka\"]\n",
        "\n",
        "2. Use the list from step - 1 to filtered the dataset {i.e. filtered out matching dataset from list.}\n",
        "\n",
        "3. Save the filtered dataframe as separate CSV files for future use.\n"
      ],
      "metadata": {
        "id": "i1EceamKDEHl"
      }
    },
    {
      "cell_type": "code",
      "source": [
        "south_asian_countries = [\"Afghanistan\", \"Bangladesh\", \"Bhutan\", \"India\", \"Maldives\", \"Nepal\", \"Pakistan\", \"Sri Lanka\"]\n",
        "south_asian_data = data_frame[data_frame['Country name'].isin(south_asian_countries)]\n",
        "south_asian_data.to_csv('/content/drive/MyDrive/AI/Resources/Assignment1/southAsianCountries.csv', index=False)"
      ],
      "metadata": {
        "id": "y2R7bmLODpLj"
      },
      "execution_count": 3,
      "outputs": []
    },
    {
      "cell_type": "code",
      "source": [
        "SouthAsia_df= pd.read_csv('/content/drive/MyDrive/AI/Resources/Assignment1/southAsianCountries.csv')\n",
        "SouthAsia_df"
      ],
      "metadata": {
        "colab": {
          "base_uri": "https://localhost:8080/",
          "height": 238
        },
        "id": "Fix7ohq6GDMo",
        "outputId": "8c7c9300-241c-4523-d126-c6fbd78177a8"
      },
      "execution_count": 4,
      "outputs": [
        {
          "output_type": "execute_result",
          "data": {
            "text/plain": [
              "  Country name  score  Log GDP per capita  Social support  \\\n",
              "0        Nepal  5.158               0.965           0.990   \n",
              "1     Pakistan  4.657               1.069           0.600   \n",
              "2        India  4.054               1.166           0.653   \n",
              "3    Sri Lanka  3.898               1.361           1.179   \n",
              "4   Bangladesh  3.886               1.122           0.249   \n",
              "5  Afghanistan  1.721               0.628           0.000   \n",
              "\n",
              "   Healthy life expectancy  Freedom to make life choices  Generosity  \\\n",
              "0                    0.443                         0.653       0.209   \n",
              "1                    0.321                         0.542       0.144   \n",
              "2                    0.417                         0.767       0.174   \n",
              "3                    0.586                         0.583       0.144   \n",
              "4                    0.513                         0.775       0.140   \n",
              "5                    0.242                         0.000       0.091   \n",
              "\n",
              "   Perceptions of corruption  Dystopia + residual  \n",
              "0                      0.115                1.783  \n",
              "1                      0.074                1.907  \n",
              "2                      0.122                0.756  \n",
              "3                      0.031                0.014  \n",
              "4                      0.167                0.919  \n",
              "5                      0.088                0.672  "
            ],
            "text/html": [
              "\n",
              "  <div id=\"df-7233dbf7-47d2-4a69-aeb3-e7145b233cac\" class=\"colab-df-container\">\n",
              "    <div>\n",
              "<style scoped>\n",
              "    .dataframe tbody tr th:only-of-type {\n",
              "        vertical-align: middle;\n",
              "    }\n",
              "\n",
              "    .dataframe tbody tr th {\n",
              "        vertical-align: top;\n",
              "    }\n",
              "\n",
              "    .dataframe thead th {\n",
              "        text-align: right;\n",
              "    }\n",
              "</style>\n",
              "<table border=\"1\" class=\"dataframe\">\n",
              "  <thead>\n",
              "    <tr style=\"text-align: right;\">\n",
              "      <th></th>\n",
              "      <th>Country name</th>\n",
              "      <th>score</th>\n",
              "      <th>Log GDP per capita</th>\n",
              "      <th>Social support</th>\n",
              "      <th>Healthy life expectancy</th>\n",
              "      <th>Freedom to make life choices</th>\n",
              "      <th>Generosity</th>\n",
              "      <th>Perceptions of corruption</th>\n",
              "      <th>Dystopia + residual</th>\n",
              "    </tr>\n",
              "  </thead>\n",
              "  <tbody>\n",
              "    <tr>\n",
              "      <th>0</th>\n",
              "      <td>Nepal</td>\n",
              "      <td>5.158</td>\n",
              "      <td>0.965</td>\n",
              "      <td>0.990</td>\n",
              "      <td>0.443</td>\n",
              "      <td>0.653</td>\n",
              "      <td>0.209</td>\n",
              "      <td>0.115</td>\n",
              "      <td>1.783</td>\n",
              "    </tr>\n",
              "    <tr>\n",
              "      <th>1</th>\n",
              "      <td>Pakistan</td>\n",
              "      <td>4.657</td>\n",
              "      <td>1.069</td>\n",
              "      <td>0.600</td>\n",
              "      <td>0.321</td>\n",
              "      <td>0.542</td>\n",
              "      <td>0.144</td>\n",
              "      <td>0.074</td>\n",
              "      <td>1.907</td>\n",
              "    </tr>\n",
              "    <tr>\n",
              "      <th>2</th>\n",
              "      <td>India</td>\n",
              "      <td>4.054</td>\n",
              "      <td>1.166</td>\n",
              "      <td>0.653</td>\n",
              "      <td>0.417</td>\n",
              "      <td>0.767</td>\n",
              "      <td>0.174</td>\n",
              "      <td>0.122</td>\n",
              "      <td>0.756</td>\n",
              "    </tr>\n",
              "    <tr>\n",
              "      <th>3</th>\n",
              "      <td>Sri Lanka</td>\n",
              "      <td>3.898</td>\n",
              "      <td>1.361</td>\n",
              "      <td>1.179</td>\n",
              "      <td>0.586</td>\n",
              "      <td>0.583</td>\n",
              "      <td>0.144</td>\n",
              "      <td>0.031</td>\n",
              "      <td>0.014</td>\n",
              "    </tr>\n",
              "    <tr>\n",
              "      <th>4</th>\n",
              "      <td>Bangladesh</td>\n",
              "      <td>3.886</td>\n",
              "      <td>1.122</td>\n",
              "      <td>0.249</td>\n",
              "      <td>0.513</td>\n",
              "      <td>0.775</td>\n",
              "      <td>0.140</td>\n",
              "      <td>0.167</td>\n",
              "      <td>0.919</td>\n",
              "    </tr>\n",
              "    <tr>\n",
              "      <th>5</th>\n",
              "      <td>Afghanistan</td>\n",
              "      <td>1.721</td>\n",
              "      <td>0.628</td>\n",
              "      <td>0.000</td>\n",
              "      <td>0.242</td>\n",
              "      <td>0.000</td>\n",
              "      <td>0.091</td>\n",
              "      <td>0.088</td>\n",
              "      <td>0.672</td>\n",
              "    </tr>\n",
              "  </tbody>\n",
              "</table>\n",
              "</div>\n",
              "    <div class=\"colab-df-buttons\">\n",
              "\n",
              "  <div class=\"colab-df-container\">\n",
              "    <button class=\"colab-df-convert\" onclick=\"convertToInteractive('df-7233dbf7-47d2-4a69-aeb3-e7145b233cac')\"\n",
              "            title=\"Convert this dataframe to an interactive table.\"\n",
              "            style=\"display:none;\">\n",
              "\n",
              "  <svg xmlns=\"http://www.w3.org/2000/svg\" height=\"24px\" viewBox=\"0 -960 960 960\">\n",
              "    <path d=\"M120-120v-720h720v720H120Zm60-500h600v-160H180v160Zm220 220h160v-160H400v160Zm0 220h160v-160H400v160ZM180-400h160v-160H180v160Zm440 0h160v-160H620v160ZM180-180h160v-160H180v160Zm440 0h160v-160H620v160Z\"/>\n",
              "  </svg>\n",
              "    </button>\n",
              "\n",
              "  <style>\n",
              "    .colab-df-container {\n",
              "      display:flex;\n",
              "      gap: 12px;\n",
              "    }\n",
              "\n",
              "    .colab-df-convert {\n",
              "      background-color: #E8F0FE;\n",
              "      border: none;\n",
              "      border-radius: 50%;\n",
              "      cursor: pointer;\n",
              "      display: none;\n",
              "      fill: #1967D2;\n",
              "      height: 32px;\n",
              "      padding: 0 0 0 0;\n",
              "      width: 32px;\n",
              "    }\n",
              "\n",
              "    .colab-df-convert:hover {\n",
              "      background-color: #E2EBFA;\n",
              "      box-shadow: 0px 1px 2px rgba(60, 64, 67, 0.3), 0px 1px 3px 1px rgba(60, 64, 67, 0.15);\n",
              "      fill: #174EA6;\n",
              "    }\n",
              "\n",
              "    .colab-df-buttons div {\n",
              "      margin-bottom: 4px;\n",
              "    }\n",
              "\n",
              "    [theme=dark] .colab-df-convert {\n",
              "      background-color: #3B4455;\n",
              "      fill: #D2E3FC;\n",
              "    }\n",
              "\n",
              "    [theme=dark] .colab-df-convert:hover {\n",
              "      background-color: #434B5C;\n",
              "      box-shadow: 0px 1px 3px 1px rgba(0, 0, 0, 0.15);\n",
              "      filter: drop-shadow(0px 1px 2px rgba(0, 0, 0, 0.3));\n",
              "      fill: #FFFFFF;\n",
              "    }\n",
              "  </style>\n",
              "\n",
              "    <script>\n",
              "      const buttonEl =\n",
              "        document.querySelector('#df-7233dbf7-47d2-4a69-aeb3-e7145b233cac button.colab-df-convert');\n",
              "      buttonEl.style.display =\n",
              "        google.colab.kernel.accessAllowed ? 'block' : 'none';\n",
              "\n",
              "      async function convertToInteractive(key) {\n",
              "        const element = document.querySelector('#df-7233dbf7-47d2-4a69-aeb3-e7145b233cac');\n",
              "        const dataTable =\n",
              "          await google.colab.kernel.invokeFunction('convertToInteractive',\n",
              "                                                    [key], {});\n",
              "        if (!dataTable) return;\n",
              "\n",
              "        const docLinkHtml = 'Like what you see? Visit the ' +\n",
              "          '<a target=\"_blank\" href=https://colab.research.google.com/notebooks/data_table.ipynb>data table notebook</a>'\n",
              "          + ' to learn more about interactive tables.';\n",
              "        element.innerHTML = '';\n",
              "        dataTable['output_type'] = 'display_data';\n",
              "        await google.colab.output.renderOutput(dataTable, element);\n",
              "        const docLink = document.createElement('div');\n",
              "        docLink.innerHTML = docLinkHtml;\n",
              "        element.appendChild(docLink);\n",
              "      }\n",
              "    </script>\n",
              "  </div>\n",
              "\n",
              "\n",
              "<div id=\"df-66d41686-6a71-4e01-a1ba-e40cdd05d520\">\n",
              "  <button class=\"colab-df-quickchart\" onclick=\"quickchart('df-66d41686-6a71-4e01-a1ba-e40cdd05d520')\"\n",
              "            title=\"Suggest charts\"\n",
              "            style=\"display:none;\">\n",
              "\n",
              "<svg xmlns=\"http://www.w3.org/2000/svg\" height=\"24px\"viewBox=\"0 0 24 24\"\n",
              "     width=\"24px\">\n",
              "    <g>\n",
              "        <path d=\"M19 3H5c-1.1 0-2 .9-2 2v14c0 1.1.9 2 2 2h14c1.1 0 2-.9 2-2V5c0-1.1-.9-2-2-2zM9 17H7v-7h2v7zm4 0h-2V7h2v10zm4 0h-2v-4h2v4z\"/>\n",
              "    </g>\n",
              "</svg>\n",
              "  </button>\n",
              "\n",
              "<style>\n",
              "  .colab-df-quickchart {\n",
              "      --bg-color: #E8F0FE;\n",
              "      --fill-color: #1967D2;\n",
              "      --hover-bg-color: #E2EBFA;\n",
              "      --hover-fill-color: #174EA6;\n",
              "      --disabled-fill-color: #AAA;\n",
              "      --disabled-bg-color: #DDD;\n",
              "  }\n",
              "\n",
              "  [theme=dark] .colab-df-quickchart {\n",
              "      --bg-color: #3B4455;\n",
              "      --fill-color: #D2E3FC;\n",
              "      --hover-bg-color: #434B5C;\n",
              "      --hover-fill-color: #FFFFFF;\n",
              "      --disabled-bg-color: #3B4455;\n",
              "      --disabled-fill-color: #666;\n",
              "  }\n",
              "\n",
              "  .colab-df-quickchart {\n",
              "    background-color: var(--bg-color);\n",
              "    border: none;\n",
              "    border-radius: 50%;\n",
              "    cursor: pointer;\n",
              "    display: none;\n",
              "    fill: var(--fill-color);\n",
              "    height: 32px;\n",
              "    padding: 0;\n",
              "    width: 32px;\n",
              "  }\n",
              "\n",
              "  .colab-df-quickchart:hover {\n",
              "    background-color: var(--hover-bg-color);\n",
              "    box-shadow: 0 1px 2px rgba(60, 64, 67, 0.3), 0 1px 3px 1px rgba(60, 64, 67, 0.15);\n",
              "    fill: var(--button-hover-fill-color);\n",
              "  }\n",
              "\n",
              "  .colab-df-quickchart-complete:disabled,\n",
              "  .colab-df-quickchart-complete:disabled:hover {\n",
              "    background-color: var(--disabled-bg-color);\n",
              "    fill: var(--disabled-fill-color);\n",
              "    box-shadow: none;\n",
              "  }\n",
              "\n",
              "  .colab-df-spinner {\n",
              "    border: 2px solid var(--fill-color);\n",
              "    border-color: transparent;\n",
              "    border-bottom-color: var(--fill-color);\n",
              "    animation:\n",
              "      spin 1s steps(1) infinite;\n",
              "  }\n",
              "\n",
              "  @keyframes spin {\n",
              "    0% {\n",
              "      border-color: transparent;\n",
              "      border-bottom-color: var(--fill-color);\n",
              "      border-left-color: var(--fill-color);\n",
              "    }\n",
              "    20% {\n",
              "      border-color: transparent;\n",
              "      border-left-color: var(--fill-color);\n",
              "      border-top-color: var(--fill-color);\n",
              "    }\n",
              "    30% {\n",
              "      border-color: transparent;\n",
              "      border-left-color: var(--fill-color);\n",
              "      border-top-color: var(--fill-color);\n",
              "      border-right-color: var(--fill-color);\n",
              "    }\n",
              "    40% {\n",
              "      border-color: transparent;\n",
              "      border-right-color: var(--fill-color);\n",
              "      border-top-color: var(--fill-color);\n",
              "    }\n",
              "    60% {\n",
              "      border-color: transparent;\n",
              "      border-right-color: var(--fill-color);\n",
              "    }\n",
              "    80% {\n",
              "      border-color: transparent;\n",
              "      border-right-color: var(--fill-color);\n",
              "      border-bottom-color: var(--fill-color);\n",
              "    }\n",
              "    90% {\n",
              "      border-color: transparent;\n",
              "      border-bottom-color: var(--fill-color);\n",
              "    }\n",
              "  }\n",
              "</style>\n",
              "\n",
              "  <script>\n",
              "    async function quickchart(key) {\n",
              "      const quickchartButtonEl =\n",
              "        document.querySelector('#' + key + ' button');\n",
              "      quickchartButtonEl.disabled = true;  // To prevent multiple clicks.\n",
              "      quickchartButtonEl.classList.add('colab-df-spinner');\n",
              "      try {\n",
              "        const charts = await google.colab.kernel.invokeFunction(\n",
              "            'suggestCharts', [key], {});\n",
              "      } catch (error) {\n",
              "        console.error('Error during call to suggestCharts:', error);\n",
              "      }\n",
              "      quickchartButtonEl.classList.remove('colab-df-spinner');\n",
              "      quickchartButtonEl.classList.add('colab-df-quickchart-complete');\n",
              "    }\n",
              "    (() => {\n",
              "      let quickchartButtonEl =\n",
              "        document.querySelector('#df-66d41686-6a71-4e01-a1ba-e40cdd05d520 button');\n",
              "      quickchartButtonEl.style.display =\n",
              "        google.colab.kernel.accessAllowed ? 'block' : 'none';\n",
              "    })();\n",
              "  </script>\n",
              "</div>\n",
              "\n",
              "  <div id=\"id_251a749e-90ca-441a-bac1-f8d1203a74d3\">\n",
              "    <style>\n",
              "      .colab-df-generate {\n",
              "        background-color: #E8F0FE;\n",
              "        border: none;\n",
              "        border-radius: 50%;\n",
              "        cursor: pointer;\n",
              "        display: none;\n",
              "        fill: #1967D2;\n",
              "        height: 32px;\n",
              "        padding: 0 0 0 0;\n",
              "        width: 32px;\n",
              "      }\n",
              "\n",
              "      .colab-df-generate:hover {\n",
              "        background-color: #E2EBFA;\n",
              "        box-shadow: 0px 1px 2px rgba(60, 64, 67, 0.3), 0px 1px 3px 1px rgba(60, 64, 67, 0.15);\n",
              "        fill: #174EA6;\n",
              "      }\n",
              "\n",
              "      [theme=dark] .colab-df-generate {\n",
              "        background-color: #3B4455;\n",
              "        fill: #D2E3FC;\n",
              "      }\n",
              "\n",
              "      [theme=dark] .colab-df-generate:hover {\n",
              "        background-color: #434B5C;\n",
              "        box-shadow: 0px 1px 3px 1px rgba(0, 0, 0, 0.15);\n",
              "        filter: drop-shadow(0px 1px 2px rgba(0, 0, 0, 0.3));\n",
              "        fill: #FFFFFF;\n",
              "      }\n",
              "    </style>\n",
              "    <button class=\"colab-df-generate\" onclick=\"generateWithVariable('SouthAsia_df')\"\n",
              "            title=\"Generate code using this dataframe.\"\n",
              "            style=\"display:none;\">\n",
              "\n",
              "  <svg xmlns=\"http://www.w3.org/2000/svg\" height=\"24px\"viewBox=\"0 0 24 24\"\n",
              "       width=\"24px\">\n",
              "    <path d=\"M7,19H8.4L18.45,9,17,7.55,7,17.6ZM5,21V16.75L18.45,3.32a2,2,0,0,1,2.83,0l1.4,1.43a1.91,1.91,0,0,1,.58,1.4,1.91,1.91,0,0,1-.58,1.4L9.25,21ZM18.45,9,17,7.55Zm-12,3A5.31,5.31,0,0,0,4.9,8.1,5.31,5.31,0,0,0,1,6.5,5.31,5.31,0,0,0,4.9,4.9,5.31,5.31,0,0,0,6.5,1,5.31,5.31,0,0,0,8.1,4.9,5.31,5.31,0,0,0,12,6.5,5.46,5.46,0,0,0,6.5,12Z\"/>\n",
              "  </svg>\n",
              "    </button>\n",
              "    <script>\n",
              "      (() => {\n",
              "      const buttonEl =\n",
              "        document.querySelector('#id_251a749e-90ca-441a-bac1-f8d1203a74d3 button.colab-df-generate');\n",
              "      buttonEl.style.display =\n",
              "        google.colab.kernel.accessAllowed ? 'block' : 'none';\n",
              "\n",
              "      buttonEl.onclick = () => {\n",
              "        google.colab.notebook.generateWithVariable('SouthAsia_df');\n",
              "      }\n",
              "      })();\n",
              "    </script>\n",
              "  </div>\n",
              "\n",
              "    </div>\n",
              "  </div>\n"
            ],
            "application/vnd.google.colaboratory.intrinsic+json": {
              "type": "dataframe",
              "variable_name": "SouthAsia_df",
              "summary": "{\n  \"name\": \"SouthAsia_df\",\n  \"rows\": 6,\n  \"fields\": [\n    {\n      \"column\": \"Country name\",\n      \"properties\": {\n        \"dtype\": \"string\",\n        \"num_unique_values\": 6,\n        \"samples\": [\n          \"Nepal\",\n          \"Pakistan\",\n          \"Afghanistan\"\n        ],\n        \"semantic_type\": \"\",\n        \"description\": \"\"\n      }\n    },\n    {\n      \"column\": \"score\",\n      \"properties\": {\n        \"dtype\": \"number\",\n        \"std\": 1.1770690152521504,\n        \"min\": 1.721,\n        \"max\": 5.158,\n        \"num_unique_values\": 6,\n        \"samples\": [\n          5.158,\n          4.657,\n          1.721\n        ],\n        \"semantic_type\": \"\",\n        \"description\": \"\"\n      }\n    },\n    {\n      \"column\": \"Log GDP per capita\",\n      \"properties\": {\n        \"dtype\": \"number\",\n        \"std\": 0.2453612982250189,\n        \"min\": 0.628,\n        \"max\": 1.361,\n        \"num_unique_values\": 6,\n        \"samples\": [\n          0.965,\n          1.069,\n          0.628\n        ],\n        \"semantic_type\": \"\",\n        \"description\": \"\"\n      }\n    },\n    {\n      \"column\": \"Social support\",\n      \"properties\": {\n        \"dtype\": \"number\",\n        \"std\": 0.4410239978353408,\n        \"min\": 0.0,\n        \"max\": 1.179,\n        \"num_unique_values\": 6,\n        \"samples\": [\n          0.99,\n          0.6,\n          0.0\n        ],\n        \"semantic_type\": \"\",\n        \"description\": \"\"\n      }\n    },\n    {\n      \"column\": \"Healthy life expectancy\",\n      \"properties\": {\n        \"dtype\": \"number\",\n        \"std\": 0.1250818398756057,\n        \"min\": 0.242,\n        \"max\": 0.586,\n        \"num_unique_values\": 6,\n        \"samples\": [\n          0.443,\n          0.321,\n          0.242\n        ],\n        \"semantic_type\": \"\",\n        \"description\": \"\"\n      }\n    },\n    {\n      \"column\": \"Freedom to make life choices\",\n      \"properties\": {\n        \"dtype\": \"number\",\n        \"std\": 0.2870224149202753,\n        \"min\": 0.0,\n        \"max\": 0.775,\n        \"num_unique_values\": 6,\n        \"samples\": [\n          0.653,\n          0.542,\n          0.0\n        ],\n        \"semantic_type\": \"\",\n        \"description\": \"\"\n      }\n    },\n    {\n      \"column\": \"Generosity\",\n      \"properties\": {\n        \"dtype\": \"number\",\n        \"std\": 0.03926661007353024,\n        \"min\": 0.091,\n        \"max\": 0.209,\n        \"num_unique_values\": 5,\n        \"samples\": [\n          0.144,\n          0.091,\n          0.174\n        ],\n        \"semantic_type\": \"\",\n        \"description\": \"\"\n      }\n    },\n    {\n      \"column\": \"Perceptions of corruption\",\n      \"properties\": {\n        \"dtype\": \"number\",\n        \"std\": 0.046427362621626486,\n        \"min\": 0.031,\n        \"max\": 0.167,\n        \"num_unique_values\": 6,\n        \"samples\": [\n          0.115,\n          0.074,\n          0.088\n        ],\n        \"semantic_type\": \"\",\n        \"description\": \"\"\n      }\n    },\n    {\n      \"column\": \"Dystopia + residual\",\n      \"properties\": {\n        \"dtype\": \"number\",\n        \"std\": 0.718495859417436,\n        \"min\": 0.014,\n        \"max\": 1.907,\n        \"num_unique_values\": 6,\n        \"samples\": [\n          1.783,\n          1.907,\n          0.672\n        ],\n        \"semantic_type\": \"\",\n        \"description\": \"\"\n      }\n    }\n  ]\n}"
            }
          },
          "metadata": {},
          "execution_count": 4
        }
      ]
    },
    {
      "cell_type": "markdown",
      "source": [
        "Task - 2 - Composite Score Ranking:\n",
        "\n",
        "Tasks:\n",
        "\n",
        "1. Using the SouthAsia DataFrame, create a new column called Composite Score that combines the\n",
        "following metrics:\n",
        "Composite Score = 0.40 × GDP per Capita + 0.30 × Social Support+ 0.30 × Healthy Life Expectancy\n",
        "\n",
        "\n"
      ],
      "metadata": {
        "id": "nSlpXKMzGYl_"
      }
    },
    {
      "cell_type": "code",
      "source": [
        "SouthAsia_df['Composite Score']= 0.40 * SouthAsia_df['Log GDP per capita'] + 0.30 * SouthAsia_df['Social support'] + 0.30*SouthAsia_df['Healthy life expectancy']\n",
        "print(SouthAsia_df['Composite Score'])"
      ],
      "metadata": {
        "colab": {
          "base_uri": "https://localhost:8080/"
        },
        "id": "dVhN-MnDGnzu",
        "outputId": "ac1a8c50-fbf3-4869-e22a-d19e9a5b379c"
      },
      "execution_count": 5,
      "outputs": [
        {
          "output_type": "stream",
          "name": "stdout",
          "text": [
            "0    0.8159\n",
            "1    0.7039\n",
            "2    0.7874\n",
            "3    1.0739\n",
            "4    0.6774\n",
            "5    0.3238\n",
            "Name: Composite Score, dtype: float64\n"
          ]
        }
      ]
    },
    {
      "cell_type": "markdown",
      "source": [
        "2. Rank the South Asian countries based on the Composite Score in descending order.\n",
        "\n"
      ],
      "metadata": {
        "id": "9VRcnPi5S0SD"
      }
    },
    {
      "cell_type": "code",
      "source": [
        "SouthAsia_Rank= SouthAsia_df.sort_values(by='Composite Score', ascending=False)\n",
        "SouthAsia_Rank"
      ],
      "metadata": {
        "colab": {
          "base_uri": "https://localhost:8080/",
          "height": 238
        },
        "id": "qzT05rghHlCY",
        "outputId": "bfdbf429-26b6-4a98-dc53-8cc247d3c608"
      },
      "execution_count": 6,
      "outputs": [
        {
          "output_type": "execute_result",
          "data": {
            "text/plain": [
              "  Country name  score  Log GDP per capita  Social support  \\\n",
              "3    Sri Lanka  3.898               1.361           1.179   \n",
              "0        Nepal  5.158               0.965           0.990   \n",
              "2        India  4.054               1.166           0.653   \n",
              "1     Pakistan  4.657               1.069           0.600   \n",
              "4   Bangladesh  3.886               1.122           0.249   \n",
              "5  Afghanistan  1.721               0.628           0.000   \n",
              "\n",
              "   Healthy life expectancy  Freedom to make life choices  Generosity  \\\n",
              "3                    0.586                         0.583       0.144   \n",
              "0                    0.443                         0.653       0.209   \n",
              "2                    0.417                         0.767       0.174   \n",
              "1                    0.321                         0.542       0.144   \n",
              "4                    0.513                         0.775       0.140   \n",
              "5                    0.242                         0.000       0.091   \n",
              "\n",
              "   Perceptions of corruption  Dystopia + residual  Composite Score  \n",
              "3                      0.031                0.014           1.0739  \n",
              "0                      0.115                1.783           0.8159  \n",
              "2                      0.122                0.756           0.7874  \n",
              "1                      0.074                1.907           0.7039  \n",
              "4                      0.167                0.919           0.6774  \n",
              "5                      0.088                0.672           0.3238  "
            ],
            "text/html": [
              "\n",
              "  <div id=\"df-528cbacb-116b-48e2-926c-cb2f3430d512\" class=\"colab-df-container\">\n",
              "    <div>\n",
              "<style scoped>\n",
              "    .dataframe tbody tr th:only-of-type {\n",
              "        vertical-align: middle;\n",
              "    }\n",
              "\n",
              "    .dataframe tbody tr th {\n",
              "        vertical-align: top;\n",
              "    }\n",
              "\n",
              "    .dataframe thead th {\n",
              "        text-align: right;\n",
              "    }\n",
              "</style>\n",
              "<table border=\"1\" class=\"dataframe\">\n",
              "  <thead>\n",
              "    <tr style=\"text-align: right;\">\n",
              "      <th></th>\n",
              "      <th>Country name</th>\n",
              "      <th>score</th>\n",
              "      <th>Log GDP per capita</th>\n",
              "      <th>Social support</th>\n",
              "      <th>Healthy life expectancy</th>\n",
              "      <th>Freedom to make life choices</th>\n",
              "      <th>Generosity</th>\n",
              "      <th>Perceptions of corruption</th>\n",
              "      <th>Dystopia + residual</th>\n",
              "      <th>Composite Score</th>\n",
              "    </tr>\n",
              "  </thead>\n",
              "  <tbody>\n",
              "    <tr>\n",
              "      <th>3</th>\n",
              "      <td>Sri Lanka</td>\n",
              "      <td>3.898</td>\n",
              "      <td>1.361</td>\n",
              "      <td>1.179</td>\n",
              "      <td>0.586</td>\n",
              "      <td>0.583</td>\n",
              "      <td>0.144</td>\n",
              "      <td>0.031</td>\n",
              "      <td>0.014</td>\n",
              "      <td>1.0739</td>\n",
              "    </tr>\n",
              "    <tr>\n",
              "      <th>0</th>\n",
              "      <td>Nepal</td>\n",
              "      <td>5.158</td>\n",
              "      <td>0.965</td>\n",
              "      <td>0.990</td>\n",
              "      <td>0.443</td>\n",
              "      <td>0.653</td>\n",
              "      <td>0.209</td>\n",
              "      <td>0.115</td>\n",
              "      <td>1.783</td>\n",
              "      <td>0.8159</td>\n",
              "    </tr>\n",
              "    <tr>\n",
              "      <th>2</th>\n",
              "      <td>India</td>\n",
              "      <td>4.054</td>\n",
              "      <td>1.166</td>\n",
              "      <td>0.653</td>\n",
              "      <td>0.417</td>\n",
              "      <td>0.767</td>\n",
              "      <td>0.174</td>\n",
              "      <td>0.122</td>\n",
              "      <td>0.756</td>\n",
              "      <td>0.7874</td>\n",
              "    </tr>\n",
              "    <tr>\n",
              "      <th>1</th>\n",
              "      <td>Pakistan</td>\n",
              "      <td>4.657</td>\n",
              "      <td>1.069</td>\n",
              "      <td>0.600</td>\n",
              "      <td>0.321</td>\n",
              "      <td>0.542</td>\n",
              "      <td>0.144</td>\n",
              "      <td>0.074</td>\n",
              "      <td>1.907</td>\n",
              "      <td>0.7039</td>\n",
              "    </tr>\n",
              "    <tr>\n",
              "      <th>4</th>\n",
              "      <td>Bangladesh</td>\n",
              "      <td>3.886</td>\n",
              "      <td>1.122</td>\n",
              "      <td>0.249</td>\n",
              "      <td>0.513</td>\n",
              "      <td>0.775</td>\n",
              "      <td>0.140</td>\n",
              "      <td>0.167</td>\n",
              "      <td>0.919</td>\n",
              "      <td>0.6774</td>\n",
              "    </tr>\n",
              "    <tr>\n",
              "      <th>5</th>\n",
              "      <td>Afghanistan</td>\n",
              "      <td>1.721</td>\n",
              "      <td>0.628</td>\n",
              "      <td>0.000</td>\n",
              "      <td>0.242</td>\n",
              "      <td>0.000</td>\n",
              "      <td>0.091</td>\n",
              "      <td>0.088</td>\n",
              "      <td>0.672</td>\n",
              "      <td>0.3238</td>\n",
              "    </tr>\n",
              "  </tbody>\n",
              "</table>\n",
              "</div>\n",
              "    <div class=\"colab-df-buttons\">\n",
              "\n",
              "  <div class=\"colab-df-container\">\n",
              "    <button class=\"colab-df-convert\" onclick=\"convertToInteractive('df-528cbacb-116b-48e2-926c-cb2f3430d512')\"\n",
              "            title=\"Convert this dataframe to an interactive table.\"\n",
              "            style=\"display:none;\">\n",
              "\n",
              "  <svg xmlns=\"http://www.w3.org/2000/svg\" height=\"24px\" viewBox=\"0 -960 960 960\">\n",
              "    <path d=\"M120-120v-720h720v720H120Zm60-500h600v-160H180v160Zm220 220h160v-160H400v160Zm0 220h160v-160H400v160ZM180-400h160v-160H180v160Zm440 0h160v-160H620v160ZM180-180h160v-160H180v160Zm440 0h160v-160H620v160Z\"/>\n",
              "  </svg>\n",
              "    </button>\n",
              "\n",
              "  <style>\n",
              "    .colab-df-container {\n",
              "      display:flex;\n",
              "      gap: 12px;\n",
              "    }\n",
              "\n",
              "    .colab-df-convert {\n",
              "      background-color: #E8F0FE;\n",
              "      border: none;\n",
              "      border-radius: 50%;\n",
              "      cursor: pointer;\n",
              "      display: none;\n",
              "      fill: #1967D2;\n",
              "      height: 32px;\n",
              "      padding: 0 0 0 0;\n",
              "      width: 32px;\n",
              "    }\n",
              "\n",
              "    .colab-df-convert:hover {\n",
              "      background-color: #E2EBFA;\n",
              "      box-shadow: 0px 1px 2px rgba(60, 64, 67, 0.3), 0px 1px 3px 1px rgba(60, 64, 67, 0.15);\n",
              "      fill: #174EA6;\n",
              "    }\n",
              "\n",
              "    .colab-df-buttons div {\n",
              "      margin-bottom: 4px;\n",
              "    }\n",
              "\n",
              "    [theme=dark] .colab-df-convert {\n",
              "      background-color: #3B4455;\n",
              "      fill: #D2E3FC;\n",
              "    }\n",
              "\n",
              "    [theme=dark] .colab-df-convert:hover {\n",
              "      background-color: #434B5C;\n",
              "      box-shadow: 0px 1px 3px 1px rgba(0, 0, 0, 0.15);\n",
              "      filter: drop-shadow(0px 1px 2px rgba(0, 0, 0, 0.3));\n",
              "      fill: #FFFFFF;\n",
              "    }\n",
              "  </style>\n",
              "\n",
              "    <script>\n",
              "      const buttonEl =\n",
              "        document.querySelector('#df-528cbacb-116b-48e2-926c-cb2f3430d512 button.colab-df-convert');\n",
              "      buttonEl.style.display =\n",
              "        google.colab.kernel.accessAllowed ? 'block' : 'none';\n",
              "\n",
              "      async function convertToInteractive(key) {\n",
              "        const element = document.querySelector('#df-528cbacb-116b-48e2-926c-cb2f3430d512');\n",
              "        const dataTable =\n",
              "          await google.colab.kernel.invokeFunction('convertToInteractive',\n",
              "                                                    [key], {});\n",
              "        if (!dataTable) return;\n",
              "\n",
              "        const docLinkHtml = 'Like what you see? Visit the ' +\n",
              "          '<a target=\"_blank\" href=https://colab.research.google.com/notebooks/data_table.ipynb>data table notebook</a>'\n",
              "          + ' to learn more about interactive tables.';\n",
              "        element.innerHTML = '';\n",
              "        dataTable['output_type'] = 'display_data';\n",
              "        await google.colab.output.renderOutput(dataTable, element);\n",
              "        const docLink = document.createElement('div');\n",
              "        docLink.innerHTML = docLinkHtml;\n",
              "        element.appendChild(docLink);\n",
              "      }\n",
              "    </script>\n",
              "  </div>\n",
              "\n",
              "\n",
              "<div id=\"df-48fd639f-1eeb-437f-a4ff-30c6f6c0938f\">\n",
              "  <button class=\"colab-df-quickchart\" onclick=\"quickchart('df-48fd639f-1eeb-437f-a4ff-30c6f6c0938f')\"\n",
              "            title=\"Suggest charts\"\n",
              "            style=\"display:none;\">\n",
              "\n",
              "<svg xmlns=\"http://www.w3.org/2000/svg\" height=\"24px\"viewBox=\"0 0 24 24\"\n",
              "     width=\"24px\">\n",
              "    <g>\n",
              "        <path d=\"M19 3H5c-1.1 0-2 .9-2 2v14c0 1.1.9 2 2 2h14c1.1 0 2-.9 2-2V5c0-1.1-.9-2-2-2zM9 17H7v-7h2v7zm4 0h-2V7h2v10zm4 0h-2v-4h2v4z\"/>\n",
              "    </g>\n",
              "</svg>\n",
              "  </button>\n",
              "\n",
              "<style>\n",
              "  .colab-df-quickchart {\n",
              "      --bg-color: #E8F0FE;\n",
              "      --fill-color: #1967D2;\n",
              "      --hover-bg-color: #E2EBFA;\n",
              "      --hover-fill-color: #174EA6;\n",
              "      --disabled-fill-color: #AAA;\n",
              "      --disabled-bg-color: #DDD;\n",
              "  }\n",
              "\n",
              "  [theme=dark] .colab-df-quickchart {\n",
              "      --bg-color: #3B4455;\n",
              "      --fill-color: #D2E3FC;\n",
              "      --hover-bg-color: #434B5C;\n",
              "      --hover-fill-color: #FFFFFF;\n",
              "      --disabled-bg-color: #3B4455;\n",
              "      --disabled-fill-color: #666;\n",
              "  }\n",
              "\n",
              "  .colab-df-quickchart {\n",
              "    background-color: var(--bg-color);\n",
              "    border: none;\n",
              "    border-radius: 50%;\n",
              "    cursor: pointer;\n",
              "    display: none;\n",
              "    fill: var(--fill-color);\n",
              "    height: 32px;\n",
              "    padding: 0;\n",
              "    width: 32px;\n",
              "  }\n",
              "\n",
              "  .colab-df-quickchart:hover {\n",
              "    background-color: var(--hover-bg-color);\n",
              "    box-shadow: 0 1px 2px rgba(60, 64, 67, 0.3), 0 1px 3px 1px rgba(60, 64, 67, 0.15);\n",
              "    fill: var(--button-hover-fill-color);\n",
              "  }\n",
              "\n",
              "  .colab-df-quickchart-complete:disabled,\n",
              "  .colab-df-quickchart-complete:disabled:hover {\n",
              "    background-color: var(--disabled-bg-color);\n",
              "    fill: var(--disabled-fill-color);\n",
              "    box-shadow: none;\n",
              "  }\n",
              "\n",
              "  .colab-df-spinner {\n",
              "    border: 2px solid var(--fill-color);\n",
              "    border-color: transparent;\n",
              "    border-bottom-color: var(--fill-color);\n",
              "    animation:\n",
              "      spin 1s steps(1) infinite;\n",
              "  }\n",
              "\n",
              "  @keyframes spin {\n",
              "    0% {\n",
              "      border-color: transparent;\n",
              "      border-bottom-color: var(--fill-color);\n",
              "      border-left-color: var(--fill-color);\n",
              "    }\n",
              "    20% {\n",
              "      border-color: transparent;\n",
              "      border-left-color: var(--fill-color);\n",
              "      border-top-color: var(--fill-color);\n",
              "    }\n",
              "    30% {\n",
              "      border-color: transparent;\n",
              "      border-left-color: var(--fill-color);\n",
              "      border-top-color: var(--fill-color);\n",
              "      border-right-color: var(--fill-color);\n",
              "    }\n",
              "    40% {\n",
              "      border-color: transparent;\n",
              "      border-right-color: var(--fill-color);\n",
              "      border-top-color: var(--fill-color);\n",
              "    }\n",
              "    60% {\n",
              "      border-color: transparent;\n",
              "      border-right-color: var(--fill-color);\n",
              "    }\n",
              "    80% {\n",
              "      border-color: transparent;\n",
              "      border-right-color: var(--fill-color);\n",
              "      border-bottom-color: var(--fill-color);\n",
              "    }\n",
              "    90% {\n",
              "      border-color: transparent;\n",
              "      border-bottom-color: var(--fill-color);\n",
              "    }\n",
              "  }\n",
              "</style>\n",
              "\n",
              "  <script>\n",
              "    async function quickchart(key) {\n",
              "      const quickchartButtonEl =\n",
              "        document.querySelector('#' + key + ' button');\n",
              "      quickchartButtonEl.disabled = true;  // To prevent multiple clicks.\n",
              "      quickchartButtonEl.classList.add('colab-df-spinner');\n",
              "      try {\n",
              "        const charts = await google.colab.kernel.invokeFunction(\n",
              "            'suggestCharts', [key], {});\n",
              "      } catch (error) {\n",
              "        console.error('Error during call to suggestCharts:', error);\n",
              "      }\n",
              "      quickchartButtonEl.classList.remove('colab-df-spinner');\n",
              "      quickchartButtonEl.classList.add('colab-df-quickchart-complete');\n",
              "    }\n",
              "    (() => {\n",
              "      let quickchartButtonEl =\n",
              "        document.querySelector('#df-48fd639f-1eeb-437f-a4ff-30c6f6c0938f button');\n",
              "      quickchartButtonEl.style.display =\n",
              "        google.colab.kernel.accessAllowed ? 'block' : 'none';\n",
              "    })();\n",
              "  </script>\n",
              "</div>\n",
              "\n",
              "  <div id=\"id_8c471caf-162b-401f-89f6-69679753228e\">\n",
              "    <style>\n",
              "      .colab-df-generate {\n",
              "        background-color: #E8F0FE;\n",
              "        border: none;\n",
              "        border-radius: 50%;\n",
              "        cursor: pointer;\n",
              "        display: none;\n",
              "        fill: #1967D2;\n",
              "        height: 32px;\n",
              "        padding: 0 0 0 0;\n",
              "        width: 32px;\n",
              "      }\n",
              "\n",
              "      .colab-df-generate:hover {\n",
              "        background-color: #E2EBFA;\n",
              "        box-shadow: 0px 1px 2px rgba(60, 64, 67, 0.3), 0px 1px 3px 1px rgba(60, 64, 67, 0.15);\n",
              "        fill: #174EA6;\n",
              "      }\n",
              "\n",
              "      [theme=dark] .colab-df-generate {\n",
              "        background-color: #3B4455;\n",
              "        fill: #D2E3FC;\n",
              "      }\n",
              "\n",
              "      [theme=dark] .colab-df-generate:hover {\n",
              "        background-color: #434B5C;\n",
              "        box-shadow: 0px 1px 3px 1px rgba(0, 0, 0, 0.15);\n",
              "        filter: drop-shadow(0px 1px 2px rgba(0, 0, 0, 0.3));\n",
              "        fill: #FFFFFF;\n",
              "      }\n",
              "    </style>\n",
              "    <button class=\"colab-df-generate\" onclick=\"generateWithVariable('SouthAsia_Rank')\"\n",
              "            title=\"Generate code using this dataframe.\"\n",
              "            style=\"display:none;\">\n",
              "\n",
              "  <svg xmlns=\"http://www.w3.org/2000/svg\" height=\"24px\"viewBox=\"0 0 24 24\"\n",
              "       width=\"24px\">\n",
              "    <path d=\"M7,19H8.4L18.45,9,17,7.55,7,17.6ZM5,21V16.75L18.45,3.32a2,2,0,0,1,2.83,0l1.4,1.43a1.91,1.91,0,0,1,.58,1.4,1.91,1.91,0,0,1-.58,1.4L9.25,21ZM18.45,9,17,7.55Zm-12,3A5.31,5.31,0,0,0,4.9,8.1,5.31,5.31,0,0,0,1,6.5,5.31,5.31,0,0,0,4.9,4.9,5.31,5.31,0,0,0,6.5,1,5.31,5.31,0,0,0,8.1,4.9,5.31,5.31,0,0,0,12,6.5,5.46,5.46,0,0,0,6.5,12Z\"/>\n",
              "  </svg>\n",
              "    </button>\n",
              "    <script>\n",
              "      (() => {\n",
              "      const buttonEl =\n",
              "        document.querySelector('#id_8c471caf-162b-401f-89f6-69679753228e button.colab-df-generate');\n",
              "      buttonEl.style.display =\n",
              "        google.colab.kernel.accessAllowed ? 'block' : 'none';\n",
              "\n",
              "      buttonEl.onclick = () => {\n",
              "        google.colab.notebook.generateWithVariable('SouthAsia_Rank');\n",
              "      }\n",
              "      })();\n",
              "    </script>\n",
              "  </div>\n",
              "\n",
              "    </div>\n",
              "  </div>\n"
            ],
            "application/vnd.google.colaboratory.intrinsic+json": {
              "type": "dataframe",
              "variable_name": "SouthAsia_Rank",
              "summary": "{\n  \"name\": \"SouthAsia_Rank\",\n  \"rows\": 6,\n  \"fields\": [\n    {\n      \"column\": \"Country name\",\n      \"properties\": {\n        \"dtype\": \"string\",\n        \"num_unique_values\": 6,\n        \"samples\": [\n          \"Sri Lanka\",\n          \"Nepal\",\n          \"Afghanistan\"\n        ],\n        \"semantic_type\": \"\",\n        \"description\": \"\"\n      }\n    },\n    {\n      \"column\": \"score\",\n      \"properties\": {\n        \"dtype\": \"number\",\n        \"std\": 1.1770690152521501,\n        \"min\": 1.721,\n        \"max\": 5.158,\n        \"num_unique_values\": 6,\n        \"samples\": [\n          3.898,\n          5.158,\n          1.721\n        ],\n        \"semantic_type\": \"\",\n        \"description\": \"\"\n      }\n    },\n    {\n      \"column\": \"Log GDP per capita\",\n      \"properties\": {\n        \"dtype\": \"number\",\n        \"std\": 0.2453612982250189,\n        \"min\": 0.628,\n        \"max\": 1.361,\n        \"num_unique_values\": 6,\n        \"samples\": [\n          1.361,\n          0.965,\n          0.628\n        ],\n        \"semantic_type\": \"\",\n        \"description\": \"\"\n      }\n    },\n    {\n      \"column\": \"Social support\",\n      \"properties\": {\n        \"dtype\": \"number\",\n        \"std\": 0.4410239978353408,\n        \"min\": 0.0,\n        \"max\": 1.179,\n        \"num_unique_values\": 6,\n        \"samples\": [\n          1.179,\n          0.99,\n          0.0\n        ],\n        \"semantic_type\": \"\",\n        \"description\": \"\"\n      }\n    },\n    {\n      \"column\": \"Healthy life expectancy\",\n      \"properties\": {\n        \"dtype\": \"number\",\n        \"std\": 0.1250818398756057,\n        \"min\": 0.242,\n        \"max\": 0.586,\n        \"num_unique_values\": 6,\n        \"samples\": [\n          0.586,\n          0.443,\n          0.242\n        ],\n        \"semantic_type\": \"\",\n        \"description\": \"\"\n      }\n    },\n    {\n      \"column\": \"Freedom to make life choices\",\n      \"properties\": {\n        \"dtype\": \"number\",\n        \"std\": 0.2870224149202753,\n        \"min\": 0.0,\n        \"max\": 0.775,\n        \"num_unique_values\": 6,\n        \"samples\": [\n          0.583,\n          0.653,\n          0.0\n        ],\n        \"semantic_type\": \"\",\n        \"description\": \"\"\n      }\n    },\n    {\n      \"column\": \"Generosity\",\n      \"properties\": {\n        \"dtype\": \"number\",\n        \"std\": 0.03926661007353024,\n        \"min\": 0.091,\n        \"max\": 0.209,\n        \"num_unique_values\": 5,\n        \"samples\": [\n          0.209,\n          0.091,\n          0.174\n        ],\n        \"semantic_type\": \"\",\n        \"description\": \"\"\n      }\n    },\n    {\n      \"column\": \"Perceptions of corruption\",\n      \"properties\": {\n        \"dtype\": \"number\",\n        \"std\": 0.046427362621626486,\n        \"min\": 0.031,\n        \"max\": 0.167,\n        \"num_unique_values\": 6,\n        \"samples\": [\n          0.031,\n          0.115,\n          0.088\n        ],\n        \"semantic_type\": \"\",\n        \"description\": \"\"\n      }\n    },\n    {\n      \"column\": \"Dystopia + residual\",\n      \"properties\": {\n        \"dtype\": \"number\",\n        \"std\": 0.718495859417436,\n        \"min\": 0.014,\n        \"max\": 1.907,\n        \"num_unique_values\": 6,\n        \"samples\": [\n          0.014,\n          1.783,\n          0.672\n        ],\n        \"semantic_type\": \"\",\n        \"description\": \"\"\n      }\n    },\n    {\n      \"column\": \"Composite Score\",\n      \"properties\": {\n        \"dtype\": \"number\",\n        \"std\": 0.24387960485999371,\n        \"min\": 0.32380000000000003,\n        \"max\": 1.0739,\n        \"num_unique_values\": 6,\n        \"samples\": [\n          1.0739,\n          0.8159000000000001,\n          0.32380000000000003\n        ],\n        \"semantic_type\": \"\",\n        \"description\": \"\"\n      }\n    }\n  ]\n}"
            }
          },
          "metadata": {},
          "execution_count": 6
        }
      ]
    },
    {
      "cell_type": "markdown",
      "source": [
        "3. Visualize the top 5 countries using a horizontal bar chart showing the Composite Score.\n"
      ],
      "metadata": {
        "id": "zjOZ5xLhS3W6"
      }
    },
    {
      "cell_type": "code",
      "source": [
        "Composite_top5= SouthAsia_Rank.head(5)\n",
        "plt.figure(figsize=(10, 5))\n",
        "plt.barh(Composite_top5['Country name'], Composite_top5['Composite Score'], color='orange')\n",
        "plt.title('Top 5 Countries by Composite Score')\n",
        "plt.ylabel('Country name')\n",
        "plt.xlabel('Composite Score')\n",
        "plt.show()"
      ],
      "metadata": {
        "colab": {
          "base_uri": "https://localhost:8080/",
          "height": 487
        },
        "id": "DdTHbNWwH3mO",
        "outputId": "c3787a09-615f-4df7-de8f-06afd06f65bd"
      },
      "execution_count": 8,
      "outputs": [
        {
          "output_type": "display_data",
          "data": {
            "text/plain": [
              "<Figure size 1000x500 with 1 Axes>"
            ],
            "image/png": "[encoded data removed]"
          },
          "metadata": {}
        }
      ]
    },
    {
      "cell_type": "markdown",
      "source": [
        "\n",
        "4. Discuss whether the rankings based on the Composite Score align with the original Score - support your\n",
        "discussion with some visualization plot.\n",
        "\n",
        "  Ans:  The ranks based on the Composite Score and the original Score do not align with each other. The original Score usually falls between 2 and 5 because it incorporates subjective qualities like freedom, generosity, and corruption, which results in higher values. On the other hand, because the Composite Score is based on normalized economic and health indicators (GDP per capita, life expectancy, and social support), it falls within the 0–1 range. A smaller, constrained range is maintained by the logarithmic scale of GDP. As a result, the Composite Score is narrower and more limited than the original Score.\n",
        "\n",
        "  Here is a plot to prove it:"
      ],
      "metadata": {
        "id": "lsNjL7XSS6LB"
      }
    },
    {
      "cell_type": "code",
      "source": [
        "Composite_top5 = SouthAsia_df.sort_values(by=\"Composite Score\", ascending=False)\n",
        "Score_top5 = SouthAsia_df.sort_values(by=\"score\", ascending=False)\n",
        "plt.figure(figsize=(10, 6))\n",
        "sns.lineplot(x='Country name', y='Composite Score', data=Composite_top5, marker='o', color='red',label='Composite score top 5')\n",
        "sns.lineplot(x='Country name', y='score', data=Score_top5, marker='o', color='blue',label='Original score top 5')\n",
        "plt.title(\"Comparison of Top 5 Countries by Composite and Original Scores\", fontsize=16)\n",
        "plt.xlabel(\"Country name\")\n",
        "plt.ylabel(\"score\")\n",
        "plt.legend()\n",
        "plt.show()\n"
      ],
      "metadata": {
        "colab": {
          "base_uri": "https://localhost:8080/",
          "height": 566
        },
        "id": "njO7tlCkJHBu",
        "outputId": "b335e26c-3f2a-4ce9-b926-09e0e2a99179"
      },
      "execution_count": null,
      "outputs": [
        {
          "output_type": "display_data",
          "data": {
            "text/plain": [
              "<Figure size 1000x600 with 1 Axes>"
            ],
            "image/png": "[encoded data removed]"
          },
          "metadata": {}
        }
      ]
    },
    {
      "cell_type": "markdown",
      "source": [
        "Task - 3 - Outlier Detection:\n",
        "\n",
        "Tasks:\n",
        "\n",
        "1. Identify outlier countries in South Asia based on their Score and GDP per Capita.\n",
        "\n",
        "2. Define outliers using the 1.5 × IQR rule.\n",
        "\n"
      ],
      "metadata": {
        "id": "dxismx_oMV47"
      }
    },
    {
      "cell_type": "code",
      "source": [
        "def detect_outliers(df, column):\n",
        "    Q1 = df[column].quantile(0.25)\n",
        "    Q3 = df[column].quantile(0.75)\n",
        "    IQR = Q3 - Q1\n",
        "    print(\"IQR: \",IQR)\n",
        "    lower_bound = Q1 - 1.5 * IQR\n",
        "    print(\"lower bound:\", lower_bound)\n",
        "    upper_bound = Q3 + 1.5 * IQR\n",
        "    print(\"upper bound:\", upper_bound)\n",
        "    return df[(df[column] < lower_bound) | (df[column] > upper_bound)]"
      ],
      "metadata": {
        "id": "G4u0vKJWMcNp"
      },
      "execution_count": null,
      "outputs": []
    },
    {
      "cell_type": "code",
      "source": [
        "gdp_outliers = detect_outliers(SouthAsia_df, 'Log GDP per capita')\n",
        "print(\"Outliers in GDP per Capita\\n\",gdp_outliers[['Country name','Log GDP per capita']])"
      ],
      "metadata": {
        "colab": {
          "base_uri": "https://localhost:8080/"
        },
        "id": "hqbinmcnwdPn",
        "outputId": "52e3d394-bbf6-4c2b-ec6b-2bfc2a2b0d8c"
      },
      "execution_count": null,
      "outputs": [
        {
          "output_type": "stream",
          "name": "stdout",
          "text": [
            "IQR:  0.16400000000000003\n",
            "lower bound: 0.7449999999999999\n",
            "upper bound: 1.401\n",
            "Outliers in GDP per Capita\n",
            "   Country name  Log GDP per capita\n",
            "5  Afghanistan               0.628\n"
          ]
        }
      ]
    },
    {
      "cell_type": "code",
      "source": [
        "score_outliers = detect_outliers(SouthAsia_df, 'score')\n",
        "print(\"Outliers in Score:\\n\",score_outliers[['Country name','score']])"
      ],
      "metadata": {
        "colab": {
          "base_uri": "https://localhost:8080/"
        },
        "id": "VcoTnLHAwhuX",
        "outputId": "f5241f56-b225-46fb-fa96-9be06d969a14"
      },
      "execution_count": null,
      "outputs": [
        {
          "output_type": "stream",
          "name": "stdout",
          "text": [
            "IQR:  0.6172499999999994\n",
            "lower bound: 2.963125000000001\n",
            "upper bound: 5.432124999999999\n",
            "Outliers in Score:\n",
            "   Country name  score\n",
            "5  Afghanistan  1.721\n"
          ]
        }
      ]
    },
    {
      "cell_type": "markdown",
      "source": [
        "3. Create a scatter plot with GDP per Capita on the x-axis and Score on the y-axis, highlighting outliers in a different color."
      ],
      "metadata": {
        "id": "_YTHw4X5WCqJ"
      }
    },
    {
      "cell_type": "code",
      "source": [
        "plt.figure(figsize=(10, 6))\n",
        "plt.scatter(SouthAsia_df['Log GDP per capita'], SouthAsia_df['score'], color='blue',label='Normal countries')\n",
        "plt.scatter(gdp_outliers['Log GDP per capita'], gdp_outliers['score'], color='red', label='Outliers')\n",
        "plt.title(\"Outlier Detection: GDP per Capita vs Score\", fontsize=16)\n",
        "plt.xlabel(\"GDP per Capita\", fontsize=12)\n",
        "plt.ylabel(\"Score\", fontsize=12)\n",
        "plt.legend()\n",
        "plt.tight_layout()\n",
        "\n",
        "plt.show()"
      ],
      "metadata": {
        "colab": {
          "base_uri": "https://localhost:8080/",
          "height": 607
        },
        "id": "r6Hj_YYhPS0Z",
        "outputId": "194e1b43-f052-48da-dfa0-9ed8246e53ed"
      },
      "execution_count": null,
      "outputs": [
        {
          "output_type": "display_data",
          "data": {
            "text/plain": [
              "<Figure size 1000x600 with 1 Axes>"
            ],
            "image/png": "[encoded data removed]"
          },
          "metadata": {}
        }
      ]
    },
    {
      "cell_type": "markdown",
      "source": [
        "4. Discuss the characteristics of these outliers and their potential impact on regional averages.\n",
        "\n",
        "  Ans: Afghanistan is the only South Asian nation that fits the criterion for being an outlier, as can be seen from the data and graph presented. Afghanistan is far lower than the other countries on the list, as seen by its lowest Log GDP per capita score of 0.628 and composite score of 0.3238. While using 1.5 x IQR Rule for the metrices (happiness score and Log GDP per capita), Afghanistan's values for the happiness score and log GDP per capita were well below the lower bounds.\n",
        "\n",
        "  The extreme values of Afghanistan may distort South Asian regional averages. If left unadjusted, it could result in lower regional mean happiness scores and associated metrics, giving an inaccurate picture of the region's performance.\n",
        "\n"
      ],
      "metadata": {
        "id": "tc8kORzIWNa_"
      }
    },
    {
      "cell_type": "markdown",
      "source": [
        "Task - 4 - Exploring Trends Across Metrics:\n",
        "Tasks:\n",
        "1. Choose two metrics (e.g., Freedom to Make Life Choices and Generosity) and calculate their correlation\n",
        "{pearson correlation} with the Score for South Asian countries.\n"
      ],
      "metadata": {
        "id": "P9ex2xjZT2be"
      }
    },
    {
      "cell_type": "code",
      "source": [
        "selected_columns = SouthAsia_df[['score', 'Freedom to make life choices', 'Generosity']]\n",
        "correlation_matrix = selected_columns.corr(method='pearson')\n",
        "correlation_matrix"
      ],
      "metadata": {
        "colab": {
          "base_uri": "https://localhost:8080/",
          "height": 143
        },
        "id": "FD87IITFT4Ts",
        "outputId": "d35ab403-5828-47ba-f33f-0d9fa0e0d1f4"
      },
      "execution_count": null,
      "outputs": [
        {
          "output_type": "execute_result",
          "data": {
            "text/plain": [
              "                                 score  Freedom to make life choices  \\\n",
              "score                         1.000000                      0.800519   \n",
              "Freedom to make life choices  0.800519                      1.000000   \n",
              "Generosity                    0.874512                      0.733396   \n",
              "\n",
              "                              Generosity  \n",
              "score                           0.874512  \n",
              "Freedom to make life choices    0.733396  \n",
              "Generosity                      1.000000  "
            ],
            "text/html": [
              "\n",
              "  <div id=\"df-d22bdc00-9667-4053-8c63-c343af564a0d\" class=\"colab-df-container\">\n",
              "    <div>\n",
              "<style scoped>\n",
              "    .dataframe tbody tr th:only-of-type {\n",
              "        vertical-align: middle;\n",
              "    }\n",
              "\n",
              "    .dataframe tbody tr th {\n",
              "        vertical-align: top;\n",
              "    }\n",
              "\n",
              "    .dataframe thead th {\n",
              "        text-align: right;\n",
              "    }\n",
              "</style>\n",
              "<table border=\"1\" class=\"dataframe\">\n",
              "  <thead>\n",
              "    <tr style=\"text-align: right;\">\n",
              "      <th></th>\n",
              "      <th>score</th>\n",
              "      <th>Freedom to make life choices</th>\n",
              "      <th>Generosity</th>\n",
              "    </tr>\n",
              "  </thead>\n",
              "  <tbody>\n",
              "    <tr>\n",
              "      <th>score</th>\n",
              "      <td>1.000000</td>\n",
              "      <td>0.800519</td>\n",
              "      <td>0.874512</td>\n",
              "    </tr>\n",
              "    <tr>\n",
              "      <th>Freedom to make life choices</th>\n",
              "      <td>0.800519</td>\n",
              "      <td>1.000000</td>\n",
              "      <td>0.733396</td>\n",
              "    </tr>\n",
              "    <tr>\n",
              "      <th>Generosity</th>\n",
              "      <td>0.874512</td>\n",
              "      <td>0.733396</td>\n",
              "      <td>1.000000</td>\n",
              "    </tr>\n",
              "  </tbody>\n",
              "</table>\n",
              "</div>\n",
              "    <div class=\"colab-df-buttons\">\n",
              "\n",
              "  <div class=\"colab-df-container\">\n",
              "    <button class=\"colab-df-convert\" onclick=\"convertToInteractive('df-d22bdc00-9667-4053-8c63-c343af564a0d')\"\n",
              "            title=\"Convert this dataframe to an interactive table.\"\n",
              "            style=\"display:none;\">\n",
              "\n",
              "  <svg xmlns=\"http://www.w3.org/2000/svg\" height=\"24px\" viewBox=\"0 -960 960 960\">\n",
              "    <path d=\"M120-120v-720h720v720H120Zm60-500h600v-160H180v160Zm220 220h160v-160H400v160Zm0 220h160v-160H400v160ZM180-400h160v-160H180v160Zm440 0h160v-160H620v160ZM180-180h160v-160H180v160Zm440 0h160v-160H620v160Z\"/>\n",
              "  </svg>\n",
              "    </button>\n",
              "\n",
              "  <style>\n",
              "    .colab-df-container {\n",
              "      display:flex;\n",
              "      gap: 12px;\n",
              "    }\n",
              "\n",
              "    .colab-df-convert {\n",
              "      background-color: #E8F0FE;\n",
              "      border: none;\n",
              "      border-radius: 50%;\n",
              "      cursor: pointer;\n",
              "      display: none;\n",
              "      fill: #1967D2;\n",
              "      height: 32px;\n",
              "      padding: 0 0 0 0;\n",
              "      width: 32px;\n",
              "    }\n",
              "\n",
              "    .colab-df-convert:hover {\n",
              "      background-color: #E2EBFA;\n",
              "      box-shadow: 0px 1px 2px rgba(60, 64, 67, 0.3), 0px 1px 3px 1px rgba(60, 64, 67, 0.15);\n",
              "      fill: #174EA6;\n",
              "    }\n",
              "\n",
              "    .colab-df-buttons div {\n",
              "      margin-bottom: 4px;\n",
              "    }\n",
              "\n",
              "    [theme=dark] .colab-df-convert {\n",
              "      background-color: #3B4455;\n",
              "      fill: #D2E3FC;\n",
              "    }\n",
              "\n",
              "    [theme=dark] .colab-df-convert:hover {\n",
              "      background-color: #434B5C;\n",
              "      box-shadow: 0px 1px 3px 1px rgba(0, 0, 0, 0.15);\n",
              "      filter: drop-shadow(0px 1px 2px rgba(0, 0, 0, 0.3));\n",
              "      fill: #FFFFFF;\n",
              "    }\n",
              "  </style>\n",
              "\n",
              "    <script>\n",
              "      const buttonEl =\n",
              "        document.querySelector('#df-d22bdc00-9667-4053-8c63-c343af564a0d button.colab-df-convert');\n",
              "      buttonEl.style.display =\n",
              "        google.colab.kernel.accessAllowed ? 'block' : 'none';\n",
              "\n",
              "      async function convertToInteractive(key) {\n",
              "        const element = document.querySelector('#df-d22bdc00-9667-4053-8c63-c343af564a0d');\n",
              "        const dataTable =\n",
              "          await google.colab.kernel.invokeFunction('convertToInteractive',\n",
              "                                                    [key], {});\n",
              "        if (!dataTable) return;\n",
              "\n",
              "        const docLinkHtml = 'Like what you see? Visit the ' +\n",
              "          '<a target=\"_blank\" href=https://colab.research.google.com/notebooks/data_table.ipynb>data table notebook</a>'\n",
              "          + ' to learn more about interactive tables.';\n",
              "        element.innerHTML = '';\n",
              "        dataTable['output_type'] = 'display_data';\n",
              "        await google.colab.output.renderOutput(dataTable, element);\n",
              "        const docLink = document.createElement('div');\n",
              "        docLink.innerHTML = docLinkHtml;\n",
              "        element.appendChild(docLink);\n",
              "      }\n",
              "    </script>\n",
              "  </div>\n",
              "\n",
              "\n",
              "<div id=\"df-74a5b850-30dc-4362-98ab-2a4c354c6691\">\n",
              "  <button class=\"colab-df-quickchart\" onclick=\"quickchart('df-74a5b850-30dc-4362-98ab-2a4c354c6691')\"\n",
              "            title=\"Suggest charts\"\n",
              "            style=\"display:none;\">\n",
              "\n",
              "<svg xmlns=\"http://www.w3.org/2000/svg\" height=\"24px\"viewBox=\"0 0 24 24\"\n",
              "     width=\"24px\">\n",
              "    <g>\n",
              "        <path d=\"M19 3H5c-1.1 0-2 .9-2 2v14c0 1.1.9 2 2 2h14c1.1 0 2-.9 2-2V5c0-1.1-.9-2-2-2zM9 17H7v-7h2v7zm4 0h-2V7h2v10zm4 0h-2v-4h2v4z\"/>\n",
              "    </g>\n",
              "</svg>\n",
              "  </button>\n",
              "\n",
              "<style>\n",
              "  .colab-df-quickchart {\n",
              "      --bg-color: #E8F0FE;\n",
              "      --fill-color: #1967D2;\n",
              "      --hover-bg-color: #E2EBFA;\n",
              "      --hover-fill-color: #174EA6;\n",
              "      --disabled-fill-color: #AAA;\n",
              "      --disabled-bg-color: #DDD;\n",
              "  }\n",
              "\n",
              "  [theme=dark] .colab-df-quickchart {\n",
              "      --bg-color: #3B4455;\n",
              "      --fill-color: #D2E3FC;\n",
              "      --hover-bg-color: #434B5C;\n",
              "      --hover-fill-color: #FFFFFF;\n",
              "      --disabled-bg-color: #3B4455;\n",
              "      --disabled-fill-color: #666;\n",
              "  }\n",
              "\n",
              "  .colab-df-quickchart {\n",
              "    background-color: var(--bg-color);\n",
              "    border: none;\n",
              "    border-radius: 50%;\n",
              "    cursor: pointer;\n",
              "    display: none;\n",
              "    fill: var(--fill-color);\n",
              "    height: 32px;\n",
              "    padding: 0;\n",
              "    width: 32px;\n",
              "  }\n",
              "\n",
              "  .colab-df-quickchart:hover {\n",
              "    background-color: var(--hover-bg-color);\n",
              "    box-shadow: 0 1px 2px rgba(60, 64, 67, 0.3), 0 1px 3px 1px rgba(60, 64, 67, 0.15);\n",
              "    fill: var(--button-hover-fill-color);\n",
              "  }\n",
              "\n",
              "  .colab-df-quickchart-complete:disabled,\n",
              "  .colab-df-quickchart-complete:disabled:hover {\n",
              "    background-color: var(--disabled-bg-color);\n",
              "    fill: var(--disabled-fill-color);\n",
              "    box-shadow: none;\n",
              "  }\n",
              "\n",
              "  .colab-df-spinner {\n",
              "    border: 2px solid var(--fill-color);\n",
              "    border-color: transparent;\n",
              "    border-bottom-color: var(--fill-color);\n",
              "    animation:\n",
              "      spin 1s steps(1) infinite;\n",
              "  }\n",
              "\n",
              "  @keyframes spin {\n",
              "    0% {\n",
              "      border-color: transparent;\n",
              "      border-bottom-color: var(--fill-color);\n",
              "      border-left-color: var(--fill-color);\n",
              "    }\n",
              "    20% {\n",
              "      border-color: transparent;\n",
              "      border-left-color: var(--fill-color);\n",
              "      border-top-color: var(--fill-color);\n",
              "    }\n",
              "    30% {\n",
              "      border-color: transparent;\n",
              "      border-left-color: var(--fill-color);\n",
              "      border-top-color: var(--fill-color);\n",
              "      border-right-color: var(--fill-color);\n",
              "    }\n",
              "    40% {\n",
              "      border-color: transparent;\n",
              "      border-right-color: var(--fill-color);\n",
              "      border-top-color: var(--fill-color);\n",
              "    }\n",
              "    60% {\n",
              "      border-color: transparent;\n",
              "      border-right-color: var(--fill-color);\n",
              "    }\n",
              "    80% {\n",
              "      border-color: transparent;\n",
              "      border-right-color: var(--fill-color);\n",
              "      border-bottom-color: var(--fill-color);\n",
              "    }\n",
              "    90% {\n",
              "      border-color: transparent;\n",
              "      border-bottom-color: var(--fill-color);\n",
              "    }\n",
              "  }\n",
              "</style>\n",
              "\n",
              "  <script>\n",
              "    async function quickchart(key) {\n",
              "      const quickchartButtonEl =\n",
              "        document.querySelector('#' + key + ' button');\n",
              "      quickchartButtonEl.disabled = true;  // To prevent multiple clicks.\n",
              "      quickchartButtonEl.classList.add('colab-df-spinner');\n",
              "      try {\n",
              "        const charts = await google.colab.kernel.invokeFunction(\n",
              "            'suggestCharts', [key], {});\n",
              "      } catch (error) {\n",
              "        console.error('Error during call to suggestCharts:', error);\n",
              "      }\n",
              "      quickchartButtonEl.classList.remove('colab-df-spinner');\n",
              "      quickchartButtonEl.classList.add('colab-df-quickchart-complete');\n",
              "    }\n",
              "    (() => {\n",
              "      let quickchartButtonEl =\n",
              "        document.querySelector('#df-74a5b850-30dc-4362-98ab-2a4c354c6691 button');\n",
              "      quickchartButtonEl.style.display =\n",
              "        google.colab.kernel.accessAllowed ? 'block' : 'none';\n",
              "    })();\n",
              "  </script>\n",
              "</div>\n",
              "\n",
              "  <div id=\"id_b0bb8c1a-0e7d-43fc-8f32-c272a346d9e1\">\n",
              "    <style>\n",
              "      .colab-df-generate {\n",
              "        background-color: #E8F0FE;\n",
              "        border: none;\n",
              "        border-radius: 50%;\n",
              "        cursor: pointer;\n",
              "        display: none;\n",
              "        fill: #1967D2;\n",
              "        height: 32px;\n",
              "        padding: 0 0 0 0;\n",
              "        width: 32px;\n",
              "      }\n",
              "\n",
              "      .colab-df-generate:hover {\n",
              "        background-color: #E2EBFA;\n",
              "        box-shadow: 0px 1px 2px rgba(60, 64, 67, 0.3), 0px 1px 3px 1px rgba(60, 64, 67, 0.15);\n",
              "        fill: #174EA6;\n",
              "      }\n",
              "\n",
              "      [theme=dark] .colab-df-generate {\n",
              "        background-color: #3B4455;\n",
              "        fill: #D2E3FC;\n",
              "      }\n",
              "\n",
              "      [theme=dark] .colab-df-generate:hover {\n",
              "        background-color: #434B5C;\n",
              "        box-shadow: 0px 1px 3px 1px rgba(0, 0, 0, 0.15);\n",
              "        filter: drop-shadow(0px 1px 2px rgba(0, 0, 0, 0.3));\n",
              "        fill: #FFFFFF;\n",
              "      }\n",
              "    </style>\n",
              "    <button class=\"colab-df-generate\" onclick=\"generateWithVariable('correlation_matrix')\"\n",
              "            title=\"Generate code using this dataframe.\"\n",
              "            style=\"display:none;\">\n",
              "\n",
              "  <svg xmlns=\"http://www.w3.org/2000/svg\" height=\"24px\"viewBox=\"0 0 24 24\"\n",
              "       width=\"24px\">\n",
              "    <path d=\"M7,19H8.4L18.45,9,17,7.55,7,17.6ZM5,21V16.75L18.45,3.32a2,2,0,0,1,2.83,0l1.4,1.43a1.91,1.91,0,0,1,.58,1.4,1.91,1.91,0,0,1-.58,1.4L9.25,21ZM18.45,9,17,7.55Zm-12,3A5.31,5.31,0,0,0,4.9,8.1,5.31,5.31,0,0,0,1,6.5,5.31,5.31,0,0,0,4.9,4.9,5.31,5.31,0,0,0,6.5,1,5.31,5.31,0,0,0,8.1,4.9,5.31,5.31,0,0,0,12,6.5,5.46,5.46,0,0,0,6.5,12Z\"/>\n",
              "  </svg>\n",
              "    </button>\n",
              "    <script>\n",
              "      (() => {\n",
              "      const buttonEl =\n",
              "        document.querySelector('#id_b0bb8c1a-0e7d-43fc-8f32-c272a346d9e1 button.colab-df-generate');\n",
              "      buttonEl.style.display =\n",
              "        google.colab.kernel.accessAllowed ? 'block' : 'none';\n",
              "\n",
              "      buttonEl.onclick = () => {\n",
              "        google.colab.notebook.generateWithVariable('correlation_matrix');\n",
              "      }\n",
              "      })();\n",
              "    </script>\n",
              "  </div>\n",
              "\n",
              "    </div>\n",
              "  </div>\n"
            ],
            "application/vnd.google.colaboratory.intrinsic+json": {
              "type": "dataframe",
              "variable_name": "correlation_matrix",
              "summary": "{\n  \"name\": \"correlation_matrix\",\n  \"rows\": 3,\n  \"fields\": [\n    {\n      \"column\": \"score\",\n      \"properties\": {\n        \"dtype\": \"number\",\n        \"std\": 0.10084236422353496,\n        \"min\": 0.8005185224163315,\n        \"max\": 1.0,\n        \"num_unique_values\": 3,\n        \"samples\": [\n          1.0,\n          0.8005185224163315,\n          0.8745123712531921\n        ],\n        \"semantic_type\": \"\",\n        \"description\": \"\"\n      }\n    },\n    {\n      \"column\": \"Freedom to make life choices\",\n      \"properties\": {\n        \"dtype\": \"number\",\n        \"std\": 0.13866977756173618,\n        \"min\": 0.7333962134628922,\n        \"max\": 1.0,\n        \"num_unique_values\": 3,\n        \"samples\": [\n          0.8005185224163315,\n          1.0,\n          0.7333962134628922\n        ],\n        \"semantic_type\": \"\",\n        \"description\": \"\"\n      }\n    },\n    {\n      \"column\": \"Generosity\",\n      \"properties\": {\n        \"dtype\": \"number\",\n        \"std\": 0.13337821783304626,\n        \"min\": 0.7333962134628922,\n        \"max\": 1.0,\n        \"num_unique_values\": 3,\n        \"samples\": [\n          0.8745123712531921,\n          0.7333962134628922,\n          1.0\n        ],\n        \"semantic_type\": \"\",\n        \"description\": \"\"\n      }\n    }\n  ]\n}"
            }
          },
          "metadata": {},
          "execution_count": 37
        }
      ]
    },
    {
      "cell_type": "markdown",
      "source": [
        "2. Create scatter plots with trendlines for these metrics against the Score.\n"
      ],
      "metadata": {
        "id": "0Vb19pe5WT0o"
      }
    },
    {
      "cell_type": "code",
      "source": [
        "plt.figure(figsize=(10, 6))\n",
        "sns.regplot(x=SouthAsia_df['Freedom to make life choices'], y=SouthAsia_df['score'], color='blue', label='Freedom to make life choices')\n",
        "plt.title(\"Scatter Plot of Freedom to make life choices vs Score\")\n",
        "plt.xlabel(\"Freedom to make life choices\")\n",
        "plt.ylabel(\"Score\")\n",
        "plt.legend()\n",
        "\n",
        "plt.show()"
      ],
      "metadata": {
        "colab": {
          "base_uri": "https://localhost:8080/",
          "height": 564
        },
        "id": "hBaT1-JhWSNC",
        "outputId": "5841961f-e16a-4ac4-9592-770657126a89"
      },
      "execution_count": null,
      "outputs": [
        {
          "output_type": "display_data",
          "data": {
            "text/plain": [
              "<Figure size 1000x600 with 1 Axes>"
            ],
            "image/png": "[encoded data removed]"
          },
          "metadata": {}
        }
      ]
    },
    {
      "cell_type": "code",
      "source": [
        "plt.figure(figsize=(10, 6))\n",
        "sns.regplot(x=SouthAsia_df['Generosity'], y=SouthAsia_df['score'], color='red', label='Generosity')\n",
        "plt.title(\"Scatter Plot of Generosity vs Score\")\n",
        "plt.xlabel(\"Generosity\")\n",
        "plt.ylabel(\"Score\")\n",
        "plt.legend()\n",
        "\n",
        "plt.show()"
      ],
      "metadata": {
        "colab": {
          "base_uri": "https://localhost:8080/",
          "height": 564
        },
        "id": "rivEN2k_WqgR",
        "outputId": "6a931d9a-f0dd-49d6-c09a-ed14fc4e03a1"
      },
      "execution_count": null,
      "outputs": [
        {
          "output_type": "display_data",
          "data": {
            "text/plain": [
              "<Figure size 1000x600 with 1 Axes>"
            ],
            "image/png": "[encoded data removed]"
          },
          "metadata": {}
        }
      ]
    },
    {
      "cell_type": "markdown",
      "source": [
        "3. Identify and discuss the strongest and weakest relationships between these metrics and the Score for\n",
        "South Asian countries.\n",
        "\n",
        "  Ans: With a correlation of 0.874512, Score and Generosity have the strongest association according to the correlation matrix shown above. This suggests that there is a strong positive correlation between generosity and scoring.\n",
        "\n",
        "  Whereas with correlation of 0.800519, the association between Score and Freedom to make life choices is seen to be the weakest."
      ],
      "metadata": {
        "id": "UX1o0blCWhY2"
      }
    },
    {
      "cell_type": "markdown",
      "source": [
        "Task - 5 - Gap Analysis:\n",
        "Tasks:\n",
        "1. Add a new column, GDP-Score Gap, which is the difference between GDP per Capita and the Score for each South Asian country.\n"
      ],
      "metadata": {
        "id": "2kvksEX-XRSi"
      }
    },
    {
      "cell_type": "code",
      "source": [
        "SouthAsia_df['GDP-Score Gap']= SouthAsia_df['Log GDP per capita']-SouthAsia_df['score']\n",
        "print(SouthAsia_df['GDP-Score Gap'])"
      ],
      "metadata": {
        "colab": {
          "base_uri": "https://localhost:8080/"
        },
        "id": "676euCopXSQY",
        "outputId": "2f0f3cf8-6205-4842-e9b3-dedf76eda23a"
      },
      "execution_count": null,
      "outputs": [
        {
          "output_type": "stream",
          "name": "stdout",
          "text": [
            "0   -4.193\n",
            "1   -3.588\n",
            "2   -2.888\n",
            "3   -2.537\n",
            "4   -2.764\n",
            "5   -1.093\n",
            "Name: GDP-Score Gap, dtype: float64\n"
          ]
        }
      ]
    },
    {
      "cell_type": "markdown",
      "source": [
        "\n",
        "2. Rank the South Asian countries by this gap in both ascending and descending order."
      ],
      "metadata": {
        "id": "0-AjuYheWp54"
      }
    },
    {
      "cell_type": "code",
      "source": [
        "SouthAsia_Rank_asc= SouthAsia_df.sort_values(by='GDP-Score Gap', ascending=True)\n",
        "SouthAsia_Rank_desc= SouthAsia_df.sort_values(by='GDP-Score Gap', ascending=False)\n",
        "print(\"In ascending:\\n\",SouthAsia_Rank_asc[['Country name', 'GDP-Score Gap']])\n",
        "print(\"\\n\")\n",
        "print(\"In descending:\\n\",SouthAsia_Rank_desc[['Country name', 'GDP-Score Gap']])"
      ],
      "metadata": {
        "colab": {
          "base_uri": "https://localhost:8080/"
        },
        "id": "3JY0JA8Iy0E8",
        "outputId": "4916b680-aead-449c-fc51-cee3a1fe705a"
      },
      "execution_count": null,
      "outputs": [
        {
          "output_type": "stream",
          "name": "stdout",
          "text": [
            "In ascending:\n",
            "   Country name  GDP-Score Gap\n",
            "0        Nepal         -4.193\n",
            "1     Pakistan         -3.588\n",
            "2        India         -2.888\n",
            "4   Bangladesh         -2.764\n",
            "3    Sri Lanka         -2.537\n",
            "5  Afghanistan         -1.093\n",
            "\n",
            "\n",
            "In descending:\n",
            "   Country name  GDP-Score Gap\n",
            "5  Afghanistan         -1.093\n",
            "3    Sri Lanka         -2.537\n",
            "4   Bangladesh         -2.764\n",
            "2        India         -2.888\n",
            "1     Pakistan         -3.588\n",
            "0        Nepal         -4.193\n"
          ]
        }
      ]
    },
    {
      "cell_type": "markdown",
      "source": [
        "3. Highlight the top 3 countries with the largest positive and negative gaps using a bar chart."
      ],
      "metadata": {
        "id": "OFg8leY8WxMv"
      }
    },
    {
      "cell_type": "code",
      "source": [
        "top3_positive= SouthAsia_Rank_desc.head(3)\n",
        "top3_negative= SouthAsia_Rank_asc.head(3)\n",
        "plt.figure(figsize=(10, 6))\n",
        "plt.bar(top3_positive['Country name'], top3_positive['GDP-Score Gap'], color='green', label='Positive Gap')\n",
        "plt.bar(top3_negative['Country name'], top3_negative['GDP-Score Gap'], color='red', label='Negative Gap')\n",
        "plt.title(\"Top 3 Countries with Largest Positive and Negative Gaps\")\n",
        "plt.xlabel(\"Country name\")\n",
        "plt.ylabel(\"GDP-Score Gap\")\n",
        "plt.legend()\n",
        "plt.show()"
      ],
      "metadata": {
        "colab": {
          "base_uri": "https://localhost:8080/",
          "height": 564
        },
        "id": "B3pvaVqZRIBE",
        "outputId": "eb27b913-0a35-4faf-e201-9ca00cae74f6"
      },
      "execution_count": null,
      "outputs": [
        {
          "output_type": "display_data",
          "data": {
            "text/plain": [
              "<Figure size 1000x600 with 1 Axes>"
            ],
            "image/png": "[encoded data removed]"
          },
          "metadata": {}
        }
      ]
    },
    {
      "cell_type": "markdown",
      "source": [
        "4. Analyze the reasons behind these gaps and their implications for South Asian countries.\n",
        "\n",
        "  Ans: In the above data, the GDP-Score Gap is negative as it is derived from (Log GDP per capita - score) where the value of score is greater than that of GDP per capita. This suggests that these nations' economic output is higher than their overall well-being score. The difference indicates that economic development has not entirely resulted in improved rankings."
      ],
      "metadata": {
        "id": "i33r9gNKW06m"
      }
    },
    {
      "cell_type": "markdown",
      "source": [
        "3.3 Problem - 3 - Comparative Analysis:\n",
        "\n",
        "Task - 1 - Setup Task - Preparing the Middle Eastern Dataset:\n",
        "\n",
        "Tasks:\n",
        "1. Similar in Task - 1 of Problem 2 create a dataframe from middle eastern countries. For hint use the\n",
        "following list:\n",
        "\n",
        "  middle east countries = [ \"Bahrain\", \"Iran\", \"Iraq\", \"Israel\", \"Jordan\",\n",
        "\"Kuwait\", \"Lebanon\", \"Oman\", \"Palestine\", \"Qatar\", \"Saudi Arabia\", \"Syria\",\n",
        "\"United Arab Emirates\", \"Yemen\"]\n",
        "\n",
        "Complete the following task:"
      ],
      "metadata": {
        "id": "r-4Y3QlrW3EH"
      }
    },
    {
      "cell_type": "code",
      "source": [
        "middle_east_countries = [\"Bahrain\", \"Iran\", \"Iraq\", \"Israel\", \"Jordan\", \"Kuwait\", \"Lebanon\", \"Oman\", \"State of Palestine\", \"Qatar\", \"Saudi Arabia\", \"Syria\", \"United Arab Emirates\", \"Yemen\"]\n",
        "middle_east_data = data_frame[data_frame['Country name'].isin(middle_east_countries)]\n",
        "middle_east_data.to_csv('/content/drive/MyDrive/AI/Resources/Assignment1/Middle_east_countries.csv', index=False)"
      ],
      "metadata": {
        "id": "2ChjoTtSXHnW"
      },
      "execution_count": null,
      "outputs": []
    },
    {
      "cell_type": "code",
      "source": [
        "MiddleEast_df= pd.read_csv('/content/drive/MyDrive/AI/Resources/Assignment1/Middle_east_countries.csv')\n",
        "MiddleEast_df"
      ],
      "metadata": {
        "colab": {
          "base_uri": "https://localhost:8080/",
          "height": 394
        },
        "id": "4slIzJMuax4V",
        "outputId": "9455b3e0-214b-4d63-993e-e83983b4e381"
      },
      "execution_count": null,
      "outputs": [
        {
          "output_type": "execute_result",
          "data": {
            "text/plain": [
              "            Country name  score  Log GDP per capita  Social support  \\\n",
              "0                 Israel  7.341               1.803           1.513   \n",
              "1                 Kuwait  6.951               1.845           1.364   \n",
              "2   United Arab Emirates  6.733               1.983           1.164   \n",
              "3           Saudi Arabia  6.594               1.842           1.361   \n",
              "4                Bahrain  5.959                 NaN             NaN   \n",
              "5                   Iraq  5.166               1.249           0.996   \n",
              "6                   Iran  4.923               1.435           1.136   \n",
              "7     State of Palestine  4.879                 NaN             NaN   \n",
              "8                 Jordan  4.186               1.262           0.983   \n",
              "9                  Yemen  3.561               0.671           1.281   \n",
              "10               Lebanon  2.707               1.377           0.577   \n",
              "\n",
              "    Healthy life expectancy  Freedom to make life choices  Generosity  \\\n",
              "0                     0.740                         0.641       0.153   \n",
              "1                     0.661                         0.827       0.200   \n",
              "2                     0.563                         0.815       0.209   \n",
              "3                     0.511                         0.787       0.114   \n",
              "4                       NaN                           NaN         NaN   \n",
              "5                     0.498                         0.425       0.141   \n",
              "6                     0.571                         0.366       0.235   \n",
              "7                       NaN                           NaN         NaN   \n",
              "8                     0.594                         0.593       0.059   \n",
              "9                     0.293                         0.362       0.080   \n",
              "10                    0.556                         0.173       0.068   \n",
              "\n",
              "    Perceptions of corruption  Dystopia + residual Happiness Category  \n",
              "0                       0.193                2.298               High  \n",
              "1                       0.172                1.884               High  \n",
              "2                       0.258                1.741               High  \n",
              "3                       0.188                1.790               High  \n",
              "4                         NaN                  NaN             Medium  \n",
              "5                       0.048                1.809             Medium  \n",
              "6                       0.123                1.057             Medium  \n",
              "7                         NaN                  NaN             Medium  \n",
              "8                       0.189                0.504             Medium  \n",
              "9                       0.113                0.760                Low  \n",
              "10                      0.029               -0.073                Low  "
            ],
            "text/html": [
              "\n",
              "  <div id=\"df-5f1a1c50-a21d-4e16-90d6-fe73754cbd24\" class=\"colab-df-container\">\n",
              "    <div>\n",
              "<style scoped>\n",
              "    .dataframe tbody tr th:only-of-type {\n",
              "        vertical-align: middle;\n",
              "    }\n",
              "\n",
              "    .dataframe tbody tr th {\n",
              "        vertical-align: top;\n",
              "    }\n",
              "\n",
              "    .dataframe thead th {\n",
              "        text-align: right;\n",
              "    }\n",
              "</style>\n",
              "<table border=\"1\" class=\"dataframe\">\n",
              "  <thead>\n",
              "    <tr style=\"text-align: right;\">\n",
              "      <th></th>\n",
              "      <th>Country name</th>\n",
              "      <th>score</th>\n",
              "      <th>Log GDP per capita</th>\n",
              "      <th>Social support</th>\n",
              "      <th>Healthy life expectancy</th>\n",
              "      <th>Freedom to make life choices</th>\n",
              "      <th>Generosity</th>\n",
              "      <th>Perceptions of corruption</th>\n",
              "      <th>Dystopia + residual</th>\n",
              "      <th>Happiness Category</th>\n",
              "    </tr>\n",
              "  </thead>\n",
              "  <tbody>\n",
              "    <tr>\n",
              "      <th>0</th>\n",
              "      <td>Israel</td>\n",
              "      <td>7.341</td>\n",
              "      <td>1.803</td>\n",
              "      <td>1.513</td>\n",
              "      <td>0.740</td>\n",
              "      <td>0.641</td>\n",
              "      <td>0.153</td>\n",
              "      <td>0.193</td>\n",
              "      <td>2.298</td>\n",
              "      <td>High</td>\n",
              "    </tr>\n",
              "    <tr>\n",
              "      <th>1</th>\n",
              "      <td>Kuwait</td>\n",
              "      <td>6.951</td>\n",
              "      <td>1.845</td>\n",
              "      <td>1.364</td>\n",
              "      <td>0.661</td>\n",
              "      <td>0.827</td>\n",
              "      <td>0.200</td>\n",
              "      <td>0.172</td>\n",
              "      <td>1.884</td>\n",
              "      <td>High</td>\n",
              "    </tr>\n",
              "    <tr>\n",
              "      <th>2</th>\n",
              "      <td>United Arab Emirates</td>\n",
              "      <td>6.733</td>\n",
              "      <td>1.983</td>\n",
              "      <td>1.164</td>\n",
              "      <td>0.563</td>\n",
              "      <td>0.815</td>\n",
              "      <td>0.209</td>\n",
              "      <td>0.258</td>\n",
              "      <td>1.741</td>\n",
              "      <td>High</td>\n",
              "    </tr>\n",
              "    <tr>\n",
              "      <th>3</th>\n",
              "      <td>Saudi Arabia</td>\n",
              "      <td>6.594</td>\n",
              "      <td>1.842</td>\n",
              "      <td>1.361</td>\n",
              "      <td>0.511</td>\n",
              "      <td>0.787</td>\n",
              "      <td>0.114</td>\n",
              "      <td>0.188</td>\n",
              "      <td>1.790</td>\n",
              "      <td>High</td>\n",
              "    </tr>\n",
              "    <tr>\n",
              "      <th>4</th>\n",
              "      <td>Bahrain</td>\n",
              "      <td>5.959</td>\n",
              "      <td>NaN</td>\n",
              "      <td>NaN</td>\n",
              "      <td>NaN</td>\n",
              "      <td>NaN</td>\n",
              "      <td>NaN</td>\n",
              "      <td>NaN</td>\n",
              "      <td>NaN</td>\n",
              "      <td>Medium</td>\n",
              "    </tr>\n",
              "    <tr>\n",
              "      <th>5</th>\n",
              "      <td>Iraq</td>\n",
              "      <td>5.166</td>\n",
              "      <td>1.249</td>\n",
              "      <td>0.996</td>\n",
              "      <td>0.498</td>\n",
              "      <td>0.425</td>\n",
              "      <td>0.141</td>\n",
              "      <td>0.048</td>\n",
              "      <td>1.809</td>\n",
              "      <td>Medium</td>\n",
              "    </tr>\n",
              "    <tr>\n",
              "      <th>6</th>\n",
              "      <td>Iran</td>\n",
              "      <td>4.923</td>\n",
              "      <td>1.435</td>\n",
              "      <td>1.136</td>\n",
              "      <td>0.571</td>\n",
              "      <td>0.366</td>\n",
              "      <td>0.235</td>\n",
              "      <td>0.123</td>\n",
              "      <td>1.057</td>\n",
              "      <td>Medium</td>\n",
              "    </tr>\n",
              "    <tr>\n",
              "      <th>7</th>\n",
              "      <td>State of Palestine</td>\n",
              "      <td>4.879</td>\n",
              "      <td>NaN</td>\n",
              "      <td>NaN</td>\n",
              "      <td>NaN</td>\n",
              "      <td>NaN</td>\n",
              "      <td>NaN</td>\n",
              "      <td>NaN</td>\n",
              "      <td>NaN</td>\n",
              "      <td>Medium</td>\n",
              "    </tr>\n",
              "    <tr>\n",
              "      <th>8</th>\n",
              "      <td>Jordan</td>\n",
              "      <td>4.186</td>\n",
              "      <td>1.262</td>\n",
              "      <td>0.983</td>\n",
              "      <td>0.594</td>\n",
              "      <td>0.593</td>\n",
              "      <td>0.059</td>\n",
              "      <td>0.189</td>\n",
              "      <td>0.504</td>\n",
              "      <td>Medium</td>\n",
              "    </tr>\n",
              "    <tr>\n",
              "      <th>9</th>\n",
              "      <td>Yemen</td>\n",
              "      <td>3.561</td>\n",
              "      <td>0.671</td>\n",
              "      <td>1.281</td>\n",
              "      <td>0.293</td>\n",
              "      <td>0.362</td>\n",
              "      <td>0.080</td>\n",
              "      <td>0.113</td>\n",
              "      <td>0.760</td>\n",
              "      <td>Low</td>\n",
              "    </tr>\n",
              "    <tr>\n",
              "      <th>10</th>\n",
              "      <td>Lebanon</td>\n",
              "      <td>2.707</td>\n",
              "      <td>1.377</td>\n",
              "      <td>0.577</td>\n",
              "      <td>0.556</td>\n",
              "      <td>0.173</td>\n",
              "      <td>0.068</td>\n",
              "      <td>0.029</td>\n",
              "      <td>-0.073</td>\n",
              "      <td>Low</td>\n",
              "    </tr>\n",
              "  </tbody>\n",
              "</table>\n",
              "</div>\n",
              "    <div class=\"colab-df-buttons\">\n",
              "\n",
              "  <div class=\"colab-df-container\">\n",
              "    <button class=\"colab-df-convert\" onclick=\"convertToInteractive('df-5f1a1c50-a21d-4e16-90d6-fe73754cbd24')\"\n",
              "            title=\"Convert this dataframe to an interactive table.\"\n",
              "            style=\"display:none;\">\n",
              "\n",
              "  <svg xmlns=\"http://www.w3.org/2000/svg\" height=\"24px\" viewBox=\"0 -960 960 960\">\n",
              "    <path d=\"M120-120v-720h720v720H120Zm60-500h600v-160H180v160Zm220 220h160v-160H400v160Zm0 220h160v-160H400v160ZM180-400h160v-160H180v160Zm440 0h160v-160H620v160ZM180-180h160v-160H180v160Zm440 0h160v-160H620v160Z\"/>\n",
              "  </svg>\n",
              "    </button>\n",
              "\n",
              "  <style>\n",
              "    .colab-df-container {\n",
              "      display:flex;\n",
              "      gap: 12px;\n",
              "    }\n",
              "\n",
              "    .colab-df-convert {\n",
              "      background-color: #E8F0FE;\n",
              "      border: none;\n",
              "      border-radius: 50%;\n",
              "      cursor: pointer;\n",
              "      display: none;\n",
              "      fill: #1967D2;\n",
              "      height: 32px;\n",
              "      padding: 0 0 0 0;\n",
              "      width: 32px;\n",
              "    }\n",
              "\n",
              "    .colab-df-convert:hover {\n",
              "      background-color: #E2EBFA;\n",
              "      box-shadow: 0px 1px 2px rgba(60, 64, 67, 0.3), 0px 1px 3px 1px rgba(60, 64, 67, 0.15);\n",
              "      fill: #174EA6;\n",
              "    }\n",
              "\n",
              "    .colab-df-buttons div {\n",
              "      margin-bottom: 4px;\n",
              "    }\n",
              "\n",
              "    [theme=dark] .colab-df-convert {\n",
              "      background-color: #3B4455;\n",
              "      fill: #D2E3FC;\n",
              "    }\n",
              "\n",
              "    [theme=dark] .colab-df-convert:hover {\n",
              "      background-color: #434B5C;\n",
              "      box-shadow: 0px 1px 3px 1px rgba(0, 0, 0, 0.15);\n",
              "      filter: drop-shadow(0px 1px 2px rgba(0, 0, 0, 0.3));\n",
              "      fill: #FFFFFF;\n",
              "    }\n",
              "  </style>\n",
              "\n",
              "    <script>\n",
              "      const buttonEl =\n",
              "        document.querySelector('#df-5f1a1c50-a21d-4e16-90d6-fe73754cbd24 button.colab-df-convert');\n",
              "      buttonEl.style.display =\n",
              "        google.colab.kernel.accessAllowed ? 'block' : 'none';\n",
              "\n",
              "      async function convertToInteractive(key) {\n",
              "        const element = document.querySelector('#df-5f1a1c50-a21d-4e16-90d6-fe73754cbd24');\n",
              "        const dataTable =\n",
              "          await google.colab.kernel.invokeFunction('convertToInteractive',\n",
              "                                                    [key], {});\n",
              "        if (!dataTable) return;\n",
              "\n",
              "        const docLinkHtml = 'Like what you see? Visit the ' +\n",
              "          '<a target=\"_blank\" href=https://colab.research.google.com/notebooks/data_table.ipynb>data table notebook</a>'\n",
              "          + ' to learn more about interactive tables.';\n",
              "        element.innerHTML = '';\n",
              "        dataTable['output_type'] = 'display_data';\n",
              "        await google.colab.output.renderOutput(dataTable, element);\n",
              "        const docLink = document.createElement('div');\n",
              "        docLink.innerHTML = docLinkHtml;\n",
              "        element.appendChild(docLink);\n",
              "      }\n",
              "    </script>\n",
              "  </div>\n",
              "\n",
              "\n",
              "<div id=\"df-79ef3d20-6cb5-4b70-9749-b47a2127338a\">\n",
              "  <button class=\"colab-df-quickchart\" onclick=\"quickchart('df-79ef3d20-6cb5-4b70-9749-b47a2127338a')\"\n",
              "            title=\"Suggest charts\"\n",
              "            style=\"display:none;\">\n",
              "\n",
              "<svg xmlns=\"http://www.w3.org/2000/svg\" height=\"24px\"viewBox=\"0 0 24 24\"\n",
              "     width=\"24px\">\n",
              "    <g>\n",
              "        <path d=\"M19 3H5c-1.1 0-2 .9-2 2v14c0 1.1.9 2 2 2h14c1.1 0 2-.9 2-2V5c0-1.1-.9-2-2-2zM9 17H7v-7h2v7zm4 0h-2V7h2v10zm4 0h-2v-4h2v4z\"/>\n",
              "    </g>\n",
              "</svg>\n",
              "  </button>\n",
              "\n",
              "<style>\n",
              "  .colab-df-quickchart {\n",
              "      --bg-color: #E8F0FE;\n",
              "      --fill-color: #1967D2;\n",
              "      --hover-bg-color: #E2EBFA;\n",
              "      --hover-fill-color: #174EA6;\n",
              "      --disabled-fill-color: #AAA;\n",
              "      --disabled-bg-color: #DDD;\n",
              "  }\n",
              "\n",
              "  [theme=dark] .colab-df-quickchart {\n",
              "      --bg-color: #3B4455;\n",
              "      --fill-color: #D2E3FC;\n",
              "      --hover-bg-color: #434B5C;\n",
              "      --hover-fill-color: #FFFFFF;\n",
              "      --disabled-bg-color: #3B4455;\n",
              "      --disabled-fill-color: #666;\n",
              "  }\n",
              "\n",
              "  .colab-df-quickchart {\n",
              "    background-color: var(--bg-color);\n",
              "    border: none;\n",
              "    border-radius: 50%;\n",
              "    cursor: pointer;\n",
              "    display: none;\n",
              "    fill: var(--fill-color);\n",
              "    height: 32px;\n",
              "    padding: 0;\n",
              "    width: 32px;\n",
              "  }\n",
              "\n",
              "  .colab-df-quickchart:hover {\n",
              "    background-color: var(--hover-bg-color);\n",
              "    box-shadow: 0 1px 2px rgba(60, 64, 67, 0.3), 0 1px 3px 1px rgba(60, 64, 67, 0.15);\n",
              "    fill: var(--button-hover-fill-color);\n",
              "  }\n",
              "\n",
              "  .colab-df-quickchart-complete:disabled,\n",
              "  .colab-df-quickchart-complete:disabled:hover {\n",
              "    background-color: var(--disabled-bg-color);\n",
              "    fill: var(--disabled-fill-color);\n",
              "    box-shadow: none;\n",
              "  }\n",
              "\n",
              "  .colab-df-spinner {\n",
              "    border: 2px solid var(--fill-color);\n",
              "    border-color: transparent;\n",
              "    border-bottom-color: var(--fill-color);\n",
              "    animation:\n",
              "      spin 1s steps(1) infinite;\n",
              "  }\n",
              "\n",
              "  @keyframes spin {\n",
              "    0% {\n",
              "      border-color: transparent;\n",
              "      border-bottom-color: var(--fill-color);\n",
              "      border-left-color: var(--fill-color);\n",
              "    }\n",
              "    20% {\n",
              "      border-color: transparent;\n",
              "      border-left-color: var(--fill-color);\n",
              "      border-top-color: var(--fill-color);\n",
              "    }\n",
              "    30% {\n",
              "      border-color: transparent;\n",
              "      border-left-color: var(--fill-color);\n",
              "      border-top-color: var(--fill-color);\n",
              "      border-right-color: var(--fill-color);\n",
              "    }\n",
              "    40% {\n",
              "      border-color: transparent;\n",
              "      border-right-color: var(--fill-color);\n",
              "      border-top-color: var(--fill-color);\n",
              "    }\n",
              "    60% {\n",
              "      border-color: transparent;\n",
              "      border-right-color: var(--fill-color);\n",
              "    }\n",
              "    80% {\n",
              "      border-color: transparent;\n",
              "      border-right-color: var(--fill-color);\n",
              "      border-bottom-color: var(--fill-color);\n",
              "    }\n",
              "    90% {\n",
              "      border-color: transparent;\n",
              "      border-bottom-color: var(--fill-color);\n",
              "    }\n",
              "  }\n",
              "</style>\n",
              "\n",
              "  <script>\n",
              "    async function quickchart(key) {\n",
              "      const quickchartButtonEl =\n",
              "        document.querySelector('#' + key + ' button');\n",
              "      quickchartButtonEl.disabled = true;  // To prevent multiple clicks.\n",
              "      quickchartButtonEl.classList.add('colab-df-spinner');\n",
              "      try {\n",
              "        const charts = await google.colab.kernel.invokeFunction(\n",
              "            'suggestCharts', [key], {});\n",
              "      } catch (error) {\n",
              "        console.error('Error during call to suggestCharts:', error);\n",
              "      }\n",
              "      quickchartButtonEl.classList.remove('colab-df-spinner');\n",
              "      quickchartButtonEl.classList.add('colab-df-quickchart-complete');\n",
              "    }\n",
              "    (() => {\n",
              "      let quickchartButtonEl =\n",
              "        document.querySelector('#df-79ef3d20-6cb5-4b70-9749-b47a2127338a button');\n",
              "      quickchartButtonEl.style.display =\n",
              "        google.colab.kernel.accessAllowed ? 'block' : 'none';\n",
              "    })();\n",
              "  </script>\n",
              "</div>\n",
              "\n",
              "  <div id=\"id_98ad26ab-0848-446a-8bd4-22e43e6a03a2\">\n",
              "    <style>\n",
              "      .colab-df-generate {\n",
              "        background-color: #E8F0FE;\n",
              "        border: none;\n",
              "        border-radius: 50%;\n",
              "        cursor: pointer;\n",
              "        display: none;\n",
              "        fill: #1967D2;\n",
              "        height: 32px;\n",
              "        padding: 0 0 0 0;\n",
              "        width: 32px;\n",
              "      }\n",
              "\n",
              "      .colab-df-generate:hover {\n",
              "        background-color: #E2EBFA;\n",
              "        box-shadow: 0px 1px 2px rgba(60, 64, 67, 0.3), 0px 1px 3px 1px rgba(60, 64, 67, 0.15);\n",
              "        fill: #174EA6;\n",
              "      }\n",
              "\n",
              "      [theme=dark] .colab-df-generate {\n",
              "        background-color: #3B4455;\n",
              "        fill: #D2E3FC;\n",
              "      }\n",
              "\n",
              "      [theme=dark] .colab-df-generate:hover {\n",
              "        background-color: #434B5C;\n",
              "        box-shadow: 0px 1px 3px 1px rgba(0, 0, 0, 0.15);\n",
              "        filter: drop-shadow(0px 1px 2px rgba(0, 0, 0, 0.3));\n",
              "        fill: #FFFFFF;\n",
              "      }\n",
              "    </style>\n",
              "    <button class=\"colab-df-generate\" onclick=\"generateWithVariable('MiddleEast_df')\"\n",
              "            title=\"Generate code using this dataframe.\"\n",
              "            style=\"display:none;\">\n",
              "\n",
              "  <svg xmlns=\"http://www.w3.org/2000/svg\" height=\"24px\"viewBox=\"0 0 24 24\"\n",
              "       width=\"24px\">\n",
              "    <path d=\"M7,19H8.4L18.45,9,17,7.55,7,17.6ZM5,21V16.75L18.45,3.32a2,2,0,0,1,2.83,0l1.4,1.43a1.91,1.91,0,0,1,.58,1.4,1.91,1.91,0,0,1-.58,1.4L9.25,21ZM18.45,9,17,7.55Zm-12,3A5.31,5.31,0,0,0,4.9,8.1,5.31,5.31,0,0,0,1,6.5,5.31,5.31,0,0,0,4.9,4.9,5.31,5.31,0,0,0,6.5,1,5.31,5.31,0,0,0,8.1,4.9,5.31,5.31,0,0,0,12,6.5,5.46,5.46,0,0,0,6.5,12Z\"/>\n",
              "  </svg>\n",
              "    </button>\n",
              "    <script>\n",
              "      (() => {\n",
              "      const buttonEl =\n",
              "        document.querySelector('#id_98ad26ab-0848-446a-8bd4-22e43e6a03a2 button.colab-df-generate');\n",
              "      buttonEl.style.display =\n",
              "        google.colab.kernel.accessAllowed ? 'block' : 'none';\n",
              "\n",
              "      buttonEl.onclick = () => {\n",
              "        google.colab.notebook.generateWithVariable('MiddleEast_df');\n",
              "      }\n",
              "      })();\n",
              "    </script>\n",
              "  </div>\n",
              "\n",
              "    </div>\n",
              "  </div>\n"
            ],
            "application/vnd.google.colaboratory.intrinsic+json": {
              "type": "dataframe",
              "variable_name": "MiddleEast_df",
              "summary": "{\n  \"name\": \"MiddleEast_df\",\n  \"rows\": 11,\n  \"fields\": [\n    {\n      \"column\": \"Country name\",\n      \"properties\": {\n        \"dtype\": \"string\",\n        \"num_unique_values\": 11,\n        \"samples\": [\n          \"Iraq\",\n          \"Israel\",\n          \"Yemen\"\n        ],\n        \"semantic_type\": \"\",\n        \"description\": \"\"\n      }\n    },\n    {\n      \"column\": \"score\",\n      \"properties\": {\n        \"dtype\": \"number\",\n        \"std\": 1.4944977265106343,\n        \"min\": 2.707,\n        \"max\": 7.341,\n        \"num_unique_values\": 11,\n        \"samples\": [\n          5.166,\n          7.341,\n          3.561\n        ],\n        \"semantic_type\": \"\",\n        \"description\": \"\"\n      }\n    },\n    {\n      \"column\": \"Log GDP per capita\",\n      \"properties\": {\n        \"dtype\": \"number\",\n        \"std\": 0.41641415681986604,\n        \"min\": 0.671,\n        \"max\": 1.983,\n        \"num_unique_values\": 9,\n        \"samples\": [\n          0.671,\n          1.845,\n          1.435\n        ],\n        \"semantic_type\": \"\",\n        \"description\": \"\"\n      }\n    },\n    {\n      \"column\": \"Social support\",\n      \"properties\": {\n        \"dtype\": \"number\",\n        \"std\": 0.27827674075359665,\n        \"min\": 0.577,\n        \"max\": 1.513,\n        \"num_unique_values\": 9,\n        \"samples\": [\n          1.281,\n          1.364,\n          1.136\n        ],\n        \"semantic_type\": \"\",\n        \"description\": \"\"\n      }\n    },\n    {\n      \"column\": \"Healthy life expectancy\",\n      \"properties\": {\n        \"dtype\": \"number\",\n        \"std\": 0.12304719058601506,\n        \"min\": 0.293,\n        \"max\": 0.74,\n        \"num_unique_values\": 9,\n        \"samples\": [\n          0.293,\n          0.661,\n          0.571\n        ],\n        \"semantic_type\": \"\",\n        \"description\": \"\"\n      }\n    },\n    {\n      \"column\": \"Freedom to make life choices\",\n      \"properties\": {\n        \"dtype\": \"number\",\n        \"std\": 0.23453091480655594,\n        \"min\": 0.173,\n        \"max\": 0.827,\n        \"num_unique_values\": 9,\n        \"samples\": [\n          0.362,\n          0.827,\n          0.366\n        ],\n        \"semantic_type\": \"\",\n        \"description\": \"\"\n      }\n    },\n    {\n      \"column\": \"Generosity\",\n      \"properties\": {\n        \"dtype\": \"number\",\n        \"std\": 0.06478511488846116,\n        \"min\": 0.059,\n        \"max\": 0.235,\n        \"num_unique_values\": 9,\n        \"samples\": [\n          0.08,\n          0.2,\n          0.235\n        ],\n        \"semantic_type\": \"\",\n        \"description\": \"\"\n      }\n    },\n    {\n      \"column\": \"Perceptions of corruption\",\n      \"properties\": {\n        \"dtype\": \"number\",\n        \"std\": 0.07412227135693503,\n        \"min\": 0.029,\n        \"max\": 0.258,\n        \"num_unique_values\": 9,\n        \"samples\": [\n          0.113,\n          0.172,\n          0.123\n        ],\n        \"semantic_type\": \"\",\n        \"description\": \"\"\n      }\n    },\n    {\n      \"column\": \"Dystopia + residual\",\n      \"properties\": {\n        \"dtype\": \"number\",\n        \"std\": 0.7825895759875955,\n        \"min\": -0.073,\n        \"max\": 2.298,\n        \"num_unique_values\": 9,\n        \"samples\": [\n          0.76,\n          1.884,\n          1.057\n        ],\n        \"semantic_type\": \"\",\n        \"description\": \"\"\n      }\n    },\n    {\n      \"column\": \"Happiness Category\",\n      \"properties\": {\n        \"dtype\": \"category\",\n        \"num_unique_values\": 3,\n        \"samples\": [\n          \"High\",\n          \"Medium\",\n          \"Low\"\n        ],\n        \"semantic_type\": \"\",\n        \"description\": \"\"\n      }\n    }\n  ]\n}"
            }
          },
          "metadata": {},
          "execution_count": 45
        }
      ]
    },
    {
      "cell_type": "markdown",
      "source": [
        "1. Descriptive Statistics:\n",
        "\n",
        "• Calculate the mean, Standard deviation of the score for both South Asia and Middle East.\n"
      ],
      "metadata": {
        "id": "4HkCerFRdc3y"
      }
    },
    {
      "cell_type": "code",
      "source": [
        "print(\"Mean of south Asia\",SouthAsia_df['score'].mean())\n",
        "print(\"Standard deviation of south Asia\",SouthAsia_df['score'].std())\n",
        "print(\"\\n\")\n",
        "print(\"Mean of Middle East\",MiddleEast_df['score'].mean())\n",
        "print(\"Standard deviation of Middle East\",MiddleEast_df['score'].std())"
      ],
      "metadata": {
        "colab": {
          "base_uri": "https://localhost:8080/"
        },
        "id": "Wzdk_GqtdiTp",
        "outputId": "81d8c096-643f-4391-b900-1d8e8bd198ff"
      },
      "execution_count": null,
      "outputs": [
        {
          "output_type": "stream",
          "name": "stdout",
          "text": [
            "Mean of south Asia 3.895666666666667\n",
            "Standard deviation of south Asia 1.1770690152521504\n",
            "\n",
            "\n",
            "Mean of Middle East 5.363636363636363\n",
            "Standard deviation of Middle East 1.4944977265106343\n"
          ]
        }
      ]
    },
    {
      "cell_type": "markdown",
      "source": [
        "• Which region has higher happiness Scores on average?\n",
        "\n",
        "Ans: In the above data we can see that both the mean and standard deviation of middle east countries(mean= 5.3636, std=1.4944) is greater than that of south asian countries(mean= 3.8958, std=1.1770). So this suggests that Middle Eastern nations score higher on happiness than South Asian nations on average.  "
      ],
      "metadata": {
        "id": "C7oCj1PofZP3"
      }
    },
    {
      "cell_type": "markdown",
      "source": [
        "2. Top and Bottom Performers:\n",
        "\n",
        "• Identify the top 3 and bottom 3 countries in each region based on the score.\n",
        "\n",
        "• Plot bar charts comparing these charts"
      ],
      "metadata": {
        "id": "LQQlpWcMg5Zg"
      }
    },
    {
      "cell_type": "code",
      "source": [
        "top3_SouthAsian= SouthAsia_df.nlargest(3, 'score')\n",
        "bottom3_SouthAsian= SouthAsia_df.nsmallest(3, 'score')\n",
        "print(\"Top 3 countries in South Asia:\\n\",top3_SouthAsian['Country name'])\n",
        "print(\"Bottom 3 countries in South Asia:\\n\",bottom3_SouthAsian['Country name'])\n",
        "top3_MiddleEast= MiddleEast_df.nlargest(3, 'score')\n",
        "bottom3_MiddleEast= MiddleEast_df.nsmallest(3, 'score')\n",
        "print(\"Top 3 countries in South Asia:\\n\",top3_MiddleEast['Country name'])\n",
        "print(\"Bottom 3 countries in South Asia:\\n\",bottom3_MiddleEast['Country name'])"
      ],
      "metadata": {
        "colab": {
          "base_uri": "https://localhost:8080/"
        },
        "id": "tprcr9LWe9EA",
        "outputId": "dfd5786d-2923-4c3b-8667-bdd4859935e5"
      },
      "execution_count": null,
      "outputs": [
        {
          "output_type": "stream",
          "name": "stdout",
          "text": [
            "Top 3 countries in South Asia:\n",
            " 0       Nepal\n",
            "1    Pakistan\n",
            "2       India\n",
            "Name: Country name, dtype: object\n",
            "Bottom 3 countries in South Asia:\n",
            " 5    Afghanistan\n",
            "4     Bangladesh\n",
            "3      Sri Lanka\n",
            "Name: Country name, dtype: object\n",
            "Top 3 countries in South Asia:\n",
            " 0                  Israel\n",
            "1                  Kuwait\n",
            "2    United Arab Emirates\n",
            "Name: Country name, dtype: object\n",
            "Bottom 3 countries in South Asia:\n",
            " 10    Lebanon\n",
            "9       Yemen\n",
            "8      Jordan\n",
            "Name: Country name, dtype: object\n"
          ]
        }
      ]
    },
    {
      "cell_type": "code",
      "source": [
        "plt.figure(figsize=(10, 6))\n",
        "plt.bar(top3_SouthAsian['Country name'], top3_SouthAsian['score'], color='green', label='Top 3')\n",
        "plt.bar(bottom3_SouthAsian['Country name'], bottom3_SouthAsian['score'], color='red', label='Bottom 3')\n",
        "plt.title(\"Top 3 and Bottom 3 Countries in South Asia\")\n",
        "plt.xlabel(\"Country name\")\n",
        "plt.ylabel(\"Score\")\n",
        "plt.legend()\n",
        "plt.show()"
      ],
      "metadata": {
        "colab": {
          "base_uri": "https://localhost:8080/",
          "height": 564
        },
        "id": "-QkhlDsOh-cD",
        "outputId": "eacc7feb-ec67-458c-b36e-61cfeac09e6c"
      },
      "execution_count": null,
      "outputs": [
        {
          "output_type": "display_data",
          "data": {
            "text/plain": [
              "<Figure size 1000x600 with 1 Axes>"
            ],
            "image/png": "[encoded data removed]"
          },
          "metadata": {}
        }
      ]
    },
    {
      "cell_type": "code",
      "source": [
        "plt.figure(figsize=(10, 6))\n",
        "plt.bar(top3_MiddleEast['Country name'], top3_MiddleEast['score'], color='green', label='Top 3')\n",
        "plt.bar(bottom3_MiddleEast['Country name'], bottom3_MiddleEast['score'], color='red', label='Bottom 3')\n",
        "plt.title(\"Top 3 and Bottom 3 Countries in Middle east\")\n",
        "plt.xlabel(\"Country name\")\n",
        "plt.ylabel(\"Score\")\n",
        "plt.legend()\n",
        "plt.show()"
      ],
      "metadata": {
        "colab": {
          "base_uri": "https://localhost:8080/",
          "height": 564
        },
        "id": "EIc-i6P5i1Im",
        "outputId": "86a84290-eaa2-4c45-cd7b-83a4d0456648"
      },
      "execution_count": null,
      "outputs": [
        {
          "output_type": "display_data",
          "data": {
            "text/plain": [
              "<Figure size 1000x600 with 1 Axes>"
            ],
            "image/png": "[encoded data removed]"
          },
          "metadata": {}
        }
      ]
    },
    {
      "cell_type": "markdown",
      "source": [
        "3. Metric Comparisons:\n",
        "\n",
        "• Compare key metrics like GDP per Capita, Social Support, and Healthy Life Expectancy between the regions using grouped bar charts.\n",
        "\n",
        "• Which metrics show the largest disparity between the two regions?"
      ],
      "metadata": {
        "id": "lTN53NSbjOAQ"
      }
    },
    {
      "cell_type": "code",
      "source": [
        "import numpy as np\n",
        "SA_GDP = SouthAsia_df['Log GDP per capita'].mean()\n",
        "SA_Social = SouthAsia_df['Social support'].mean()\n",
        "SA_Healthy = SouthAsia_df['Healthy life expectancy'].mean()\n",
        "ME_GDP = MiddleEast_df['Log GDP per capita'].mean()\n",
        "ME_Social = MiddleEast_df['Social support'].mean()\n",
        "ME_Healthy = MiddleEast_df['Healthy life expectancy'].mean()\n",
        "\n",
        "categories = ['GDP per Capita', 'Social Support', 'Healthy Life Expectancy']\n",
        "\n",
        "SA_values = [SA_GDP, SA_Social, SA_Healthy]\n",
        "ME_values = [ME_GDP, ME_Social, ME_Healthy]\n",
        "\n",
        "bar_width = 0.35\n",
        "index = np.arange(len(categories))\n",
        "\n",
        "plt.figure(figsize=(10, 6))\n",
        "plt.bar(index - bar_width/2, SA_values, bar_width, label='South Asia', color='blue')\n",
        "plt.bar(index + bar_width/2, ME_values, bar_width, label='Middle East', color='black')\n",
        "plt.xlabel('Metric')\n",
        "plt.ylabel('Average Metric Value')\n",
        "plt.title('Comparison of Key Metrics between South Asia and Middle East')\n",
        "plt.xticks(index, categories)\n",
        "plt.legend()\n",
        "plt.show()"
      ],
      "metadata": {
        "id": "GEfkOsdijS_4",
        "colab": {
          "base_uri": "https://localhost:8080/",
          "height": 564
        },
        "outputId": "e85bfc72-a2c6-4437-91c0-fb9ddba2441c"
      },
      "execution_count": null,
      "outputs": [
        {
          "output_type": "display_data",
          "data": {
            "text/plain": [
              "<Figure size 1000x600 with 1 Axes>"
            ],
            "image/png": "[encoded data removed]"
          },
          "metadata": {}
        }
      ]
    },
    {
      "cell_type": "code",
      "source": [
        "GDP_Disparity = abs(SA_GDP - ME_GDP)\n",
        "Social_Disparity = abs(SA_Social - ME_Social)\n",
        "Healthy_Disparity = abs(SA_Healthy - ME_Healthy)\n",
        "\n",
        "if GDP_Disparity > Social_Disparity and GDP_Disparity > Healthy_Disparity:\n",
        "    print(\"The largest disparity is in GDP per Capita.\")\n",
        "elif Social_Disparity > GDP_Disparity and Social_Disparity > Healthy_Disparity:\n",
        "    print(\"The largest disparity is in Social Support.\")\n",
        "else:\n",
        "    print(\"The largest disparity is in Healthy Life Expectancy.\")"
      ],
      "metadata": {
        "colab": {
          "base_uri": "https://localhost:8080/"
        },
        "id": "npfTQsqtBkY9",
        "outputId": "0bd4a18c-9829-4d93-fd87-8bcacc15a478"
      },
      "execution_count": null,
      "outputs": [
        {
          "output_type": "stream",
          "name": "stdout",
          "text": [
            "The largest disparity is in Social Support.\n"
          ]
        }
      ]
    },
    {
      "cell_type": "markdown",
      "source": [
        "4. Happiness Disparity:\n",
        "\n",
        "• Compute the range (max - min) and coefficient of variation (CV) for Score in both regions.\n"
      ],
      "metadata": {
        "id": "GNjo8iYlkZZs"
      }
    },
    {
      "cell_type": "code",
      "source": [
        "range_SouthAsia= SouthAsia_df['score'].max()-SouthAsia_df['score'].min()\n",
        "range_MiddleEast= MiddleEast_df['score'].max()-MiddleEast_df['score'].min()\n",
        "\n",
        "CV_SouthAsia= SouthAsia_df['score'].std()/SouthAsia_df['score'].mean()\n",
        "CV_MiddleEast= MiddleEast_df['score'].std()/MiddleEast_df['score'].mean()\n",
        "\n",
        "print(\"Coefficient of variation of South Asia:\", CV_SouthAsia)\n",
        "print(\"Range of South Asia:\", range_SouthAsia)\n",
        "print(\"Coefficient of variation of Middle East:\", CV_MiddleEast)\n",
        "print(\"Range of Middle East:\", range_MiddleEast)"
      ],
      "metadata": {
        "colab": {
          "base_uri": "https://localhost:8080/"
        },
        "id": "j94exGIQkdE0",
        "outputId": "1693b624-e329-44e9-a7d3-c6260dfdccbe"
      },
      "execution_count": null,
      "outputs": [
        {
          "output_type": "stream",
          "name": "stdout",
          "text": [
            "Coefficient of variation of South Asia: 0.3021482883337427\n",
            "Range of South Asia: 3.4370000000000003\n",
            "Coefficient of variation of Middle East: 0.2786351693494403\n",
            "Range of Middle East: 4.634\n"
          ]
        }
      ]
    },
    {
      "cell_type": "markdown",
      "source": [
        "\n",
        "• Which region has greater variability in happiness?\n",
        "\n",
        "Ans: According to the data above, the South Asian countries' coefficient of variation (CV = 0.3021) is higher than those of the Middle Eastern countries i.e. (CV = 0.2786) whereas on the contrast of range Middle Eastern countries is higher(range=4.634) than of South Asian countries(range= 3.437) . This indicates that, Middle Eastern countries have greater variability."
      ],
      "metadata": {
        "id": "UIPg2gRSkdPE"
      }
    },
    {
      "cell_type": "markdown",
      "source": [
        "5. Correlation Analysis:\n",
        "\n",
        "• Analyze the correlation of Score with other metrics Freedom to Make Life Choices, and Generosity within each region.\n"
      ],
      "metadata": {
        "id": "cAKWn44KphQp"
      }
    },
    {
      "cell_type": "code",
      "source": [
        "def pearson_correlation(x, y):\n",
        "    x_mean = np.mean(x)\n",
        "    y_mean = np.mean(y)\n",
        "\n",
        "    numerator = np.sum((x - x_mean) * (y - y_mean))\n",
        "    denominator = np.sqrt(np.sum((x - x_mean) ** 2) * np.sum((y - y_mean) ** 2))\n",
        "\n",
        "    return numerator / denominator\n",
        "\n",
        "SA_freedom_correlation= pearson_correlation(SouthAsia_df['Freedom to make life choices'], SouthAsia_df['score'])\n",
        "SA_generosity_correlation = pearson_correlation(SouthAsia_df['Generosity'], SouthAsia_df['score'])\n",
        "print(\"correlation of Freedom to make life choices to Score of South Asian countries is: \", SA_freedom_correlation)\n",
        "print(\"correlation of Generosity to Score of South Asian countries is: \", SA_generosity_correlation)\n",
        "\n",
        "ME_freedom_correlation= pearson_correlation(MiddleEast_df['Freedom to make life choices'], MiddleEast_df['score'])\n",
        "ME_generosity_correlation = pearson_correlation(MiddleEast_df['Generosity'], MiddleEast_df['score'])\n",
        "print(\"correlation of Freedom to make life choices to Score of Middle East countries is: \", ME_freedom_correlation)\n",
        "print(\"correlation of Generosity to Score of Middle East countries is: \", ME_generosity_correlation)"
      ],
      "metadata": {
        "colab": {
          "base_uri": "https://localhost:8080/"
        },
        "id": "-jhHaQdKpkXP",
        "outputId": "3b682366-4c3b-4987-a2d3-1c1de0cb0b29"
      },
      "execution_count": null,
      "outputs": [
        {
          "output_type": "stream",
          "name": "stdout",
          "text": [
            "correlation of Freedom to make life choices to Score of South Asian countries is:  0.8005185224163315\n",
            "correlation of Generosity to Score of South Asian countries is:  0.8745123712531918\n",
            "correlation of Freedom to make life choices to Score of Middle East countries is:  0.8517291089073602\n",
            "correlation of Generosity to Score of Middle East countries is:  0.6191700976411778\n"
          ]
        }
      ]
    },
    {
      "cell_type": "markdown",
      "source": [
        "• Create scatter plots to visualize and interpret the relationships"
      ],
      "metadata": {
        "id": "4OArbTe9pke_"
      }
    },
    {
      "cell_type": "code",
      "source": [
        "plt.figure(figsize=(10, 6))\n",
        "plt.scatter(SouthAsia_df['Freedom to make life choices'], SouthAsia_df['score'], color='blue', label='South Asia')\n",
        "plt.scatter(MiddleEast_df['Freedom to make life choices'], MiddleEast_df['score'], color='red', label='Middle East')\n",
        "plt.title(\"Scatter Plot of Freedom to make life choices vs Score\")\n",
        "plt.xlabel(\"Freedom to make life choices\")\n",
        "plt.ylabel(\"Score\")\n",
        "plt.legend()\n",
        "plt.show()"
      ],
      "metadata": {
        "colab": {
          "base_uri": "https://localhost:8080/",
          "height": 564
        },
        "id": "Qk82ohFypk_4",
        "outputId": "616c096f-331e-4eec-e02b-797a3e9a07f9"
      },
      "execution_count": null,
      "outputs": [
        {
          "output_type": "display_data",
          "data": {
            "text/plain": [
              "<Figure size 1000x600 with 1 Axes>"
            ],
            "image/png": "[encoded data removed]"
          },
          "metadata": {}
        }
      ]
    },
    {
      "cell_type": "code",
      "source": [
        "plt.figure(figsize=(10, 6))\n",
        "plt.scatter(SouthAsia_df['Generosity'], SouthAsia_df['score'], color='blue', label='South Asia')\n",
        "plt.scatter(MiddleEast_df['Generosity'], MiddleEast_df['score'], color='red', label='Middle East')\n",
        "plt.title(\"Scatter Plot of Generosity vs Score\")\n",
        "plt.xlabel(\"Generosity\")\n",
        "plt.ylabel(\"Score\")\n",
        "plt.legend()\n",
        "plt.show()"
      ],
      "metadata": {
        "colab": {
          "base_uri": "https://localhost:8080/",
          "height": 564
        },
        "id": "1zgKkB5qsbMo",
        "outputId": "b976e98b-4d86-4b4f-e9af-3e66be090225"
      },
      "execution_count": null,
      "outputs": [
        {
          "output_type": "display_data",
          "data": {
            "text/plain": [
              "<Figure size 1000x600 with 1 Axes>"
            ],
            "image/png": "[encoded data removed]"
          },
          "metadata": {}
        }
      ]
    },
    {
      "cell_type": "markdown",
      "source": [
        "6. Outlier Detection:\n",
        "• Identify outlier countries in both regions based on Score and GDP per Capita.\n"
      ],
      "metadata": {
        "id": "Xn6Yuq01sqCe"
      }
    },
    {
      "cell_type": "code",
      "source": [
        "outliers_sa_score = detect_outliers(SouthAsia_df, 'score')\n",
        "outliers_me_score = detect_outliers(MiddleEast_df, 'score')\n",
        "outliers_sa_GDP = detect_outliers(SouthAsia_df, 'Log GDP per capita')\n",
        "outliers_me_GDP = detect_outliers(MiddleEast_df, 'Log GDP per capita')\n",
        "print(\"Outliers in South Asia based on score:\")\n",
        "print(outliers_sa_score['Country name'])\n",
        "\n",
        "print(\"\\nOutliers in Middle East based on score:\")\n",
        "print(outliers_me_score['Country name'])\n",
        "\n",
        "print(\"Outliers in South Asia based on Log GDP per capita:\")\n",
        "print(outliers_sa_GDP['Country name'])\n",
        "\n",
        "print(\"\\nOutliers in Middle East based on Log GDP per capita:\")\n",
        "print(outliers_me_GDP['Country name'])"
      ],
      "metadata": {
        "colab": {
          "base_uri": "https://localhost:8080/"
        },
        "id": "3wqlQ_xgsr-m",
        "outputId": "7607a62f-3736-47c0-fe79-7bc49da7e444"
      },
      "execution_count": null,
      "outputs": [
        {
          "output_type": "stream",
          "name": "stdout",
          "text": [
            "Outliers in South Asia based on score:\n",
            "5    Afghanistan\n",
            "Name: Country name, dtype: object\n",
            "\n",
            "Outliers in Middle East based on score:\n",
            "Series([], Name: Country name, dtype: object)\n",
            "Outliers in South Asia based on Log GDP per capita:\n",
            "5    Afghanistan\n",
            "Name: Country name, dtype: object\n",
            "\n",
            "Outliers in Middle East based on Log GDP per capita:\n",
            "Series([], Name: Country name, dtype: object)\n"
          ]
        }
      ]
    },
    {
      "cell_type": "markdown",
      "source": [
        "• Plot these outliers and discuss their implications."
      ],
      "metadata": {
        "id": "--C-xWTsssbH"
      }
    },
    {
      "cell_type": "code",
      "source": [
        "plt.figure(figsize=(12, 6))\n",
        "\n",
        "# Scatter plot for South Asia\n",
        "plt.subplot(1, 2, 1)\n",
        "sns.scatterplot(data=SouthAsia_df, x='Log GDP per capita', y='score', color='skyblue', label='Data Points')\n",
        "sns.scatterplot(data=outliers_sa_score, x='Log GDP per capita', y='score', color='red', label='Outliers', s=100)\n",
        "plt.title(\"South Asia: Score vs. Log GDP per capita\")\n",
        "plt.xlabel(\"Log GDP per capita\")\n",
        "plt.ylabel(\"Score\")\n",
        "\n",
        "# Scatter plot for Middle East\n",
        "plt.subplot(1, 2, 2)\n",
        "sns.scatterplot(data=MiddleEast_df, x='Log GDP per capita', y='score', color='lightcoral', label='Data Points')\n",
        "sns.scatterplot(data=outliers_me_score, x='Log GDP per capita', y='score', color='red', label='Outliers', s=100)\n",
        "plt.title(\"Middle East: Score vs. Log GDP per capita\")\n",
        "plt.xlabel(\"Log GDP per capita\")\n",
        "plt.ylabel(\"Score\")\n",
        "\n",
        "plt.legend()\n",
        "plt.tight_layout()\n",
        "plt.show()\n",
        "\n"
      ],
      "metadata": {
        "colab": {
          "base_uri": "https://localhost:8080/",
          "height": 607
        },
        "id": "T8M4V1QOss4P",
        "outputId": "a31a3ff0-fc8b-40d1-9266-bfb2d01a3489"
      },
      "execution_count": null,
      "outputs": [
        {
          "output_type": "display_data",
          "data": {
            "text/plain": [
              "<Figure size 1200x600 with 2 Axes>"
            ],
            "image/png": "[encoded data removed]"
          },
          "metadata": {}
        }
      ]
    },
    {
      "cell_type": "markdown",
      "source": [
        "7. Visualization:\n",
        "\n",
        "• Create boxplots comparing the distribution of Score between South Asia and the Middle East.\n"
      ],
      "metadata": {
        "id": "U2pMz-HswBsE"
      }
    },
    {
      "cell_type": "code",
      "source": [
        "# Plot for South Asia\n",
        "plt.figure(figsize=(8, 5))\n",
        "sns.boxplot(x='score', data=SouthAsia_df, color='skyblue')\n",
        "plt.title('Happiness Scores in South Asia', fontsize=14)\n",
        "plt.xlabel('Happiness Score', fontsize=12)\n",
        "plt.ylabel('South Asia', fontsize=12)\n",
        "plt.show()\n",
        "\n",
        "# Plot for Middle East\n",
        "plt.figure(figsize=(8, 5))\n",
        "sns.boxplot(x='score', data=MiddleEast_df, color='lightcoral')\n",
        "plt.title('Happiness Scores in the Middle East', fontsize=14)\n",
        "plt.xlabel('Happiness Score', fontsize=12)\n",
        "plt.ylabel('Middle East', fontsize=12)\n",
        "plt.show()"
      ],
      "metadata": {
        "colab": {
          "base_uri": "https://localhost:8080/",
          "height": 967
        },
        "id": "0fnOAjGlwE-t",
        "outputId": "0bfe31bf-b318-4b2d-9d9e-3a17acd86d35"
      },
      "execution_count": null,
      "outputs": [
        {
          "output_type": "display_data",
          "data": {
            "text/plain": [
              "<Figure size 800x500 with 1 Axes>"
            ],
            "image/png": "[encoded data removed]"
          },
          "metadata": {}
        },
        {
          "output_type": "display_data",
          "data": {
            "text/plain": [
              "<Figure size 800x500 with 1 Axes>"
            ],
            "image/png": "[encoded data removed]"
          },
          "metadata": {}
        }
      ]
    },
    {
      "cell_type": "markdown",
      "source": [
        "\n",
        "• Interpret the key differences in distribution shapes, medians, and outliers.\n",
        "\n",
        "Ans:\n",
        "\n",
        "South Asian countries:\n",
        "\n",
        "Shape of Distribution: South Asia shows a more compact distribution with fewer extreme values.The box indicates that the majority of the data falls between about 4 and 4.5. The whiskers, which roughly range from 3.5-4 (lower end) to greater than 5 (upper end), show the lowest and maximum scores that are not regarded as outliers.\n",
        "\n",
        "Median:\n",
        "The median score, which is around 4, is shown by the horizontal line inside the box.\n",
        "\n",
        "Outliers: One data point, shown as a tiny circle, located below the bottom whisker in range of(1-2) is South Asia's lower outlier i.e. Afghanistan.\n",
        "\n",
        "Middle Eastern countires:\n",
        "\n",
        "Shape of Distribution: The Middle East exhibits a broader spread(box) ranging from approximately 4-7, indicating greater variability. The whiskers display a wider range of scores, extending from roughly 2 (lower end) to 7.5 (higher end).\n",
        "\n",
        "Median: The median score for the Middle East is higher than that for South Asia, indicating a generally higher happiness level in the Middle East. The median score is slightly greater than 5.\n",
        "\n",
        "Outliers: No visible outliers in Middle east."
      ],
      "metadata": {
        "id": "6y3F-rgIwIMD"
      }
    }
  ]
}