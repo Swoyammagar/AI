{
  "nbformat": 4,
  "nbformat_minor": 0,
  "metadata": {
    "colab": {
      "provenance": []
    },
    "kernelspec": {
      "name": "python3",
      "display_name": "Python 3"
    },
    "language_info": {
      "name": "python"
    }
  },
  "cells": [
    {
      "cell_type": "markdown",
      "source": [
        "Task 1"
      ],
      "metadata": {
        "id": "LaCIJS7Dx5KJ"
      }
    },
    {
      "cell_type": "code",
      "execution_count": null,
      "metadata": {
        "colab": {
          "base_uri": "https://localhost:8080/"
        },
        "id": "BHuIoRxLri0N",
        "outputId": "ad9cd8ef-7477-422b-9af6-7cd2d62ceab9"
      },
      "outputs": [
        {
          "output_type": "stream",
          "name": "stdout",
          "text": [
            "[[ 4.75635831e-310  0.00000000e+000]\n",
            " [-1.71255581e+276  6.79649740e-310]]\n"
          ]
        }
      ],
      "source": [
        "import numpy as np;\n",
        "a = np.empty((2,2));\n",
        "print(a);"
      ]
    },
    {
      "cell_type": "code",
      "source": [
        "a = np.ones((4,2));\n",
        "print(a);"
      ],
      "metadata": {
        "colab": {
          "base_uri": "https://localhost:8080/"
        },
        "id": "viFBOs-oynyJ",
        "outputId": "b6edb353-a350-4627-f6ea-8a73ab139822"
      },
      "execution_count": null,
      "outputs": [
        {
          "output_type": "stream",
          "name": "stdout",
          "text": [
            "[[1. 1.]\n",
            " [1. 1.]\n",
            " [1. 1.]\n",
            " [1. 1.]]\n"
          ]
        }
      ]
    },
    {
      "cell_type": "code",
      "source": [
        "a = np.full((4,4),7);\n",
        "print(a);"
      ],
      "metadata": {
        "colab": {
          "base_uri": "https://localhost:8080/"
        },
        "id": "KLUmUPapy85x",
        "outputId": "98859cb5-1a24-48bb-9450-a204364586eb"
      },
      "execution_count": null,
      "outputs": [
        {
          "output_type": "stream",
          "name": "stdout",
          "text": [
            "[[7 7 7 7]\n",
            " [7 7 7 7]\n",
            " [7 7 7 7]\n",
            " [7 7 7 7]]\n"
          ]
        }
      ]
    },
    {
      "cell_type": "code",
      "source": [
        "a= np.zeros_like([[5, 6], [7, 8]]);\n",
        "print(a);"
      ],
      "metadata": {
        "colab": {
          "base_uri": "https://localhost:8080/"
        },
        "id": "0O_xZHIm5BkM",
        "outputId": "9457f5a6-924e-4553-a101-0c9dbaf5508c"
      },
      "execution_count": null,
      "outputs": [
        {
          "output_type": "stream",
          "name": "stdout",
          "text": [
            "[[0 0]\n",
            " [0 0]]\n"
          ]
        }
      ]
    },
    {
      "cell_type": "code",
      "source": [
        "a= np.ones_like([[5, 6], [7, 8]]);\n",
        "print(a);"
      ],
      "metadata": {
        "colab": {
          "base_uri": "https://localhost:8080/"
        },
        "id": "lc4UxWBe6Ljz",
        "outputId": "b3f15eb4-14b6-45ec-9af8-4d0d25fd8e9e"
      },
      "execution_count": null,
      "outputs": [
        {
          "output_type": "stream",
          "name": "stdout",
          "text": [
            "[[1 1]\n",
            " [1 1]]\n"
          ]
        }
      ]
    },
    {
      "cell_type": "code",
      "source": [
        "new_list = [1, 2, 3, 4];\n",
        "a = np.array(new_list);\n",
        "print(a);"
      ],
      "metadata": {
        "colab": {
          "base_uri": "https://localhost:8080/"
        },
        "id": "MQiCgJAj_gwn",
        "outputId": "6f104782-da34-40a8-dafd-c1683e9f499f"
      },
      "execution_count": null,
      "outputs": [
        {
          "output_type": "stream",
          "name": "stdout",
          "text": [
            "[1 2 3 4]\n"
          ]
        }
      ]
    },
    {
      "cell_type": "markdown",
      "source": [
        "Task 2"
      ],
      "metadata": {
        "id": "Yy5Hrb9V_r1m"
      }
    },
    {
      "cell_type": "code",
      "source": [
        "a= np.arange(10,49);\n",
        "print(a);"
      ],
      "metadata": {
        "colab": {
          "base_uri": "https://localhost:8080/"
        },
        "id": "ZSdLZX99_uit",
        "outputId": "da3e9acb-720c-471b-a94c-80e1a5b6e8ac"
      },
      "execution_count": null,
      "outputs": [
        {
          "output_type": "stream",
          "name": "stdout",
          "text": [
            "[10 11 12 13 14 15 16 17 18 19 20 21 22 23 24 25 26 27 28 29 30 31 32 33\n",
            " 34 35 36 37 38 39 40 41 42 43 44 45 46 47 48]\n"
          ]
        }
      ]
    },
    {
      "cell_type": "code",
      "source": [
        "a= np.arange(0,9).reshape(3,3);\n",
        "print(a);"
      ],
      "metadata": {
        "colab": {
          "base_uri": "https://localhost:8080/"
        },
        "id": "M1yd6rS7_-wf",
        "outputId": "05667aeb-f0c4-4ceb-c818-73741c06a214"
      },
      "execution_count": null,
      "outputs": [
        {
          "output_type": "stream",
          "name": "stdout",
          "text": [
            "[[0 1 2]\n",
            " [3 4 5]\n",
            " [6 7 8]]\n"
          ]
        }
      ]
    },
    {
      "cell_type": "code",
      "source": [
        "a= np.eye(3,3);\n",
        "print(a);"
      ],
      "metadata": {
        "colab": {
          "base_uri": "https://localhost:8080/"
        },
        "id": "rpNgVB1DAQN-",
        "outputId": "a911300a-7ca3-47b6-dc3d-7e0e793c1e79"
      },
      "execution_count": null,
      "outputs": [
        {
          "output_type": "stream",
          "name": "stdout",
          "text": [
            "[[1. 0. 0.]\n",
            " [0. 1. 0.]\n",
            " [0. 0. 1.]]\n"
          ]
        }
      ]
    },
    {
      "cell_type": "code",
      "source": [
        "random_array = np.random.random(30)\n",
        "mean = random_array.mean()\n",
        "print( random_array)\n",
        "print(\"Mean of the random array:\", mean)"
      ],
      "metadata": {
        "colab": {
          "base_uri": "https://localhost:8080/"
        },
        "id": "rrP8u59zAj5e",
        "outputId": "79c10e11-11a9-4c83-f0c0-d52a5559d1f4"
      },
      "execution_count": null,
      "outputs": [
        {
          "output_type": "stream",
          "name": "stdout",
          "text": [
            "[0.00414414 0.67594215 0.22619206 0.45628538 0.26331109 0.55900905\n",
            " 0.30105708 0.11004725 0.41136684 0.24102269 0.22623273 0.81878261\n",
            " 0.17021428 0.69061992 0.20801157 0.9337828  0.72447151 0.73310194\n",
            " 0.20029536 0.75463777 0.46255109 0.41536818 0.85542641 0.32200681\n",
            " 0.73669946 0.65696098 0.02762849 0.75383245 0.51867306 0.37261893]\n",
            "Mean of the random array: 0.46100980330169433\n"
          ]
        }
      ]
    },
    {
      "cell_type": "code",
      "source": [
        "random_array = np.random.random((10,10))\n",
        "max = random_array.max()\n",
        "min = random_array.min()\n",
        "print( random_array)\n",
        "print(\"Maximum:\", max)\n",
        "print(\"Minimum:\", min)"
      ],
      "metadata": {
        "colab": {
          "base_uri": "https://localhost:8080/"
        },
        "id": "Co11uIz3A2vt",
        "outputId": "314e9227-ac93-4759-cbd4-180108588575"
      },
      "execution_count": null,
      "outputs": [
        {
          "output_type": "stream",
          "name": "stdout",
          "text": [
            "[[0.21144362 0.09109918 0.70075323 0.29830649 0.07092373 0.75009114\n",
            "  0.5725973  0.02808689 0.04841254 0.58744029]\n",
            " [0.75226777 0.02536689 0.39893967 0.12686829 0.35945345 0.85320789\n",
            "  0.37667812 0.34137707 0.88478899 0.10397099]\n",
            " [0.69852057 0.59772968 0.49830004 0.7672794  0.54709347 0.35774606\n",
            "  0.71688804 0.3431262  0.319358   0.27212754]\n",
            " [0.66047402 0.83519885 0.63207063 0.87853035 0.17524919 0.47350499\n",
            "  0.95427784 0.03027144 0.15531611 0.0783627 ]\n",
            " [0.597506   0.82791689 0.69602286 0.845579   0.69166226 0.84684008\n",
            "  0.79516347 0.32619153 0.29087538 0.86690807]\n",
            " [0.29616133 0.61075024 0.90370589 0.29643221 0.73585004 0.21590635\n",
            "  0.62836257 0.80000017 0.46019037 0.82541574]\n",
            " [0.21297579 0.00821075 0.93198283 0.81923871 0.83580214 0.72828281\n",
            "  0.27949586 0.3390934  0.11829855 0.39642481]\n",
            " [0.59785312 0.02004946 0.83478634 0.69569552 0.93826461 0.24679709\n",
            "  0.37553161 0.81759024 0.43867961 0.25371635]\n",
            " [0.56921897 0.65267127 0.266624   0.00872663 0.09608917 0.58564483\n",
            "  0.84680882 0.87171672 0.82261808 0.58137669]\n",
            " [0.66104447 0.03976483 0.20317808 0.79618706 0.389128   0.05873934\n",
            "  0.769554   0.74722358 0.35666623 0.73324123]]\n",
            "Maximum: 0.9542778414617086\n",
            "Minimum: 0.008210752930134624\n"
          ]
        }
      ]
    },
    {
      "cell_type": "code",
      "source": [
        "zero_array = np.zeros(10)\n",
        "print(\"before repacing\", zero_array)\n",
        "zero_array[4] = 1\n",
        "print(\"afre repacing\", zero_array)"
      ],
      "metadata": {
        "colab": {
          "base_uri": "https://localhost:8080/"
        },
        "id": "rRqz--egBhmV",
        "outputId": "da21a06c-638a-4e3a-daa2-6f6c75287ed1"
      },
      "execution_count": null,
      "outputs": [
        {
          "output_type": "stream",
          "name": "stdout",
          "text": [
            "before repacing [0. 0. 0. 0. 0. 0. 0. 0. 0. 0.]\n",
            "afre repacing [0. 0. 0. 0. 1. 0. 0. 0. 0. 0.]\n"
          ]
        }
      ]
    },
    {
      "cell_type": "code",
      "source": [
        "arr = [1,2,0,0,4,0]\n",
        "reversed_arr= np.array(arr)[::-1]\n",
        "print(reversed_arr)"
      ],
      "metadata": {
        "id": "UVcu1r2WCA02"
      },
      "execution_count": null,
      "outputs": []
    },
    {
      "cell_type": "code",
      "source": [
        "arr = np.ones((4, 4))\n",
        "arr[1:-1, 1:-1] = 0\n",
        "print( arr)"
      ],
      "metadata": {
        "colab": {
          "base_uri": "https://localhost:8080/"
        },
        "id": "9FdisrZyCtlc",
        "outputId": "c7b3ae8e-5d11-4f3e-ac45-499b6a0d6df9"
      },
      "execution_count": null,
      "outputs": [
        {
          "output_type": "stream",
          "name": "stdout",
          "text": [
            "\n",
            "2D array with 1 on border and 0 inside:\n",
            " [[1. 1. 1. 1. 1.]\n",
            " [1. 0. 0. 0. 1.]\n",
            " [1. 0. 0. 0. 1.]\n",
            " [1. 0. 0. 0. 1.]\n",
            " [1. 1. 1. 1. 1.]]\n"
          ]
        }
      ]
    },
    {
      "cell_type": "code",
      "source": [
        "checkerboard = np.zeros((8, 8))\n",
        "checkerboard[1::2, ::2] = 1  # Fill black squares for odd rows\n",
        "checkerboard[::2, 1::2] = 1  # Fill black squares for even rows\n",
        "print(\"\\n8x8 matrix with a checkerboard pattern:\\n\", checkerboard)"
      ],
      "metadata": {
        "colab": {
          "base_uri": "https://localhost:8080/"
        },
        "id": "phzGEFnJDDhc",
        "outputId": "4b1beca0-0953-4341-9d17-d93b092a762c"
      },
      "execution_count": null,
      "outputs": [
        {
          "output_type": "stream",
          "name": "stdout",
          "text": [
            "\n",
            "8x8 matrix with a checkerboard pattern:\n",
            " [[0. 1. 0. 1. 0. 1. 0. 1.]\n",
            " [1. 0. 1. 0. 1. 0. 1. 0.]\n",
            " [0. 1. 0. 1. 0. 1. 0. 1.]\n",
            " [1. 0. 1. 0. 1. 0. 1. 0.]\n",
            " [0. 1. 0. 1. 0. 1. 0. 1.]\n",
            " [1. 0. 1. 0. 1. 0. 1. 0.]\n",
            " [0. 1. 0. 1. 0. 1. 0. 1.]\n",
            " [1. 0. 1. 0. 1. 0. 1. 0.]]\n"
          ]
        }
      ]
    },
    {
      "cell_type": "markdown",
      "source": [
        "Task 3\n"
      ],
      "metadata": {
        "id": "ZCCvGzZv2AFf"
      }
    },
    {
      "cell_type": "code",
      "source": [
        "import numpy as np;\n",
        "x = np.array([[1,2],[3,5]]);\n",
        "y = np.array([[5,6],[7,8]]);\n",
        "v = np.array([9,10]);\n",
        "w = np.array([11,12]);"
      ],
      "metadata": {
        "id": "Fa2h_61z2CFL"
      },
      "execution_count": null,
      "outputs": []
    },
    {
      "cell_type": "code",
      "source": [
        "add= np.add(x,y);\n",
        "print(\"add:\", add)\n",
        "sub= np.subtract(x,y);\n",
        "print(\"sub:\", sub)\n",
        "mul=np.multiply(4,x);\n",
        "print(\"mul:\", mul)\n",
        "square_x= np.power(x,2);\n",
        "print(\"square of x:\", square_x)\n",
        "square_y= np.power(y,2);\n",
        "print(\"square of y:\", square_y)\n",
        "square_v= np.power(v,2);\n",
        "print(\"square of v:\", square_v)\n",
        "square_w= np.power(w,2);\n",
        "print(\"square of w:\", square_w)\n",
        "\n",
        "\n"
      ],
      "metadata": {
        "colab": {
          "base_uri": "https://localhost:8080/"
        },
        "id": "B8XrYDKB4pPx",
        "outputId": "1392da52-c823-4c1a-b74e-e7a24681f0f2"
      },
      "execution_count": null,
      "outputs": [
        {
          "output_type": "stream",
          "name": "stdout",
          "text": [
            "add: [[ 6  8]\n",
            " [10 13]]\n",
            "sub: [[-4 -4]\n",
            " [-4 -3]]\n",
            "mul: [[ 4  8]\n",
            " [12 20]]\n",
            "square of x: [[ 1  4]\n",
            " [ 9 25]]\n",
            "square of y: [[25 36]\n",
            " [49 64]]\n",
            "square of v: [ 81 100]\n",
            "square of w: [121 144]\n"
          ]
        }
      ]
    },
    {
      "cell_type": "code",
      "source": [
        "dot_vw = np.dot(v, w)\n",
        "print(\"dot product of v and w\", dot_vw)\n",
        "dot_xv = np.dot(x, v)\n",
        "print(\"dot product of x and v\", dot_xv)\n",
        "dot_xy = np.dot(x, y)\n",
        "print(\"dot product of x and y\", dot_xy)"
      ],
      "metadata": {
        "id": "AMvxntSi6OZS"
      },
      "execution_count": null,
      "outputs": []
    },
    {
      "cell_type": "code",
      "source": [
        "concat_xy_row = np.concatenate((x, y))\n",
        "print(concat_xy_row)\n",
        "concat_vw_col = np.vstack((v, w)).T\n",
        "print(concat_vw_col)"
      ],
      "metadata": {
        "colab": {
          "base_uri": "https://localhost:8080/"
        },
        "id": "jdDLPqat7H5Z",
        "outputId": "1d0c5dc3-a2bd-4b05-aaa0-0d726b9ce8b6"
      },
      "execution_count": null,
      "outputs": [
        {
          "output_type": "stream",
          "name": "stdout",
          "text": [
            "[[1 2]\n",
            " [3 5]\n",
            " [5 6]\n",
            " [7 8]]\n",
            "[[ 9 11]\n",
            " [10 12]]\n"
          ]
        }
      ]
    },
    {
      "cell_type": "code",
      "source": [
        "concat_xv= np.concatenate((x,v))\n",
        "print(concat_xv)\n",
        "# This error here occured due to the difference in number of dimensions of the respective arrays. All the input arrays must have same number of dimension. x has 2 dimension(s) whereas v has 1 dimension(s)."
      ],
      "metadata": {
        "collapsed": true,
        "id": "X8Satrlm7nZg"
      },
      "execution_count": null,
      "outputs": []
    },
    {
      "cell_type": "markdown",
      "source": [
        "Task 4"
      ],
      "metadata": {
        "id": "RNoOgOEj-Z7W"
      }
    },
    {
      "cell_type": "code",
      "source": [
        "A = np.array([[3,4],[7,8]]);\n",
        "B = np.array([[5,3],[2,1]]);\n",
        "#A.A−1 = I.\n",
        "inverse_A= np.linalg.inv(A);\n",
        "dot_p=np.dot(A,inverse_A);\n",
        "print(dot_p);"
      ],
      "metadata": {
        "colab": {
          "base_uri": "https://localhost:8080/"
        },
        "id": "oaLK5z9T-cQF",
        "outputId": "70e73906-91de-4931-c15c-35fd884e964e"
      },
      "execution_count": null,
      "outputs": [
        {
          "output_type": "stream",
          "name": "stdout",
          "text": [
            "[[1.00000000e+00 0.00000000e+00]\n",
            " [1.77635684e-15 1.00000000e+00]]\n"
          ]
        }
      ]
    },
    {
      "cell_type": "code",
      "source": [
        "#AB != BA\n",
        "AB = np.dot(A, B)\n",
        "BA = np.dot(B, A)\n",
        "print(\"AB:\\n\", AB)\n",
        "print(\"BA:\\n\", BA)\n",
        "print(\"AB == BA:\", np.array_equal(AB, BA))"
      ],
      "metadata": {
        "colab": {
          "base_uri": "https://localhost:8080/"
        },
        "id": "MR-0uBp9_JFd",
        "outputId": "eefa3e7f-7918-4ee0-9467-5dbcdbeaabe8"
      },
      "execution_count": null,
      "outputs": [
        {
          "output_type": "stream",
          "name": "stdout",
          "text": [
            "AB:\n",
            " [[23 13]\n",
            " [51 29]]\n",
            "BA:\n",
            " [[36 44]\n",
            " [13 16]]\n",
            "AB == BA: False\n"
          ]
        }
      ]
    },
    {
      "cell_type": "code",
      "source": [
        "AB_transpose = np.transpose(AB)\n",
        "BT_AT = np.dot(B.T, A.T)\n",
        "\n",
        "print(\"(AB)^T:\\n\", AB_transpose)\n",
        "print(\"B^T A^T:\\n\", BT_AT)\n",
        "print(\"Equality Check:\", np.array_equal(AB_transpose, BT_AT))"
      ],
      "metadata": {
        "colab": {
          "base_uri": "https://localhost:8080/"
        },
        "id": "CApX4rlu_kxV",
        "outputId": "09ea0f5a-ee47-4eb0-c3e9-11c39a92c6de"
      },
      "execution_count": null,
      "outputs": [
        {
          "output_type": "stream",
          "name": "stdout",
          "text": [
            "(AB)^T:\n",
            " [[23 51]\n",
            " [13 29]]\n",
            "B^T A^T:\n",
            " [[23 51]\n",
            " [13 29]]\n",
            "Equality Check: True\n"
          ]
        }
      ]
    },
    {
      "cell_type": "code",
      "source": [
        "# 2x − 3y + z = −1\n",
        "# x − y + 2z = −3\n",
        "# 3x + y − z = 9\n",
        "# converting to matrix form:\n",
        "A = np.array([\n",
        "    [2, -3, 1],\n",
        "    [1, -1, 2],\n",
        "    [3, 1, -1]\n",
        "])\n",
        "B = np.array([-1, -3, 9])\n",
        "# X=A^-1.B\n",
        "A_inv = np.linalg.inv(A)\n",
        "X = np.dot(A_inv, B)\n",
        "\n",
        "print(\"Solution (X):\\n\", X)"
      ],
      "metadata": {
        "colab": {
          "base_uri": "https://localhost:8080/"
        },
        "id": "uYBx8RzF_3a8",
        "outputId": "8582cb16-7aa3-4f77-fe41-3072af384441"
      },
      "execution_count": null,
      "outputs": [
        {
          "output_type": "stream",
          "name": "stdout",
          "text": [
            "Solution (X):\n",
            " [ 2.  1. -2.]\n"
          ]
        }
      ]
    },
    {
      "cell_type": "markdown",
      "source": [
        "Task 4.2"
      ],
      "metadata": {
        "id": "d47CaKJ-BeqT"
      }
    },
    {
      "cell_type": "code",
      "source": [
        "import numpy as np\n",
        "import time\n",
        "\n",
        "size=1000000;\n",
        "list1=[i for i in range(size)]\n",
        "list2 = [i for i in range(size)]\n",
        "array1 = np.arange(size)\n",
        "array2 = np.arange(size)\n",
        "\n",
        "# 1. Element-wise Addition\n",
        "start_time=time.time()\n",
        "list_add= [list1[i]+list2[i] for i in range(size)]\n",
        "list_time=time.time()-start_time;\n",
        "\n",
        "start_time = time.time()\n",
        "array_addition = array1 + array2\n",
        "array_time = time.time() - start_time\n",
        "print(f\"1. Element-wise Addition:\")\n",
        "print(f\"   Time with Python lists: {list_time:.6f} seconds\")\n",
        "print(f\"   Time with NumPy arrays: {array_time:.6f} seconds\")\n",
        "\n",
        "# 2. Element-wise Multiplication\n",
        "start_time = time.time()\n",
        "list_multiplication = [list1[i] * list2[i] for i in range(size)]\n",
        "time_list_mul = time.time() - start_time\n",
        "\n",
        "start_time = time.time()\n",
        "array_multiplication = array1 * array2\n",
        "time_array_mul = time.time() - start_time\n",
        "\n",
        "print(f\"2. Element-wise Multiplication:\")\n",
        "print(f\"   Time with Python lists: {time_list_mul:.6f} seconds\")\n",
        "print(f\"   Time with NumPy arrays: {time_array_mul:.6f} seconds\")\n",
        "\n",
        "# 3. Dot Product\n",
        "start_time = time.time()\n",
        "dot_product_list = sum(list1[i] * list2[i] for i in range(size))\n",
        "time_list_dot = time.time() - start_time\n",
        "\n",
        "start_time = time.time()\n",
        "dot_product_array = np.dot(array1, array2)\n",
        "time_array_dot = time.time() - start_time\n",
        "\n",
        "print(f\"3. Dot Product:\")\n",
        "print(f\"   Time with Python lists: {time_list_dot:.6f} seconds\")\n",
        "print(f\"   Time with NumPy arrays: {time_array_dot:.6f} seconds\")\n",
        "\n",
        "# 4. Matrix Multiplication\n",
        "matrix_size = 1000\n",
        "list_matrix1 = [[j for j in range(matrix_size)] for i in range(matrix_size)]\n",
        "list_matrix2 = [[j for j in range(matrix_size)] for i in range(matrix_size)]\n",
        "array_matrix1 = np.arange(matrix_size**2).reshape(matrix_size, matrix_size)\n",
        "array_matrix2 = np.arange(matrix_size**2).reshape(matrix_size, matrix_size)\n",
        "\n",
        "start_time = time.time()\n",
        "list_result = [[sum(a * b for a, b in zip(row, col)) for col in zip(*list_matrix2)] for row in list_matrix1]\n",
        "time_list_matrix_mul = time.time() - start_time\n",
        "\n",
        "start_time = time.time()\n",
        "array_result = np.multiply(array_matrix1, array_matrix2)\n",
        "time_array_matrix_mul = time.time() - start_time\n",
        "\n",
        "print(f\"4. Matrix Multiplication:\")\n",
        "print(f\"   Time with Python lists: {time_list_matrix_mul:.6f} seconds\")\n",
        "print(f\"   Time with NumPy arrays: {time_array_matrix_mul:.6f} seconds\")"
      ],
      "metadata": {
        "colab": {
          "base_uri": "https://localhost:8080/"
        },
        "id": "GkaF0vXnBhDL",
        "outputId": "d32324a8-182b-4c2c-909d-43bbd3396e2e"
      },
      "execution_count": null,
      "outputs": [
        {
          "output_type": "stream",
          "name": "stdout",
          "text": [
            "0.15254855155944824\n",
            "   Time with NumPy arrays: 0.026264 seconds\n"
          ]
        }
      ]
    }
  ]
}