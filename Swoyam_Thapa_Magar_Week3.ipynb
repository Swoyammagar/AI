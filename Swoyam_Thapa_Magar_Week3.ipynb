{
  "nbformat": 4,
  "nbformat_minor": 0,
  "metadata": {
    "colab": {
      "provenance": []
    },
    "kernelspec": {
      "name": "python3",
      "display_name": "Python 3"
    },
    "language_info": {
      "name": "python"
    }
  },
  "cells": [
    {
      "cell_type": "markdown",
      "source": [
        "3.1 Warm Up Exercises:\n",
        "1. Sorting and Subsetting:\n",
        "\n",
        "Complete all following Task:\n",
        "\n",
        "• Dataset for the Task: \"titanic.csv\"\n",
        "Following task is common for all the problem:\n"
      ],
      "metadata": {
        "id": "oQV3GhOeh9Dt"
      }
    },
    {
      "cell_type": "markdown",
      "source": [
        "1. Load the provided dataset and import in pandas DataFrame."
      ],
      "metadata": {
        "id": "DZBMK8_FklWc"
      }
    },
    {
      "cell_type": "code",
      "execution_count": 14,
      "metadata": {
        "id": "-I3FnEZGh4CZ"
      },
      "outputs": [],
      "source": [
        "import pandas as pd\n",
        "titanic_df= pd.read_csv(\"/content/drive/MyDrive/AI/Resources/Week2/Copy of Titanic-Dataset.csv\")"
      ]
    },
    {
      "cell_type": "markdown",
      "source": [
        "2. Check info of the DataFrame and identify following:"
      ],
      "metadata": {
        "id": "1dKaoyWElFDk"
      }
    },
    {
      "cell_type": "code",
      "source": [
        "titanic_df.info()"
      ],
      "metadata": {
        "colab": {
          "base_uri": "https://localhost:8080/"
        },
        "id": "eSzlGA-SlM2J",
        "outputId": "0532b143-5ef0-4dbb-a984-699b6bc5c49c"
      },
      "execution_count": 15,
      "outputs": [
        {
          "output_type": "stream",
          "name": "stdout",
          "text": [
            "<class 'pandas.core.frame.DataFrame'>\n",
            "RangeIndex: 891 entries, 0 to 890\n",
            "Data columns (total 12 columns):\n",
            " #   Column       Non-Null Count  Dtype  \n",
            "---  ------       --------------  -----  \n",
            " 0   PassengerId  891 non-null    int64  \n",
            " 1   Survived     891 non-null    int64  \n",
            " 2   Pclass       891 non-null    int64  \n",
            " 3   Name         891 non-null    object \n",
            " 4   Sex          891 non-null    object \n",
            " 5   Age          714 non-null    float64\n",
            " 6   SibSp        891 non-null    int64  \n",
            " 7   Parch        891 non-null    int64  \n",
            " 8   Ticket       891 non-null    object \n",
            " 9   Fare         891 non-null    float64\n",
            " 10  Cabin        204 non-null    object \n",
            " 11  Embarked     889 non-null    object \n",
            "dtypes: float64(2), int64(5), object(5)\n",
            "memory usage: 83.7+ KB\n"
          ]
        }
      ]
    },
    {
      "cell_type": "markdown",
      "source": [
        "Problem 1 - Sorting:\n",
        "1. Create a DataFrame called fare that contains only the Fare column of the Titanic dataset. Print the\n",
        "head of the result."
      ],
      "metadata": {
        "id": "Fu7uwqhPlPxz"
      }
    },
    {
      "cell_type": "code",
      "source": [
        "fare= titanic_df[['Fare']]\n",
        "print(fare.head())"
      ],
      "metadata": {
        "colab": {
          "base_uri": "https://localhost:8080/"
        },
        "id": "eslMiwCRlTfz",
        "outputId": "57fb2a77-c789-483a-eb56-c13d0eab5b90"
      },
      "execution_count": 16,
      "outputs": [
        {
          "output_type": "stream",
          "name": "stdout",
          "text": [
            "      Fare\n",
            "0   7.2500\n",
            "1  71.2833\n",
            "2   7.9250\n",
            "3  53.1000\n",
            "4   8.0500\n"
          ]
        }
      ]
    },
    {
      "cell_type": "markdown",
      "source": [
        "2. Create a DataFrame called class age that contains only the Pclass and Age columns of the Titanic\n",
        "dataset, in that order. Print the head of the result."
      ],
      "metadata": {
        "id": "4oRKjnnHmg1D"
      }
    },
    {
      "cell_type": "code",
      "source": [
        "class_age= titanic_df[['Pclass','Age']]\n",
        "print(class_age.head())"
      ],
      "metadata": {
        "colab": {
          "base_uri": "https://localhost:8080/"
        },
        "id": "SH7g29skmjtB",
        "outputId": "d2a78c5b-e497-4d51-ee71-5ae8f40b7f62"
      },
      "execution_count": 17,
      "outputs": [
        {
          "output_type": "stream",
          "name": "stdout",
          "text": [
            "   Pclass   Age\n",
            "0       3  22.0\n",
            "1       1  38.0\n",
            "2       3  26.0\n",
            "3       1  35.0\n",
            "4       3  35.0\n"
          ]
        }
      ]
    },
    {
      "cell_type": "markdown",
      "source": [
        "3. Create a DataFrame called survived gender that contains the Survived and Sex columns of the\n",
        "Titanic dataset, in that order.Print the head of the result."
      ],
      "metadata": {
        "id": "OF_UAGwfm5qx"
      }
    },
    {
      "cell_type": "code",
      "source": [
        "survived_gender= titanic_df[['Survived','Sex']]\n",
        "print(survived_gender.head())"
      ],
      "metadata": {
        "colab": {
          "base_uri": "https://localhost:8080/"
        },
        "id": "gm_4lJCBm8jp",
        "outputId": "d52490be-fd73-4f0c-8ad7-06e3bedc83ba"
      },
      "execution_count": 18,
      "outputs": [
        {
          "output_type": "stream",
          "name": "stdout",
          "text": [
            "   Survived     Sex\n",
            "0         0    male\n",
            "1         1  female\n",
            "2         1  female\n",
            "3         1  female\n",
            "4         0    male\n"
          ]
        }
      ]
    },
    {
      "cell_type": "markdown",
      "source": [
        "Problem - 2 - Subsetting:\n",
        "\n",
        "Complete all the following Task:\n",
        "Subsetting Rows:\n",
        "1. Filter the Titanic dataset for cases where the passenger’s fare is greater than 100, assigning it\n",
        "to fare gt 100.View the printed result."
      ],
      "metadata": {
        "id": "KGvHR1W5nNHj"
      }
    },
    {
      "cell_type": "code",
      "source": [
        "fare_gt_100= titanic_df[titanic_df['Fare']>100]\n",
        "print(fare_gt_100)"
      ],
      "metadata": {
        "colab": {
          "base_uri": "https://localhost:8080/"
        },
        "id": "OeTwEEMAnQLj",
        "outputId": "971591c7-848c-48e9-c6ed-2afd7fc2889b"
      },
      "execution_count": 19,
      "outputs": [
        {
          "output_type": "stream",
          "name": "stdout",
          "text": [
            "     PassengerId  Survived  Pclass  \\\n",
            "27            28         0       1   \n",
            "31            32         1       1   \n",
            "88            89         1       1   \n",
            "118          119         0       1   \n",
            "195          196         1       1   \n",
            "215          216         1       1   \n",
            "258          259         1       1   \n",
            "268          269         1       1   \n",
            "269          270         1       1   \n",
            "297          298         0       1   \n",
            "299          300         1       1   \n",
            "305          306         1       1   \n",
            "306          307         1       1   \n",
            "307          308         1       1   \n",
            "311          312         1       1   \n",
            "318          319         1       1   \n",
            "319          320         1       1   \n",
            "325          326         1       1   \n",
            "332          333         0       1   \n",
            "334          335         1       1   \n",
            "337          338         1       1   \n",
            "341          342         1       1   \n",
            "373          374         0       1   \n",
            "377          378         0       1   \n",
            "380          381         1       1   \n",
            "390          391         1       1   \n",
            "393          394         1       1   \n",
            "435          436         1       1   \n",
            "438          439         0       1   \n",
            "498          499         0       1   \n",
            "505          506         0       1   \n",
            "527          528         0       1   \n",
            "537          538         1       1   \n",
            "544          545         0       1   \n",
            "550          551         1       1   \n",
            "557          558         0       1   \n",
            "581          582         1       1   \n",
            "609          610         1       1   \n",
            "659          660         0       1   \n",
            "660          661         1       1   \n",
            "679          680         1       1   \n",
            "689          690         1       1   \n",
            "698          699         0       1   \n",
            "700          701         1       1   \n",
            "708          709         1       1   \n",
            "716          717         1       1   \n",
            "730          731         1       1   \n",
            "737          738         1       1   \n",
            "742          743         1       1   \n",
            "763          764         1       1   \n",
            "779          780         1       1   \n",
            "802          803         1       1   \n",
            "856          857         1       1   \n",
            "\n",
            "                                                  Name     Sex    Age  SibSp  \\\n",
            "27                      Fortune, Mr. Charles Alexander    male  19.00      3   \n",
            "31      Spencer, Mrs. William Augustus (Marie Eugenie)  female    NaN      1   \n",
            "88                          Fortune, Miss. Mabel Helen  female  23.00      3   \n",
            "118                           Baxter, Mr. Quigg Edmond    male  24.00      0   \n",
            "195                               Lurette, Miss. Elise  female  58.00      0   \n",
            "215                            Newell, Miss. Madeleine  female  31.00      1   \n",
            "258                                   Ward, Miss. Anna  female  35.00      0   \n",
            "268      Graham, Mrs. William Thompson (Edith Junkins)  female  58.00      0   \n",
            "269                             Bissette, Miss. Amelia  female  35.00      0   \n",
            "297                       Allison, Miss. Helen Loraine  female   2.00      1   \n",
            "299    Baxter, Mrs. James (Helene DeLaudeniere Chaput)  female  50.00      0   \n",
            "305                     Allison, Master. Hudson Trevor    male   0.92      1   \n",
            "306                            Fleming, Miss. Margaret  female    NaN      0   \n",
            "307  Penasco y Castellana, Mrs. Victor de Satode (M...  female  17.00      1   \n",
            "311                         Ryerson, Miss. Emily Borie  female  18.00      2   \n",
            "318                           Wick, Miss. Mary Natalie  female  31.00      0   \n",
            "319  Spedden, Mrs. Frederic Oakley (Margaretta Corn...  female  40.00      1   \n",
            "325                           Young, Miss. Marie Grice  female  36.00      0   \n",
            "332                          Graham, Mr. George Edward    male  38.00      0   \n",
            "334  Frauenthal, Mrs. Henry William (Clara Heinshei...  female    NaN      1   \n",
            "337                    Burns, Miss. Elizabeth Margaret  female  41.00      0   \n",
            "341                     Fortune, Miss. Alice Elizabeth  female  24.00      3   \n",
            "373                                Ringhini, Mr. Sante    male  22.00      0   \n",
            "377                          Widener, Mr. Harry Elkins    male  27.00      0   \n",
            "380                              Bidois, Miss. Rosalie  female  42.00      0   \n",
            "390                         Carter, Mr. William Ernest    male  36.00      1   \n",
            "393                             Newell, Miss. Marjorie  female  23.00      1   \n",
            "435                          Carter, Miss. Lucile Polk  female  14.00      1   \n",
            "438                                  Fortune, Mr. Mark    male  64.00      1   \n",
            "498    Allison, Mrs. Hudson J C (Bessie Waldo Daniels)  female  25.00      1   \n",
            "505         Penasco y Castellana, Mr. Victor de Satode    male  18.00      1   \n",
            "527                                 Farthing, Mr. John    male    NaN      0   \n",
            "537                                LeRoy, Miss. Bertha  female  30.00      0   \n",
            "544                         Douglas, Mr. Walter Donald    male  50.00      1   \n",
            "550                        Thayer, Mr. John Borland Jr    male  17.00      0   \n",
            "557                                Robbins, Mr. Victor    male    NaN      0   \n",
            "581  Thayer, Mrs. John Borland (Marian Longstreth M...  female  39.00      1   \n",
            "609                          Shutes, Miss. Elizabeth W  female  40.00      0   \n",
            "659                         Newell, Mr. Arthur Webster    male  58.00      0   \n",
            "660                      Frauenthal, Dr. Henry William    male  50.00      2   \n",
            "679                 Cardeza, Mr. Thomas Drake Martinez    male  36.00      0   \n",
            "689                  Madill, Miss. Georgette Alexandra  female  15.00      0   \n",
            "698                           Thayer, Mr. John Borland    male  49.00      1   \n",
            "700  Astor, Mrs. John Jacob (Madeleine Talmadge Force)  female  18.00      1   \n",
            "708                               Cleaver, Miss. Alice  female  22.00      0   \n",
            "716                      Endres, Miss. Caroline Louise  female  38.00      0   \n",
            "730                      Allen, Miss. Elisabeth Walton  female  29.00      0   \n",
            "737                             Lesurer, Mr. Gustave J    male  35.00      0   \n",
            "742              Ryerson, Miss. Susan Parker \"Suzette\"  female  21.00      2   \n",
            "763          Carter, Mrs. William Ernest (Lucile Polk)  female  36.00      1   \n",
            "779  Robert, Mrs. Edward Scott (Elisabeth Walton Mc...  female  43.00      0   \n",
            "802                Carter, Master. William Thornton II    male  11.00      1   \n",
            "856         Wick, Mrs. George Dennick (Mary Hitchcock)  female  45.00      1   \n",
            "\n",
            "     Parch    Ticket      Fare            Cabin Embarked  \n",
            "27       2     19950  263.0000      C23 C25 C27        S  \n",
            "31       0  PC 17569  146.5208              B78        C  \n",
            "88       2     19950  263.0000      C23 C25 C27        S  \n",
            "118      1  PC 17558  247.5208          B58 B60        C  \n",
            "195      0  PC 17569  146.5208              B80        C  \n",
            "215      0     35273  113.2750              D36        C  \n",
            "258      0  PC 17755  512.3292              NaN        C  \n",
            "268      1  PC 17582  153.4625             C125        S  \n",
            "269      0  PC 17760  135.6333              C99        S  \n",
            "297      2    113781  151.5500          C22 C26        S  \n",
            "299      1  PC 17558  247.5208          B58 B60        C  \n",
            "305      2    113781  151.5500          C22 C26        S  \n",
            "306      0     17421  110.8833              NaN        C  \n",
            "307      0  PC 17758  108.9000              C65        C  \n",
            "311      2  PC 17608  262.3750  B57 B59 B63 B66        C  \n",
            "318      2     36928  164.8667               C7        S  \n",
            "319      1     16966  134.5000              E34        C  \n",
            "325      0  PC 17760  135.6333              C32        C  \n",
            "332      1  PC 17582  153.4625              C91        S  \n",
            "334      0  PC 17611  133.6500              NaN        S  \n",
            "337      0     16966  134.5000              E40        C  \n",
            "341      2     19950  263.0000      C23 C25 C27        S  \n",
            "373      0  PC 17760  135.6333              NaN        C  \n",
            "377      2    113503  211.5000              C82        C  \n",
            "380      0  PC 17757  227.5250              NaN        C  \n",
            "390      2    113760  120.0000          B96 B98        S  \n",
            "393      0     35273  113.2750              D36        C  \n",
            "435      2    113760  120.0000          B96 B98        S  \n",
            "438      4     19950  263.0000      C23 C25 C27        S  \n",
            "498      2    113781  151.5500          C22 C26        S  \n",
            "505      0  PC 17758  108.9000              C65        C  \n",
            "527      0  PC 17483  221.7792              C95        S  \n",
            "537      0  PC 17761  106.4250              NaN        C  \n",
            "544      0  PC 17761  106.4250              C86        C  \n",
            "550      2     17421  110.8833              C70        C  \n",
            "557      0  PC 17757  227.5250              NaN        C  \n",
            "581      1     17421  110.8833              C68        C  \n",
            "609      0  PC 17582  153.4625             C125        S  \n",
            "659      2     35273  113.2750              D48        C  \n",
            "660      0  PC 17611  133.6500              NaN        S  \n",
            "679      1  PC 17755  512.3292      B51 B53 B55        C  \n",
            "689      1     24160  211.3375               B5        S  \n",
            "698      1     17421  110.8833              C68        C  \n",
            "700      0  PC 17757  227.5250          C62 C64        C  \n",
            "708      0    113781  151.5500              NaN        S  \n",
            "716      0  PC 17757  227.5250              C45        C  \n",
            "730      0     24160  211.3375               B5        S  \n",
            "737      0  PC 17755  512.3292             B101        C  \n",
            "742      2  PC 17608  262.3750  B57 B59 B63 B66        C  \n",
            "763      2    113760  120.0000          B96 B98        S  \n",
            "779      1     24160  211.3375               B3        S  \n",
            "802      2    113760  120.0000          B96 B98        S  \n",
            "856      1     36928  164.8667              NaN        S  \n"
          ]
        }
      ]
    },
    {
      "cell_type": "markdown",
      "source": [
        "2. Filter the Titanic dataset for cases where the passenger’s class (Pclass) is 1, assigning it to\n",
        "first class.View the printed result."
      ],
      "metadata": {
        "id": "XguJ23D0ol35"
      }
    },
    {
      "cell_type": "code",
      "source": [
        "first_class= titanic_df[titanic_df['Pclass']==1]\n",
        "print(first_class)"
      ],
      "metadata": {
        "colab": {
          "base_uri": "https://localhost:8080/"
        },
        "id": "yh-aKvn5ooFQ",
        "outputId": "7595884c-5281-45d7-d1c9-1cd47662a407"
      },
      "execution_count": 20,
      "outputs": [
        {
          "output_type": "stream",
          "name": "stdout",
          "text": [
            "     PassengerId  Survived  Pclass  \\\n",
            "1              2         1       1   \n",
            "3              4         1       1   \n",
            "6              7         0       1   \n",
            "11            12         1       1   \n",
            "23            24         1       1   \n",
            "..           ...       ...     ...   \n",
            "871          872         1       1   \n",
            "872          873         0       1   \n",
            "879          880         1       1   \n",
            "887          888         1       1   \n",
            "889          890         1       1   \n",
            "\n",
            "                                                  Name     Sex   Age  SibSp  \\\n",
            "1    Cumings, Mrs. John Bradley (Florence Briggs Th...  female  38.0      1   \n",
            "3         Futrelle, Mrs. Jacques Heath (Lily May Peel)  female  35.0      1   \n",
            "6                              McCarthy, Mr. Timothy J    male  54.0      0   \n",
            "11                            Bonnell, Miss. Elizabeth  female  58.0      0   \n",
            "23                        Sloper, Mr. William Thompson    male  28.0      0   \n",
            "..                                                 ...     ...   ...    ...   \n",
            "871   Beckwith, Mrs. Richard Leonard (Sallie Monypeny)  female  47.0      1   \n",
            "872                           Carlsson, Mr. Frans Olof    male  33.0      0   \n",
            "879      Potter, Mrs. Thomas Jr (Lily Alexenia Wilson)  female  56.0      0   \n",
            "887                       Graham, Miss. Margaret Edith  female  19.0      0   \n",
            "889                              Behr, Mr. Karl Howell    male  26.0      0   \n",
            "\n",
            "     Parch    Ticket     Fare        Cabin Embarked  \n",
            "1        0  PC 17599  71.2833          C85        C  \n",
            "3        0    113803  53.1000         C123        S  \n",
            "6        0     17463  51.8625          E46        S  \n",
            "11       0    113783  26.5500         C103        S  \n",
            "23       0    113788  35.5000           A6        S  \n",
            "..     ...       ...      ...          ...      ...  \n",
            "871      1     11751  52.5542          D35        S  \n",
            "872      0       695   5.0000  B51 B53 B55        S  \n",
            "879      1     11767  83.1583          C50        C  \n",
            "887      0    112053  30.0000          B42        S  \n",
            "889      0    111369  30.0000         C148        C  \n",
            "\n",
            "[216 rows x 12 columns]\n"
          ]
        }
      ]
    },
    {
      "cell_type": "markdown",
      "source": [
        "3. Filter the Titanic dataset for cases where the passenger’s age is less than 18 and the passenger\n",
        "is female (Sex is \"female\"), assigning it to female under 18. View the printed result."
      ],
      "metadata": {
        "id": "U-NGAQXPo4jo"
      }
    },
    {
      "cell_type": "code",
      "source": [
        "female_under_18= titanic_df[(titanic_df['Age']>18) &(titanic_df['Sex']== 'female')]\n",
        "print(female_under_18)"
      ],
      "metadata": {
        "colab": {
          "base_uri": "https://localhost:8080/"
        },
        "id": "Wu0rIt70o69I",
        "outputId": "6dcb127c-fc77-4aa0-d066-5ce83f2b8f7b"
      },
      "execution_count": 21,
      "outputs": [
        {
          "output_type": "stream",
          "name": "stdout",
          "text": [
            "     PassengerId  Survived  Pclass  \\\n",
            "1              2         1       1   \n",
            "2              3         1       3   \n",
            "3              4         1       1   \n",
            "8              9         1       3   \n",
            "11            12         1       1   \n",
            "..           ...       ...     ...   \n",
            "879          880         1       1   \n",
            "880          881         1       2   \n",
            "882          883         0       3   \n",
            "885          886         0       3   \n",
            "887          888         1       1   \n",
            "\n",
            "                                                  Name     Sex   Age  SibSp  \\\n",
            "1    Cumings, Mrs. John Bradley (Florence Briggs Th...  female  38.0      1   \n",
            "2                               Heikkinen, Miss. Laina  female  26.0      0   \n",
            "3         Futrelle, Mrs. Jacques Heath (Lily May Peel)  female  35.0      1   \n",
            "8    Johnson, Mrs. Oscar W (Elisabeth Vilhelmina Berg)  female  27.0      0   \n",
            "11                            Bonnell, Miss. Elizabeth  female  58.0      0   \n",
            "..                                                 ...     ...   ...    ...   \n",
            "879      Potter, Mrs. Thomas Jr (Lily Alexenia Wilson)  female  56.0      0   \n",
            "880       Shelley, Mrs. William (Imanita Parrish Hall)  female  25.0      0   \n",
            "882                       Dahlberg, Miss. Gerda Ulrika  female  22.0      0   \n",
            "885               Rice, Mrs. William (Margaret Norton)  female  39.0      0   \n",
            "887                       Graham, Miss. Margaret Edith  female  19.0      0   \n",
            "\n",
            "     Parch            Ticket     Fare Cabin Embarked  \n",
            "1        0          PC 17599  71.2833   C85        C  \n",
            "2        0  STON/O2. 3101282   7.9250   NaN        S  \n",
            "3        0            113803  53.1000  C123        S  \n",
            "8        2            347742  11.1333   NaN        S  \n",
            "11       0            113783  26.5500  C103        S  \n",
            "..     ...               ...      ...   ...      ...  \n",
            "879      1             11767  83.1583   C50        C  \n",
            "880      1            230433  26.0000   NaN        S  \n",
            "882      0              7552  10.5167   NaN        S  \n",
            "885      5            382652  29.1250   NaN        Q  \n",
            "887      0            112053  30.0000   B42        S  \n",
            "\n",
            "[193 rows x 12 columns]\n"
          ]
        }
      ]
    },
    {
      "cell_type": "markdown",
      "source": [
        "Subsetting Rows by Categorical variables:\n",
        "1. Filter the Titanic dataset for passengers whose Embarked port is either \"C\" (Cherbourg) or \"S\"\n",
        "(Southampton), assigning the result to embarked c or s. View the printed result."
      ],
      "metadata": {
        "id": "ckGSbSByprS5"
      }
    },
    {
      "cell_type": "code",
      "source": [
        "embarked_c_or_S= titanic_df[(titanic_df['Embarked']=='C')| (titanic_df['Embarked']=='S') ];\n",
        "print(embarked_c_or_S)"
      ],
      "metadata": {
        "id": "VmVMCPdErdeW",
        "colab": {
          "base_uri": "https://localhost:8080/"
        },
        "outputId": "16852829-836a-437b-e35f-562a8346164e"
      },
      "execution_count": 22,
      "outputs": [
        {
          "output_type": "stream",
          "name": "stdout",
          "text": [
            "     PassengerId  Survived  Pclass  \\\n",
            "0              1         0       3   \n",
            "1              2         1       1   \n",
            "2              3         1       3   \n",
            "3              4         1       1   \n",
            "4              5         0       3   \n",
            "..           ...       ...     ...   \n",
            "884          885         0       3   \n",
            "886          887         0       2   \n",
            "887          888         1       1   \n",
            "888          889         0       3   \n",
            "889          890         1       1   \n",
            "\n",
            "                                                  Name     Sex   Age  SibSp  \\\n",
            "0                              Braund, Mr. Owen Harris    male  22.0      1   \n",
            "1    Cumings, Mrs. John Bradley (Florence Briggs Th...  female  38.0      1   \n",
            "2                               Heikkinen, Miss. Laina  female  26.0      0   \n",
            "3         Futrelle, Mrs. Jacques Heath (Lily May Peel)  female  35.0      1   \n",
            "4                             Allen, Mr. William Henry    male  35.0      0   \n",
            "..                                                 ...     ...   ...    ...   \n",
            "884                             Sutehall, Mr. Henry Jr    male  25.0      0   \n",
            "886                              Montvila, Rev. Juozas    male  27.0      0   \n",
            "887                       Graham, Miss. Margaret Edith  female  19.0      0   \n",
            "888           Johnston, Miss. Catherine Helen \"Carrie\"  female   NaN      1   \n",
            "889                              Behr, Mr. Karl Howell    male  26.0      0   \n",
            "\n",
            "     Parch            Ticket     Fare Cabin Embarked  \n",
            "0        0         A/5 21171   7.2500   NaN        S  \n",
            "1        0          PC 17599  71.2833   C85        C  \n",
            "2        0  STON/O2. 3101282   7.9250   NaN        S  \n",
            "3        0            113803  53.1000  C123        S  \n",
            "4        0            373450   8.0500   NaN        S  \n",
            "..     ...               ...      ...   ...      ...  \n",
            "884      0   SOTON/OQ 392076   7.0500   NaN        S  \n",
            "886      0            211536  13.0000   NaN        S  \n",
            "887      0            112053  30.0000   B42        S  \n",
            "888      2        W./C. 6607  23.4500   NaN        S  \n",
            "889      0            111369  30.0000  C148        C  \n",
            "\n",
            "[812 rows x 12 columns]\n"
          ]
        }
      ]
    },
    {
      "cell_type": "markdown",
      "source": [
        "2. Filter the Titanic dataset for passengers whose Pclass is in the list [1, 2] (indicating first\n",
        "or second class), assigning the result to first second class.View the printed result."
      ],
      "metadata": {
        "id": "QdI_5jP7ue2I"
      }
    },
    {
      "cell_type": "code",
      "source": [
        "first_second_class = titanic_df[titanic_df['Pclass'].isin([1, 2])]\n",
        "print(first_second_class)"
      ],
      "metadata": {
        "colab": {
          "base_uri": "https://localhost:8080/"
        },
        "id": "KEaugau9t8sT",
        "outputId": "58a36155-0ec6-4617-dbd6-d26c75f062cd"
      },
      "execution_count": 23,
      "outputs": [
        {
          "output_type": "stream",
          "name": "stdout",
          "text": [
            "     PassengerId  Survived  Pclass  \\\n",
            "1              2         1       1   \n",
            "3              4         1       1   \n",
            "6              7         0       1   \n",
            "9             10         1       2   \n",
            "11            12         1       1   \n",
            "..           ...       ...     ...   \n",
            "880          881         1       2   \n",
            "883          884         0       2   \n",
            "886          887         0       2   \n",
            "887          888         1       1   \n",
            "889          890         1       1   \n",
            "\n",
            "                                                  Name     Sex   Age  SibSp  \\\n",
            "1    Cumings, Mrs. John Bradley (Florence Briggs Th...  female  38.0      1   \n",
            "3         Futrelle, Mrs. Jacques Heath (Lily May Peel)  female  35.0      1   \n",
            "6                              McCarthy, Mr. Timothy J    male  54.0      0   \n",
            "9                  Nasser, Mrs. Nicholas (Adele Achem)  female  14.0      1   \n",
            "11                            Bonnell, Miss. Elizabeth  female  58.0      0   \n",
            "..                                                 ...     ...   ...    ...   \n",
            "880       Shelley, Mrs. William (Imanita Parrish Hall)  female  25.0      0   \n",
            "883                      Banfield, Mr. Frederick James    male  28.0      0   \n",
            "886                              Montvila, Rev. Juozas    male  27.0      0   \n",
            "887                       Graham, Miss. Margaret Edith  female  19.0      0   \n",
            "889                              Behr, Mr. Karl Howell    male  26.0      0   \n",
            "\n",
            "     Parch            Ticket     Fare Cabin Embarked  \n",
            "1        0          PC 17599  71.2833   C85        C  \n",
            "3        0            113803  53.1000  C123        S  \n",
            "6        0             17463  51.8625   E46        S  \n",
            "9        0            237736  30.0708   NaN        C  \n",
            "11       0            113783  26.5500  C103        S  \n",
            "..     ...               ...      ...   ...      ...  \n",
            "880      1            230433  26.0000   NaN        S  \n",
            "883      0  C.A./SOTON 34068  10.5000   NaN        S  \n",
            "886      0            211536  13.0000   NaN        S  \n",
            "887      0            112053  30.0000   B42        S  \n",
            "889      0            111369  30.0000  C148        C  \n",
            "\n",
            "[400 rows x 12 columns]\n"
          ]
        }
      ]
    },
    {
      "cell_type": "markdown",
      "source": [
        "3.2 Exploratory Data Analysis Practice Exercise - 1.\n",
        "\n",
        "Warning: Handle missing values in the Age column by filling them with the median age of\n",
        "\n",
        "the dataset before performing the division.)\n",
        "\n",
        "Answer the following questions from Dataset:\n",
        "\n",
        "Which passenger had the highest fare paid relative to their age?\n",
        "To answer the question perform following operations:"
      ],
      "metadata": {
        "id": "u4yziHkuvEqv"
      }
    },
    {
      "cell_type": "code",
      "source": [
        "median= titanic_df['Age'].median();\n",
        "titanic_df['Age']= titanic_df['Age'].fillna(median);\n",
        "print(titanic_df['Age'].isna().sum())"
      ],
      "metadata": {
        "colab": {
          "base_uri": "https://localhost:8080/"
        },
        "id": "aLjqNDjG_pR5",
        "outputId": "bc6eff8d-3a0e-4453-c997-06fca43234da"
      },
      "execution_count": 25,
      "outputs": [
        {
          "output_type": "stream",
          "name": "stdout",
          "text": [
            "0\n"
          ]
        }
      ]
    },
    {
      "cell_type": "markdown",
      "source": [
        "1. Add a column to the Titanic dataset, fare per year, containing the fare divided by the age of\n",
        "the passenger(i.e., Fare/Age)."
      ],
      "metadata": {
        "id": "3fKZpolb_kb5"
      }
    },
    {
      "cell_type": "code",
      "source": [
        "titanic_df['fare_per_year'] = titanic_df['Fare'] / titanic_df['Age']\n",
        "print(titanic_df['fare_per_year'])"
      ],
      "metadata": {
        "colab": {
          "base_uri": "https://localhost:8080/"
        },
        "id": "vaPdXnuyArJh",
        "outputId": "2bf88957-dc1e-4b3a-eefa-53c18f72b03f"
      },
      "execution_count": 26,
      "outputs": [
        {
          "output_type": "stream",
          "name": "stdout",
          "text": [
            "0      0.329545\n",
            "1      1.875876\n",
            "2      0.304808\n",
            "3      1.517143\n",
            "4      0.230000\n",
            "         ...   \n",
            "886    0.481481\n",
            "887    1.578947\n",
            "888    0.837500\n",
            "889    1.153846\n",
            "890    0.242188\n",
            "Name: fare_per_year, Length: 891, dtype: float64\n"
          ]
        }
      ]
    },
    {
      "cell_type": "markdown",
      "source": [
        "2. Subset rows where fare per year is higher than 5, assigning this to high fare age."
      ],
      "metadata": {
        "id": "S_YMkJRMBLaS"
      }
    },
    {
      "cell_type": "code",
      "source": [
        "high_fare_age= titanic_df[titanic_df['fare_per_year']>5]\n",
        "print(high_fare_age)"
      ],
      "metadata": {
        "colab": {
          "base_uri": "https://localhost:8080/"
        },
        "id": "qsmFnOEWBMFZ",
        "outputId": "5fd64f94-c055-4e35-f94d-516321363509"
      },
      "execution_count": 27,
      "outputs": [
        {
          "output_type": "stream",
          "name": "stdout",
          "text": [
            "     PassengerId  Survived  Pclass  \\\n",
            "7              8         0       3   \n",
            "16            17         0       3   \n",
            "27            28         0       1   \n",
            "31            32         1       1   \n",
            "43            44         1       2   \n",
            "..           ...       ...     ...   \n",
            "813          814         0       3   \n",
            "824          825         0       3   \n",
            "827          828         1       2   \n",
            "831          832         1       2   \n",
            "850          851         0       3   \n",
            "\n",
            "                                               Name     Sex    Age  SibSp  \\\n",
            "7                    Palsson, Master. Gosta Leonard    male   2.00      3   \n",
            "16                             Rice, Master. Eugene    male   2.00      4   \n",
            "27                   Fortune, Mr. Charles Alexander    male  19.00      3   \n",
            "31   Spencer, Mrs. William Augustus (Marie Eugenie)  female  28.00      1   \n",
            "43         Laroche, Miss. Simonne Marie Anne Andree  female   3.00      1   \n",
            "..                                              ...     ...    ...    ...   \n",
            "813              Andersson, Miss. Ebba Iris Alfrida  female   6.00      4   \n",
            "824                    Panula, Master. Urho Abraham    male   2.00      4   \n",
            "827                           Mallet, Master. Andre    male   1.00      0   \n",
            "831                 Richards, Master. George Sibley    male   0.83      1   \n",
            "850         Andersson, Master. Sigvard Harald Elias    male   4.00      4   \n",
            "\n",
            "     Parch           Ticket      Fare        Cabin Embarked  fare_per_year  \n",
            "7        1           349909   21.0750          NaN        S      10.537500  \n",
            "16       1           382652   29.1250          NaN        Q      14.562500  \n",
            "27       2            19950  263.0000  C23 C25 C27        S      13.842105  \n",
            "31       0         PC 17569  146.5208          B78        C       5.232886  \n",
            "43       2    SC/Paris 2123   41.5792          NaN        C      13.859733  \n",
            "..     ...              ...       ...          ...      ...            ...  \n",
            "813      2           347082   31.2750          NaN        S       5.212500  \n",
            "824      1          3101295   39.6875          NaN        S      19.843750  \n",
            "827      2  S.C./PARIS 2079   37.0042          NaN        C      37.004200  \n",
            "831      1            29106   18.7500          NaN        S      22.590361  \n",
            "850      2           347082   31.2750          NaN        S       7.818750  \n",
            "\n",
            "[71 rows x 13 columns]\n"
          ]
        }
      ]
    },
    {
      "cell_type": "markdown",
      "source": [
        "3. Sort high fare age by descending fare per year, assigning this to high fare age srt."
      ],
      "metadata": {
        "id": "aGXFKCqzBka6"
      }
    },
    {
      "cell_type": "code",
      "source": [
        "high_fare_age_srt = high_fare_age.sort_values(by='fare_per_year', ascending=False)\n",
        "print(high_fare_age_srt)"
      ],
      "metadata": {
        "colab": {
          "base_uri": "https://localhost:8080/"
        },
        "id": "-2gP6I-VBzTh",
        "outputId": "ed72d26f-9234-47eb-c523-e0c365c3a799"
      },
      "execution_count": 28,
      "outputs": [
        {
          "output_type": "stream",
          "name": "stdout",
          "text": [
            "     PassengerId  Survived  Pclass  \\\n",
            "305          306         1       1   \n",
            "297          298         0       1   \n",
            "386          387         0       3   \n",
            "164          165         0       3   \n",
            "183          184         1       2   \n",
            "..           ...       ...     ...   \n",
            "348          349         1       3   \n",
            "31            32         1       1   \n",
            "205          206         0       3   \n",
            "813          814         0       3   \n",
            "480          481         0       3   \n",
            "\n",
            "                                               Name     Sex    Age  SibSp  \\\n",
            "305                  Allison, Master. Hudson Trevor    male   0.92      1   \n",
            "297                    Allison, Miss. Helen Loraine  female   2.00      1   \n",
            "386                 Goodwin, Master. Sidney Leonard    male   1.00      5   \n",
            "164                    Panula, Master. Eino Viljami    male   1.00      4   \n",
            "183                       Becker, Master. Richard F    male   1.00      2   \n",
            "..                                              ...     ...    ...    ...   \n",
            "348          Coutts, Master. William Loch \"William\"    male   3.00      1   \n",
            "31   Spencer, Mrs. William Augustus (Marie Eugenie)  female  28.00      1   \n",
            "205                      Strom, Miss. Telma Matilda  female   2.00      0   \n",
            "813              Andersson, Miss. Ebba Iris Alfrida  female   6.00      4   \n",
            "480                  Goodwin, Master. Harold Victor    male   9.00      5   \n",
            "\n",
            "     Parch      Ticket      Fare    Cabin Embarked  fare_per_year  \n",
            "305      2      113781  151.5500  C22 C26        S     164.728261  \n",
            "297      2      113781  151.5500  C22 C26        S      75.775000  \n",
            "386      2     CA 2144   46.9000      NaN        S      46.900000  \n",
            "164      1     3101295   39.6875      NaN        S      39.687500  \n",
            "183      1      230136   39.0000       F4        S      39.000000  \n",
            "..     ...         ...       ...      ...      ...            ...  \n",
            "348      1  C.A. 37671   15.9000      NaN        S       5.300000  \n",
            "31       0    PC 17569  146.5208      B78        C       5.232886  \n",
            "205      1      347054   10.4625       G6        S       5.231250  \n",
            "813      2      347082   31.2750      NaN        S       5.212500  \n",
            "480      2     CA 2144   46.9000      NaN        S       5.211111  \n",
            "\n",
            "[71 rows x 13 columns]\n"
          ]
        }
      ]
    },
    {
      "cell_type": "markdown",
      "source": [
        "4. Select only the Name and fare per year columns of high fare age srt and save the result as result."
      ],
      "metadata": {
        "id": "qzFSU_D_B71A"
      }
    },
    {
      "cell_type": "code",
      "source": [
        "result= high_fare_age_srt[['Name', 'fare_per_year']]\n"
      ],
      "metadata": {
        "id": "K7LdmdSHCJRp"
      },
      "execution_count": 29,
      "outputs": []
    },
    {
      "cell_type": "markdown",
      "source": [
        "5. Look at the result."
      ],
      "metadata": {
        "id": "J6tRNRGBCU2g"
      }
    },
    {
      "cell_type": "code",
      "source": [
        "print(result)"
      ],
      "metadata": {
        "colab": {
          "base_uri": "https://localhost:8080/"
        },
        "id": "ugH4Tzr2CVYg",
        "outputId": "66f6d1bb-0e48-41f8-cfad-093dea5462be"
      },
      "execution_count": 30,
      "outputs": [
        {
          "output_type": "stream",
          "name": "stdout",
          "text": [
            "                                               Name  fare_per_year\n",
            "305                  Allison, Master. Hudson Trevor     164.728261\n",
            "297                    Allison, Miss. Helen Loraine      75.775000\n",
            "386                 Goodwin, Master. Sidney Leonard      46.900000\n",
            "164                    Panula, Master. Eino Viljami      39.687500\n",
            "183                       Becker, Master. Richard F      39.000000\n",
            "..                                              ...            ...\n",
            "348          Coutts, Master. William Loch \"William\"       5.300000\n",
            "31   Spencer, Mrs. William Augustus (Marie Eugenie)       5.232886\n",
            "205                      Strom, Miss. Telma Matilda       5.231250\n",
            "813              Andersson, Miss. Ebba Iris Alfrida       5.212500\n",
            "480                  Goodwin, Master. Harold Victor       5.211111\n",
            "\n",
            "[71 rows x 2 columns]\n"
          ]
        }
      ]
    },
    {
      "cell_type": "markdown",
      "source": [
        "Which adult male passenger (age ≥ 18 and Sex is ’male’) paid the highest fare relative to their\n",
        "class?\n",
        "To answer the question perform following operations:"
      ],
      "metadata": {
        "id": "zZTSPNX2Clbg"
      }
    },
    {
      "cell_type": "markdown",
      "source": [
        "1. Add a column to the Titanic dataset, fare per class, containing the fare divided by the passenger\n",
        "class i.e. Fare / Pclass."
      ],
      "metadata": {
        "id": "j0qVUY76CmUA"
      }
    },
    {
      "cell_type": "code",
      "source": [
        "titanic_df['fare_per_class']= titanic_df['Fare']/titanic_df['Pclass']\n",
        "print(titanic_df['fare_per_class'])"
      ],
      "metadata": {
        "colab": {
          "base_uri": "https://localhost:8080/"
        },
        "id": "n36HuyJBC2wI",
        "outputId": "fa67af64-2568-4086-ec59-3920bef0b0e6"
      },
      "execution_count": 31,
      "outputs": [
        {
          "output_type": "stream",
          "name": "stdout",
          "text": [
            "0       2.416667\n",
            "1      71.283300\n",
            "2       2.641667\n",
            "3      53.100000\n",
            "4       2.683333\n",
            "         ...    \n",
            "886     6.500000\n",
            "887    30.000000\n",
            "888     7.816667\n",
            "889    30.000000\n",
            "890     2.583333\n",
            "Name: fare_per_class, Length: 891, dtype: float64\n"
          ]
        }
      ]
    },
    {
      "cell_type": "markdown",
      "source": [
        "2. Subset rows where the passenger is male (Sex is ”male”) and an adult (Age is greater than or equal\n",
        "to 18), assigning this to adult males."
      ],
      "metadata": {
        "id": "QWT_ssxrDJ2f"
      }
    },
    {
      "cell_type": "code",
      "source": [
        "adult_males= titanic_df[(titanic_df['Sex']=='male') & (titanic_df['Age']>18)]\n",
        "print(adult_males)"
      ],
      "metadata": {
        "colab": {
          "base_uri": "https://localhost:8080/"
        },
        "id": "wKR1aNt0DLge",
        "outputId": "97101a50-f185-4a3c-c478-cb53446d40f4"
      },
      "execution_count": 32,
      "outputs": [
        {
          "output_type": "stream",
          "name": "stdout",
          "text": [
            "     PassengerId  Survived  Pclass                            Name   Sex  \\\n",
            "0              1         0       3         Braund, Mr. Owen Harris  male   \n",
            "4              5         0       3        Allen, Mr. William Henry  male   \n",
            "5              6         0       3                Moran, Mr. James  male   \n",
            "6              7         0       1         McCarthy, Mr. Timothy J  male   \n",
            "12            13         0       3  Saundercock, Mr. William Henry  male   \n",
            "..           ...       ...     ...                             ...   ...   \n",
            "883          884         0       2   Banfield, Mr. Frederick James  male   \n",
            "884          885         0       3          Sutehall, Mr. Henry Jr  male   \n",
            "886          887         0       2           Montvila, Rev. Juozas  male   \n",
            "889          890         1       1           Behr, Mr. Karl Howell  male   \n",
            "890          891         0       3             Dooley, Mr. Patrick  male   \n",
            "\n",
            "      Age  SibSp  Parch            Ticket     Fare Cabin Embarked  \\\n",
            "0    22.0      1      0         A/5 21171   7.2500   NaN        S   \n",
            "4    35.0      0      0            373450   8.0500   NaN        S   \n",
            "5    28.0      0      0            330877   8.4583   NaN        Q   \n",
            "6    54.0      0      0             17463  51.8625   E46        S   \n",
            "12   20.0      0      0         A/5. 2151   8.0500   NaN        S   \n",
            "..    ...    ...    ...               ...      ...   ...      ...   \n",
            "883  28.0      0      0  C.A./SOTON 34068  10.5000   NaN        S   \n",
            "884  25.0      0      0   SOTON/OQ 392076   7.0500   NaN        S   \n",
            "886  27.0      0      0            211536  13.0000   NaN        S   \n",
            "889  26.0      0      0            111369  30.0000  C148        C   \n",
            "890  32.0      0      0            370376   7.7500   NaN        Q   \n",
            "\n",
            "     fare_per_year  fare_per_class  \n",
            "0         0.329545        2.416667  \n",
            "4         0.230000        2.683333  \n",
            "5         0.302082        2.819433  \n",
            "6         0.960417       51.862500  \n",
            "12        0.402500        2.683333  \n",
            "..             ...             ...  \n",
            "883       0.375000        5.250000  \n",
            "884       0.282000        2.350000  \n",
            "886       0.481481        6.500000  \n",
            "889       1.153846       30.000000  \n",
            "890       0.242188        2.583333  \n",
            "\n",
            "[506 rows x 14 columns]\n"
          ]
        }
      ]
    },
    {
      "cell_type": "markdown",
      "source": [
        "3. Sort adult males by descending fare per class, assigning this to adult males srt."
      ],
      "metadata": {
        "id": "Oyh5T990D12-"
      }
    },
    {
      "cell_type": "code",
      "source": [
        "adult_males_srt= adult_males.sort_values(by='fare_per_class', ascending=False)\n",
        "print(adult_males_srt)"
      ],
      "metadata": {
        "colab": {
          "base_uri": "https://localhost:8080/"
        },
        "id": "l191l1NAD4B-",
        "outputId": "588acd4b-b099-4f82-fb59-6ffe717c84e3"
      },
      "execution_count": 33,
      "outputs": [
        {
          "output_type": "stream",
          "name": "stdout",
          "text": [
            "     PassengerId  Survived  Pclass                                Name   Sex  \\\n",
            "679          680         1       1  Cardeza, Mr. Thomas Drake Martinez  male   \n",
            "737          738         1       1              Lesurer, Mr. Gustave J  male   \n",
            "438          439         0       1                   Fortune, Mr. Mark  male   \n",
            "27            28         0       1      Fortune, Mr. Charles Alexander  male   \n",
            "118          119         0       1            Baxter, Mr. Quigg Edmond  male   \n",
            "..           ...       ...     ...                                 ...   ...   \n",
            "302          303         0       3     Johnson, Mr. William Cahoone Jr  male   \n",
            "633          634         0       1       Parr, Mr. William Henry Marsh  male   \n",
            "674          675         0       2          Watson, Mr. Ennis Hastings  male   \n",
            "732          733         0       2                Knight, Mr. Robert J  male   \n",
            "263          264         0       1               Harrison, Mr. William  male   \n",
            "\n",
            "      Age  SibSp  Parch    Ticket      Fare        Cabin Embarked  \\\n",
            "679  36.0      0      1  PC 17755  512.3292  B51 B53 B55        C   \n",
            "737  35.0      0      0  PC 17755  512.3292         B101        C   \n",
            "438  64.0      1      4     19950  263.0000  C23 C25 C27        S   \n",
            "27   19.0      3      2     19950  263.0000  C23 C25 C27        S   \n",
            "118  24.0      0      1  PC 17558  247.5208      B58 B60        C   \n",
            "..    ...    ...    ...       ...       ...          ...      ...   \n",
            "302  19.0      0      0      LINE    0.0000          NaN        S   \n",
            "633  28.0      0      0    112052    0.0000          NaN        S   \n",
            "674  28.0      0      0    239856    0.0000          NaN        S   \n",
            "732  28.0      0      0    239855    0.0000          NaN        S   \n",
            "263  40.0      0      0    112059    0.0000          B94        S   \n",
            "\n",
            "     fare_per_year  fare_per_class  \n",
            "679      14.231367        512.3292  \n",
            "737      14.637977        512.3292  \n",
            "438       4.109375        263.0000  \n",
            "27       13.842105        263.0000  \n",
            "118      10.313367        247.5208  \n",
            "..             ...             ...  \n",
            "302       0.000000          0.0000  \n",
            "633       0.000000          0.0000  \n",
            "674       0.000000          0.0000  \n",
            "732       0.000000          0.0000  \n",
            "263       0.000000          0.0000  \n",
            "\n",
            "[506 rows x 14 columns]\n"
          ]
        }
      ]
    },
    {
      "cell_type": "markdown",
      "source": [
        "4. Select only the Name, Age, and fare per class columns of adult males sr and save the result\n",
        "as result."
      ],
      "metadata": {
        "id": "yPzdwsWQEO0u"
      }
    },
    {
      "cell_type": "code",
      "source": [
        "result= adult_males_srt[['Name','Age', 'Fare']]"
      ],
      "metadata": {
        "id": "Rx83o7EtEmUW"
      },
      "execution_count": 37,
      "outputs": []
    },
    {
      "cell_type": "markdown",
      "source": [
        "5. Look at the result."
      ],
      "metadata": {
        "id": "8R1Kwl4pE2Q-"
      }
    },
    {
      "cell_type": "code",
      "source": [
        "print(result)"
      ],
      "metadata": {
        "colab": {
          "base_uri": "https://localhost:8080/"
        },
        "id": "6gwpMJ71E3B-",
        "outputId": "fd992ba1-9e76-48b5-b205-0334d80b4d29"
      },
      "execution_count": 35,
      "outputs": [
        {
          "output_type": "stream",
          "name": "stdout",
          "text": [
            "                                   Name   Age      Fare\n",
            "679  Cardeza, Mr. Thomas Drake Martinez  36.0  512.3292\n",
            "737              Lesurer, Mr. Gustave J  35.0  512.3292\n",
            "438                   Fortune, Mr. Mark  64.0  263.0000\n",
            "27       Fortune, Mr. Charles Alexander  19.0  263.0000\n",
            "118            Baxter, Mr. Quigg Edmond  24.0  247.5208\n",
            "..                                  ...   ...       ...\n",
            "302     Johnson, Mr. William Cahoone Jr  19.0    0.0000\n",
            "633       Parr, Mr. William Henry Marsh  28.0    0.0000\n",
            "674          Watson, Mr. Ennis Hastings  28.0    0.0000\n",
            "732                Knight, Mr. Robert J  28.0    0.0000\n",
            "263               Harrison, Mr. William  40.0    0.0000\n",
            "\n",
            "[506 rows x 3 columns]\n"
          ]
        }
      ]
    },
    {
      "cell_type": "markdown",
      "source": [
        "3.3 Exploratory Data Analysis with Group-by Method Practice Exercise:\n",
        "\n",
        "Based on the dataset Answer the following question:\n",
        "\n",
        "What percent of the total fare revenue came from each passenger class?\n",
        "\n",
        "To answer the question perform following operation:"
      ],
      "metadata": {
        "id": "KFn232BEFDa2"
      }
    },
    {
      "cell_type": "markdown",
      "source": [
        "1. Calculate the total Fare paid across all passengers in the Titanic dataset."
      ],
      "metadata": {
        "id": "tw2lX5g1FGpu"
      }
    },
    {
      "cell_type": "code",
      "source": [
        "total_fare = titanic_df['Fare'].sum()\n",
        "print(total_fare)"
      ],
      "metadata": {
        "colab": {
          "base_uri": "https://localhost:8080/"
        },
        "id": "pVqnQidTFknz",
        "outputId": "e6c66a9d-a90a-4534-fa9d-75c0cf4fd564"
      },
      "execution_count": 38,
      "outputs": [
        {
          "output_type": "stream",
          "name": "stdout",
          "text": [
            "28693.9493\n"
          ]
        }
      ]
    },
    {
      "cell_type": "markdown",
      "source": [
        "2. Subset for passengers in first class (Pclass is 1) and calculate their total fare."
      ],
      "metadata": {
        "id": "Nryq6BTMFpq1"
      }
    },
    {
      "cell_type": "code",
      "source": [
        "first_class_fare = titanic_df[titanic_df['Pclass'] == 1]['Fare'].sum()\n",
        "print(first_class_fare)"
      ],
      "metadata": {
        "colab": {
          "base_uri": "https://localhost:8080/"
        },
        "id": "kctoFOjVFqUV",
        "outputId": "a5d21c17-b8ea-4796-a2d1-a6892a4dfcea"
      },
      "execution_count": 39,
      "outputs": [
        {
          "output_type": "stream",
          "name": "stdout",
          "text": [
            "18177.4125\n"
          ]
        }
      ]
    },
    {
      "cell_type": "markdown",
      "source": [
        "3. Do the same for second class (Pclass is 2) and third class (Pclass is 3)."
      ],
      "metadata": {
        "id": "zOPTuRpUF5T1"
      }
    },
    {
      "cell_type": "code",
      "source": [
        "second_class_fare = titanic_df[titanic_df['Pclass'] == 2]['Fare'].sum()\n",
        "print(second_class_fare)\n",
        "third_class_fare = titanic_df[titanic_df['Pclass'] == 3]['Fare'].sum()\n",
        "print(third_class_fare)"
      ],
      "metadata": {
        "colab": {
          "base_uri": "https://localhost:8080/"
        },
        "id": "Ycup8IPsF6GF",
        "outputId": "80b7aace-2dfa-48a6-ade3-47ae5db217af"
      },
      "execution_count": 43,
      "outputs": [
        {
          "output_type": "stream",
          "name": "stdout",
          "text": [
            "3801.8417\n",
            "6714.6951\n"
          ]
        }
      ]
    },
    {
      "cell_type": "markdown",
      "source": [
        "4. Combine the fare totals from first, second, and third classes into a list."
      ],
      "metadata": {
        "id": "ud0GoyK2GVyc"
      }
    },
    {
      "cell_type": "code",
      "source": [
        "fare_totals_by_class = [first_class_fare, second_class_fare, third_class_fare]\n",
        "print(fare_totals_by_class)"
      ],
      "metadata": {
        "colab": {
          "base_uri": "https://localhost:8080/"
        },
        "id": "Y3bmvc2gGWiE",
        "outputId": "74f96b93-316f-4a80-bcf0-5f0f5c308db7"
      },
      "execution_count": 45,
      "outputs": [
        {
          "output_type": "stream",
          "name": "stdout",
          "text": [
            "[18177.4125, 3801.8417, 6714.6951]\n"
          ]
        }
      ]
    },
    {
      "cell_type": "markdown",
      "source": [
        "5. Divide the totals for each class by the overall total fare to get the proportion of fare revenue by class."
      ],
      "metadata": {
        "id": "tzpiT3hOGrek"
      }
    },
    {
      "cell_type": "code",
      "source": [
        "fare_percentage_first_class = (first_class_fare / total_fare) * 100\n",
        "print(fare_percentage_first_class)\n",
        "\n",
        "fare_percentage_second_class = (second_class_fare / total_fare) * 100\n",
        "print(fare_percentage_second_class)\n",
        "\n",
        "fare_percentage_third_class = (third_class_fare / total_fare) * 100\n",
        "print(fare_percentage_third_class)"
      ],
      "metadata": {
        "colab": {
          "base_uri": "https://localhost:8080/"
        },
        "id": "XXq4vnqKGsAs",
        "outputId": "05bf80e3-27d7-42d4-c7be-56227c787d42"
      },
      "execution_count": 48,
      "outputs": [
        {
          "output_type": "stream",
          "name": "stdout",
          "text": [
            "63.349287718996564\n",
            "13.24962855496507\n",
            "23.401083726038365\n"
          ]
        }
      ]
    },
    {
      "cell_type": "markdown",
      "source": [
        "Based on the dataset Answer the following question:\n",
        "\n",
        "What percent of the total number of passengers on the Titanic belonged to each age group\n",
        "(e.g., child, adult, senior)?\n",
        "\n",
        "To answer the question perform following operation:"
      ],
      "metadata": {
        "id": "IyysTYyqHiXL"
      }
    },
    {
      "cell_type": "markdown",
      "source": [
        "1. Create a new column, age group, that categorizes passengers into \"child\" (age < 18), \"adult\" (age\n",
        "18{64), and \"senior\" (age 65 and above)."
      ],
      "metadata": {
        "id": "4IxpuNGuHk3M"
      }
    },
    {
      "cell_type": "code",
      "source": [
        "def categorize_age(age):\n",
        "    if age < 18:\n",
        "        return \"child\"\n",
        "    elif 18 <= age < 65:\n",
        "        return \"adult\"\n",
        "    else:\n",
        "        return \"senior\"\n",
        "titanic_df['age_group'] = titanic_df['Age'].apply(categorize_age)\n",
        "print(titanic_df['age_group'])"
      ],
      "metadata": {
        "colab": {
          "base_uri": "https://localhost:8080/"
        },
        "id": "6W1D9xAkIOv7",
        "outputId": "aa5b1b71-735f-4c9f-e938-0d7b6b798b26"
      },
      "execution_count": 49,
      "outputs": [
        {
          "output_type": "stream",
          "name": "stdout",
          "text": [
            "0      adult\n",
            "1      adult\n",
            "2      adult\n",
            "3      adult\n",
            "4      adult\n",
            "       ...  \n",
            "886    adult\n",
            "887    adult\n",
            "888    adult\n",
            "889    adult\n",
            "890    adult\n",
            "Name: age_group, Length: 891, dtype: object\n"
          ]
        }
      ]
    },
    {
      "cell_type": "markdown",
      "source": [
        "2. Calculate the total number of passengers on the Titanic."
      ],
      "metadata": {
        "id": "JeXS1DyVIfYj"
      }
    },
    {
      "cell_type": "code",
      "source": [
        "total_passengers = len(titanic_df)\n",
        "print(total_passengers)"
      ],
      "metadata": {
        "colab": {
          "base_uri": "https://localhost:8080/"
        },
        "id": "wd6yzzt5Ifj7",
        "outputId": "134af3eb-8a5b-49e3-d81c-68ca36c10784"
      },
      "execution_count": 50,
      "outputs": [
        {
          "output_type": "stream",
          "name": "stdout",
          "text": [
            "891\n"
          ]
        }
      ]
    },
    {
      "cell_type": "markdown",
      "source": [
        "3. Count the number of passengers in each age group."
      ],
      "metadata": {
        "id": "3ZHmGsqdImI6"
      }
    },
    {
      "cell_type": "code",
      "source": [
        "age_group_counts = titanic_df['age_group'].value_counts()\n",
        "print(age_group_counts)"
      ],
      "metadata": {
        "colab": {
          "base_uri": "https://localhost:8080/"
        },
        "id": "PvKY9dFkIz0b",
        "outputId": "50295097-d2d2-4e79-a9ae-a4d883543218"
      },
      "execution_count": 51,
      "outputs": [
        {
          "output_type": "stream",
          "name": "stdout",
          "text": [
            "age_group\n",
            "adult     767\n",
            "child     113\n",
            "senior     11\n",
            "Name: count, dtype: int64\n"
          ]
        }
      ]
    },
    {
      "cell_type": "markdown",
      "source": [
        "4. Divide the count of each age group by the total number of passengers to get the proportion of passengers\n",
        "in each age group."
      ],
      "metadata": {
        "id": "tQmNSEYcIz_R"
      }
    },
    {
      "cell_type": "code",
      "source": [
        "age_group_proportions = (age_group_counts / total_passengers) * 100"
      ],
      "metadata": {
        "id": "kl43K9DsI4Lv"
      },
      "execution_count": 52,
      "outputs": []
    },
    {
      "cell_type": "markdown",
      "source": [
        "5. Display the proportion as a percentage."
      ],
      "metadata": {
        "id": "UdwwsyY5I1ij"
      }
    },
    {
      "cell_type": "code",
      "source": [
        "print(age_group_proportions)"
      ],
      "metadata": {
        "colab": {
          "base_uri": "https://localhost:8080/"
        },
        "id": "vwxOGnyxJLDy",
        "outputId": "1e4bc396-28e2-4b24-f168-21931894beb7"
      },
      "execution_count": 53,
      "outputs": [
        {
          "output_type": "stream",
          "name": "stdout",
          "text": [
            "age_group\n",
            "adult     86.083053\n",
            "child     12.682379\n",
            "senior     1.234568\n",
            "Name: count, dtype: float64\n"
          ]
        }
      ]
    }
  ]
}